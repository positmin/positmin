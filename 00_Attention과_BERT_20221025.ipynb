{
  "nbformat": 4,
  "nbformat_minor": 0,
  "metadata": {
    "colab": {
      "provenance": [],
      "collapsed_sections": [],
      "authorship_tag": "ABX9TyPqjzcfBEtz6Z/pH2He4PiG",
      "include_colab_link": true
    },
    "kernelspec": {
      "name": "python3",
      "display_name": "Python 3"
    },
    "language_info": {
      "name": "python"
    },
    "accelerator": "GPU"
  },
  "cells": [
    {
      "cell_type": "markdown",
      "metadata": {
        "id": "view-in-github",
        "colab_type": "text"
      },
      "source": [
        "<a href=\"https://colab.research.google.com/github/positmin/positmin/blob/main/00_Attention%EA%B3%BC_BERT_20221025.ipynb\" target=\"_parent\"><img src=\"https://colab.research.google.com/assets/colab-badge.svg\" alt=\"Open In Colab\"/></a>"
      ]
    },
    {
      "cell_type": "code",
      "source": [
        "## 20221025 10:10\n",
        "## https://github.com/mrm8488/shared_colab_notebooks/blob/master/basic_self_attention_.ipynb"
      ],
      "metadata": {
        "id": "DaUZWP_UvCzq"
      },
      "execution_count": 22,
      "outputs": []
    },
    {
      "cell_type": "code",
      "execution_count": 23,
      "metadata": {
        "colab": {
          "base_uri": "https://localhost:8080/"
        },
        "id": "iCL2gcOme2XC",
        "outputId": "947317ba-bde6-4ca8-a26d-9b7f350997e4"
      },
      "outputs": [
        {
          "output_type": "stream",
          "name": "stdout",
          "text": [
            "tf.Tensor(\n",
            "[[1. 0. 1. 0.]\n",
            " [0. 2. 0. 2.]\n",
            " [1. 1. 1. 1.]], shape=(3, 4), dtype=float32)\n"
          ]
        }
      ],
      "source": [
        "import tensorflow as tf\n",
        "# 입력 데이터 (3개의 입력)\n",
        "# 숫자가 의미 : embedding 되어진 결과 (imdb(어제 했었음) => 단어 매칭되어진 숫자)\n",
        "x = [ [1, 0, 1, 0], [0, 2, 0, 2], [1, 1, 1, 1,] ] # 3x4\n",
        "\n",
        "x = tf.convert_to_tensor(x, dtype=tf.float32)\n",
        "print(x)"
      ]
    },
    {
      "cell_type": "code",
      "source": [
        "# 3개의 정보 : key, query(각 데이터와의 질의), value 상관성과 계산되어질 값\n",
        "# 가중치에 의해서 학습\n",
        "w_key = [ # 4x3 -> 3x3이 결과값으로 출력\n",
        "    [0, 0, 1], # 랜덤하게 초기화된 값 ## 단어의 중요도가 고려될 수 있도록 학습 10:50\n",
        "    [1, 1, 0],\n",
        "    [0, 1, 0],\n",
        "    [1, 1, 0]\n",
        "]\n",
        "w_query = [ # 다른 데이터와의 상관성을 구하기 위해서 구해지는 데이터의 대표값\n",
        "    [1, 0, 1],\n",
        "    [1, 0, 0],\n",
        "    [0, 0, 1],\n",
        "    [0, 1, 1]\n",
        "]\n",
        "w_value = [ # 상관성을 고려해야할 데이터의 값 -> 상관성(중요성을 고려한 값으로 재표현하기 위한 값) 10:34\n",
        "    [0, 2, 0],\n",
        "    [0, 3, 0],\n",
        "    [1, 0, 3],\n",
        "    [1, 1, 0]\n",
        "]\n",
        "w_key = tf.convert_to_tensor(w_key, dtype=tf.float32)\n",
        "w_query = tf.convert_to_tensor(w_query, dtype=tf.float32)\n",
        "w_value = tf.convert_to_tensor(w_value, dtype=tf.float32)"
      ],
      "metadata": {
        "id": "SuNZTnCEsiZT"
      },
      "execution_count": 24,
      "outputs": []
    },
    {
      "cell_type": "code",
      "source": [
        "keys = tf.matmul(x, w_key) # x가 3x4이고, 키가 4x3이죠? => 3x3\n",
        "querys = tf.matmul(x, w_query)\n",
        "values = tf.matmul(x, w_value)\n",
        "print(keys)\n",
        "print(querys)\n",
        "print(values)\n",
        "# 내각 각 단어에 질문한다.\n",
        "attn_scores = tf.matmul(querys, keys, transpose_b=True) # 행렬곱 -> attention_score -> 상관점수\n",
        "print(attn_scores)"
      ],
      "metadata": {
        "colab": {
          "base_uri": "https://localhost:8080/"
        },
        "id": "GFovqzMisuO3",
        "outputId": "0787129f-325c-4dd7-f989-0628fd4fe7f5"
      },
      "execution_count": 25,
      "outputs": [
        {
          "output_type": "stream",
          "name": "stdout",
          "text": [
            "tf.Tensor(\n",
            "[[0. 1. 1.]\n",
            " [4. 4. 0.]\n",
            " [2. 3. 1.]], shape=(3, 3), dtype=float32)\n",
            "tf.Tensor(\n",
            "[[1. 0. 2.]\n",
            " [2. 2. 2.]\n",
            " [2. 1. 3.]], shape=(3, 3), dtype=float32)\n",
            "tf.Tensor(\n",
            "[[1. 2. 3.]\n",
            " [2. 8. 0.]\n",
            " [2. 6. 3.]], shape=(3, 3), dtype=float32)\n",
            "tf.Tensor(\n",
            "[[ 2.  4.  4.]\n",
            " [ 4. 16. 12.]\n",
            " [ 4. 12. 10.]], shape=(3, 3), dtype=float32)\n"
          ]
        }
      ]
    },
    {
      "cell_type": "code",
      "source": [
        "attn_scores_softmax = tf.nn.softmax(attn_scores, axis=-1) # 확률값으로 표현\n",
        "print(attn_scores_softmax)\n",
        "## 요 값들을 간단하게 정리하게 되면"
      ],
      "metadata": {
        "colab": {
          "base_uri": "https://localhost:8080/"
        },
        "id": "Z2mcBhh0tzv1",
        "outputId": "c098ee76-5d76-4ae2-f6bf-1da610bfdeb0"
      },
      "execution_count": 26,
      "outputs": [
        {
          "output_type": "stream",
          "name": "stdout",
          "text": [
            "tf.Tensor(\n",
            "[[6.3378930e-02 4.6831051e-01 4.6831051e-01]\n",
            " [6.0336642e-06 9.8200780e-01 1.7986100e-02]\n",
            " [2.9538720e-04 8.8053685e-01 1.1916771e-01]], shape=(3, 3), dtype=float32)\n"
          ]
        }
      ]
    },
    {
      "cell_type": "code",
      "source": [
        "# 정리한 값 -> 간단한 값으로 정리\n",
        "## 간단하게 이해를 해보자 반올림 10:40\n",
        "attn_scores_softmax = [\n",
        "    [0.0, 0.5, 0.5],\n",
        "    [0.0, 1.0, 0.0],\n",
        "    [0.0, 0.9, 0.1]\n",
        "]\n",
        "attn_scores_softmax = tf.convert_to_tensor(attn_scores_softmax)\n",
        "print(attn_scores_softmax)"
      ],
      "metadata": {
        "colab": {
          "base_uri": "https://localhost:8080/"
        },
        "id": "x02J44QJuDNU",
        "outputId": "9f160aba-5068-4c0d-97bc-d91b8d202f54"
      },
      "execution_count": 27,
      "outputs": [
        {
          "output_type": "stream",
          "name": "stdout",
          "text": [
            "tf.Tensor(\n",
            "[[0.  0.5 0.5]\n",
            " [0.  1.  0. ]\n",
            " [0.  0.9 0.1]], shape=(3, 3), dtype=float32)\n"
          ]
        }
      ]
    },
    {
      "cell_type": "code",
      "source": [
        "values[:,None]  # 3, 1, 3\n",
        "tf.transpose(attn_scores_softmax)[:,:,None] # 3 x 3 x 1\n",
        "# attention점수를 적용하는 과정"
      ],
      "metadata": {
        "colab": {
          "base_uri": "https://localhost:8080/"
        },
        "id": "0KGu0u_9ua-F",
        "outputId": "feebcee6-05d6-4bd2-cab7-a95617ee0698"
      },
      "execution_count": 28,
      "outputs": [
        {
          "output_type": "execute_result",
          "data": {
            "text/plain": [
              "<tf.Tensor: shape=(3, 3, 1), dtype=float32, numpy=\n",
              "array([[[0. ],\n",
              "        [0. ],\n",
              "        [0. ]],\n",
              "\n",
              "       [[0.5],\n",
              "        [1. ],\n",
              "        [0.9]],\n",
              "\n",
              "       [[0.5],\n",
              "        [0. ],\n",
              "        [0.1]]], dtype=float32)>"
            ]
          },
          "metadata": {},
          "execution_count": 28
        }
      ]
    },
    {
      "cell_type": "code",
      "source": [
        "values[:,None] # 3, 1, 3"
      ],
      "metadata": {
        "colab": {
          "base_uri": "https://localhost:8080/"
        },
        "id": "tfC2gAhBzGJA",
        "outputId": "1b976d63-d513-4e5b-9929-6a327e5b5e07"
      },
      "execution_count": 29,
      "outputs": [
        {
          "output_type": "execute_result",
          "data": {
            "text/plain": [
              "<tf.Tensor: shape=(3, 1, 3), dtype=float32, numpy=\n",
              "array([[[1., 2., 3.]],\n",
              "\n",
              "       [[2., 8., 0.]],\n",
              "\n",
              "       [[2., 6., 3.]]], dtype=float32)>"
            ]
          },
          "metadata": {},
          "execution_count": 29
        }
      ]
    },
    {
      "cell_type": "code",
      "source": [
        "# 면 행 열로 이루어졌음 \n",
        "# 3, 1, 3 3x3x1 => 곱하기 연산(행렬곱 아님)\n",
        "# 중요도 ( 상관이 얼마나 되는지를 결정 ) : broadcasting 연산\n",
        "## 맨 끝에 있는 놈이\n",
        "weighted_values = values[:,None] * tf.transpose(attn_scores_softmax)[:,:,None]\n",
        "print(weighted_values)\n",
        "# 3x3x3 계산이 되죠"
      ],
      "metadata": {
        "colab": {
          "base_uri": "https://localhost:8080/"
        },
        "id": "Ij78UnNDugRz",
        "outputId": "9d89b30e-75b8-4070-bfdd-23e42fda3f32"
      },
      "execution_count": 30,
      "outputs": [
        {
          "output_type": "stream",
          "name": "stdout",
          "text": [
            "tf.Tensor(\n",
            "[[[0.  0.  0. ]\n",
            "  [0.  0.  0. ]\n",
            "  [0.  0.  0. ]]\n",
            "\n",
            " [[1.  4.  0. ]\n",
            "  [2.  8.  0. ]\n",
            "  [1.8 7.2 0. ]]\n",
            "\n",
            " [[1.  3.  1.5]\n",
            "  [0.  0.  0. ]\n",
            "  [0.2 0.6 0.3]]], shape=(3, 3, 3), dtype=float32)\n"
          ]
        }
      ]
    },
    {
      "cell_type": "code",
      "source": [
        "# 입력데이터의 수에 맞추어서 각 데이터간의 중요도가 계산\n",
        "# 그 중요도는 합해야 총합 중요도가 됨\n",
        "outputs = tf.reduce_sum(weighted_values, axis=0) # 행으로 다 더해줌\n",
        "print(outputs)\n",
        "# 입력데이터의 차수 : 3x4가 그 단어 중요도를 고려한 3x3"
      ],
      "metadata": {
        "colab": {
          "base_uri": "https://localhost:8080/"
        },
        "id": "L0h-DKWiunMR",
        "outputId": "ebc11a0e-f9e4-43aa-d790-383506346ece"
      },
      "execution_count": 31,
      "outputs": [
        {
          "output_type": "stream",
          "name": "stdout",
          "text": [
            "tf.Tensor(\n",
            "[[2.        7.        1.5      ]\n",
            " [2.        8.        0.       ]\n",
            " [2.        7.7999997 0.3      ]], shape=(3, 3), dtype=float32)\n"
          ]
        }
      ]
    },
    {
      "cell_type": "markdown",
      "source": [
        "# keras를 이용한 attention 활용하는 내용"
      ],
      "metadata": {
        "id": "S6f9R31X2JwS"
      }
    },
    {
      "cell_type": "code",
      "source": [
        "import tensorflow as tf\n",
        "# RNN에서는 3차원으로 데이터 입력\n",
        "# CNN은 4차원 장수, width, height, channel\n",
        "inputs = tf.random.normal([32, 10, 8]) \n",
        "## 11:16 # 3차원, 32개수, 10 셀을 의미, 8은 각 셀에 입력되어지는 데이터의 차수\n",
        "lstm = tf.keras.layers.LSTM(4) # RNN셀 LSTM셀 (입력 -> 출력, 수평으로 state선이 2개)\n",
        "output = lstm(inputs)\n",
        "lstm = tf.keras.layers.LSTM(4, return_sequences = True, return_state=True)\n",
        "whole_seq_output, final_memory_state, final_carry_state = lstm(inputs)"
      ],
      "metadata": {
        "id": "2doFsoCtwADj"
      },
      "execution_count": 32,
      "outputs": []
    },
    {
      "cell_type": "code",
      "source": [
        "# 행렬곱 : 다 곱해서 더해주는 값\n",
        "# Control state\n",
        "# Hidden state"
      ],
      "metadata": {
        "id": "bjOqVIhq8UOO"
      },
      "execution_count": 33,
      "outputs": []
    },
    {
      "cell_type": "markdown",
      "source": [
        "![image.png](data:image/png;base64,iVBORw0KGgoAAAANSUhEUgAAAQYAAACYCAYAAAAGLke7AAAgAElEQVR4nNy9eZBc13Xm+Xt77ktVZu2FKqBQhY0AF4AERYmSqM3aLFNWy+32JtnuGbc0HW67HdEOT8yEJxzdLXe4Ne623Y6xHBpb05623JbFsceSJTIsUbS4iSCIhQJA7EDtlVWV+/K2e+eP+zJrIUASICnKcyoyMivz5ct377v33HO+851ztYX5Bcn/r0REz/qNP5bR+5q48ec/JCK11/d97a26qz+g/tWj9onX2U9vnrzKOPwhF/Pa1Wtv9TW8sdIdkPJmN6T7/g+3Yni9A15/y9T9D6Z/u4rv9SrQN01edRz+cMrE5AQAJsD9b7v/5Ufc7pIjJWjdu7X1rsktp5Xq2G7Hbe4/rXs0t37ntVfW1DI6rfZDPrLEpu7XNl+iprpHdvvnZRNQ7x6m5BbbJ6N+CQIXy4wB4AcdLGLRAdGBltzy7/Z7ffPhoz4QUaO2X133azpACBjQbIFlgWlCIFR/6CLEMA1qrKGj0yFAIklEZwwBDT16dbOruLmYOK9yhBKBRCIR0e/EiKGhoQsdU7cBA9d3cSx1vlbLw7JMLENHSMnNFejtKRS9O1i2jZnXIk8/+XTvtXlbv/5q0lMOcstVaWz+V9s24rfL7U7YjVterTX50z/9Iv/ql39500T64VQE20XfNi66Ck3Kbgu7Gk7e8EDtFfv21cUybRrNKn/0hS/wa7/6azebX2+4aNEj9MCwlVI4e/YC2WyWbDZLvt/B0iEU0Kg3eGn9JQxdJzmcw9B1QtcCINSiPriJS/Nq+lL4jVu67lqtxpf//Mt89hc+w8LiAikjTafTQdccUqkksViS4aFBEgm79x0dDTBu6XduWSRbtaC26X1u8H4kb4JiUDcilBIpBEJX/2va1pEut2lKEf1vRJdkRB2ma7facd3zaki9Q6i1gQC5ramajI4TxlvmBnquh27omObLb0M1WAFACDUjZTThhdhYU/UbTP4NF0QgpUTqt6cgNJr4+DTlKqudWQqxoegTGzWqdEBuskxe9YRbjtO7ima7gScBAwzpgrBIyjpJsUpS+LRXFomHKaxslnOXr+E4Dp1Eh3w+hyebaEIjGSrF0LK7q+eNFcOrGcShE7xKg7ZKx6nRcSrUk6tkZ2K4532EDDEMZRXMz8+TTCZJpVLoGojwZhYf6Lq21QV5C9ayN8diAKQQhEIQhAFSSjRNIwyD6DOJNKJ1T8pN35HoUYfoXcVwqz6apn4jQOK6Lq1Wm0qzTCZZvMmFbrVqflCyvLzC7Ows+VyOqd1TWz4rlytcXb0cXV63n0Tvf03T0DTzxlaBrkXfef2KodVu0el0uH79OityjdHRUXRhMz8/TxhIDhy849ZPvNnV7N76rkWtR68DwHGg04Fkhn3791NeX6dWq7G62sGybcIwxDAMkskE8XiClt+8rXa+GSKlRISSocFBioVhQiHI5wfIpFMIueEm6torWM1vxJB8HUbybSuG69eu0263ME2Tqd3TvSuRmuB66RoLFQVq+na7N4A1TUfTtZ4C6A72zdJd8boWxq1CACJaenTdprxeZslY5fvll+gsHGPf9F5ybpHlpSWkY1EoFEgayivVNw9SeN1WhHyVJenS1Yvs2rkLgFCG6LpOuVwmzDU4s3iGzFgMx3GwbRspJbqhLijwg6h9JoZhRpeqRW2XmxbuYEtzNivgVxKtq5j1BGGphD3gUJgqsnJ9jQuli5iBDSYUCoMsrC0w1DccKSq2/LrWvXHRU+AH6LpBqOvoGgR01FjQHbpOJ4BmRNZvCGYspgyIZJZ4PMuOoUkSlsbp86eY2r2f+fkF8qkcwhMM2jnafgux1qbdamPsHYzaLTYpV4kRDTkHnYSdoNWss7a2RuAHDA4NkklmafltXKH6djsIvGUh2/Q6nyxw9x1HMIXCEiwrJJFMEgrBwvw8Y2OTBGGIaRhbrXut6zxtk+0uwO3IjebOazznbSuGcnmddDqN4zj4novnebRaLcKYS7PVYnBwEEM38Jw2xiaHuackbmIJdMdTz3S+RcUQ9k5gkslksG2LYrFIs25y9sI5jMUrDA8PE0s4rKyssHN4cqvS/gGh+clEgk6nw9zcHJ1Oh0wmw+zsdWi55HJ54kkd27QRSILA733PMJQlJSU9C6wL5Ekpe/2lR0r3VvtP77ksIaEIkVISipDh4REWFua3TIb5+XmG+oZf03lNq6vEuu2IARJ/23E6kfGgq3Gto56fP3acIAi4cu37/Mmf/AlT47v55Cc/yUunT5HJZPDbDWzLZthPIaRkZfkcQkpE1AZQFqnRvXzXR4QCWzdwHDWZT794Gl+EWKZFRwZomobUNfRNbrDYtJjdSNk++uijALQv+xSLRfLZAl/84v9JEMBv/uZvcs89dxMGKHdCSmSg7uFmV7vnSryFcNitK4Zo4okQOm2Per1JEEiyuSRrayWCeICQAmlp6LaOMDREF4neNOv0lw2J6FK6CqOHtnXj4t4rNyRUoI7TM7ldpPBwfJ9YGKD1xam01ugb78PFJaEVWV66xuToTgRgaJFOiCCNN5sHsH//fprNFoapBqbj2PT19zPrXyGZSmKaNqAT+h3azTa6YWDoOkZcDWKhuRGqzUYAZ1OUxxDq2ZKqQcLoWm2vbbQFMiCQAR4uPh4aBh4uIyNj5FN9aJ5NsW9ow9XTNlkJQNBT8Oqh6xBI6ARg6AraAQ0XcF3IO9AMYa0CngfVahnXdVmtuXiuy5kz18nn83jeOIvBFLscibAFQbODG5rowsdzfeo+CCFoaK5Sal2oNhoX3etN6TGkVO6mlBLLMggCjyAMAIEXyi2W7oao15cuXaJUKvHOdz5Ip9OhixV0LRLf9unoHTqBS9tv4ZBCExoaKrrS09hGd9zfYMC9Hvz9ZiDja5TbthjuvuduVkurrK6t0t/fRyxmYlkWmq1hmiYibOF5HoGzAWdLKXs+skBsBc+2uRX6G6QuY7FY77XjOBSTRfpSfQgZZ6BYeFmU9AcV/jdNi2w2SzqdBuArX/kK99xzD05STXxfqBWtU2/Q7nSQUmJbNjYS27YJNfGKk3x29joAk8M70A0DKSTaa8AbeqsrkuGhIT78oQ8TigivEFKtcgi+/e1vMzQ4yOFD97zK+VQEYalUxXVdai2fwPeZL9UIgpBaR+J5HqvLS9i2TSyVJxaL0d+fwDItctk+LMumUqkyMjLMOx8Y44MffB93jrpcu36V6eERXNclH4vRaDRpXSnTaDS55+gMAJq51TI1MNB1A8MVWKZFubTK8vIylqUzMDBIOpel0+mgOfGbtEid75vf/CZ9+Tzvf9/7AXC9No8++ig/+qM/CsDaQoOdO3eS1Yu8613vpJAdJPRRUfoANKt7vp7vzJYZ/XqG/xswdW4ffAyhMFCgUCjQqDX56l9/lfvvv59W2MKOW/iiTTyZRluGhcUFOu2AnZOTBAUNy7bBEz28QUoJmgIpRQQGJ44vARAcHFAuiWWiaxpCVz1qEFkQMmqCrdPptPFFklgshubViVkmR9//bloW2MKkXXMJ9RAjZfKNb36L/v4+7j50F7YN1e2+5OvsXPEa787v/N+nWV8v87X//XMUCgX+1b/5KKVSiY6skkql8MuCqakpWu02YRCwWL9Gu93Gc1LABh9DSrlhQQAfT90LwBdqf6aOowOAFVlWzWhg2oHqv7RvU6/XsQOTdDpNyfQxdB3Pkei6jhnGKJVK7EwpoPSPvvwVpJT8/n/8Owr9eXzjPACluSwAcysnCUOlUAxDJ+7YxGIx+lJxDMMkndAYGBxhrC+LpmtYjoNpgtU1GKN26BFS9549RwDwkeRGIYZLTHSo1V3SmQzCCIilk/z995+gWqnyT+6fwbQsvEApIgDTsjB0Dc/zCSQ4usbI0AiPfPURMtkUn/7pT3OhvkQ2nUV6aiD6ZmvL/bJP1pibm+MBd4JObJCrX/suY2NjNEcs1lcWafaiGTq1WoNsro/+bD8IMCzVsA2lsF3eBN/hNk9564qhu7Cb0Gm4PP30U5w5c5bPff636O/v5xd+5edZW1tHTzcxDYPB2ACxWIxOO2BtbY3TK2epVCtkYmql7FoRtqMhhEQK1WsfSe8D4NFjX1cmn6l+OIg0tiG3KoZQF7iuCyKB4zgYog1AJ1oxbE2jVCoxau4im83yZ3/21ywuLvFHf/jH2LZNw95KaAlFnEa9fktdE4QhraZCx4WMvcrRSlqug2WZfPazn+XgwUOM7mrRbLXIFh08z6O22MZ1XUzLYnBggJnEJPm+Pso9T0z0FMIWMPfbywD86EfVCqZpr6wYciLO6dOnuXrmEg8//DCLso1u6CzUlhkcHMKIFMOu1BSjI6N07CT9hX4uX76MFDsJrTWKxSKDgwr0O/rgBzAMiMXA1sALwTEg0e0rlGthhVGgwlBKYfP6LgFjm5VzM4tO13Rm567zl3/5l5w6dYoP/LMPEU/EsR0HzbYxDRM/8BFCYBg6hmUhpeCJJ5/g937/9xgYLPDAAw9Q2DlJuVUhZd7YYpibm2Nubo5yrYzjONTjNeKJOCvyNRI9ukbBDYNhm1r3ujnxr+/rt2UxCAm6CzHL4d5772fPnv3U3BK7d+9mYGaQVDJFaDZotdu4JZcg8Gk2XMbGxsjtG0FKQcpJbDmn56uJboTqkq5cXgDgo+/4OKEQeGYbKSV+BAJYXdMiUgyG7nDq9CkunL3Kj3/sYSzTp9lsMLdWZufOnVia4OrVq8xkD1EsFjCMftKpFAfvvJtOp/0ynoUXtslkNoC17ZjDzSjH2XRGXZb+2uLgjzz2JAcOHODw3gfQ0Tm1+D2Kg/0kchqe77F/aoTvPv1dwOfIkaPMutfQNA2769pLtrhkXWzhxd01isUiI+M5AHxTKYYuFtOdgl3FUL60RCZmMTGSRQvK7BwbwTAMvv7Y/8W/+MxnMMMYDhY78wnyOY1/+yu/FDH+IkyHI2ibRmPoh+i6gRUxNYWxqd809eu2BqZBdMC2jrlR/0owdfWRj42r2wRGldDwaHYaJPtSPPT+D3PnPfejGwrEU0CewEKnVFnHbfnk83mwBSknzd1HH+AnfuZTpNIx0v39NEUby7bRAjXRnWCrgo/ftZNk0aZyeQ4pPfJTOwgKBQacNN7zZ7FDBVo2DY9A9xBRrKgHeoab2qazaWD9cBHvbl0x6ApRRVePlBMnlYnzG//mfwYkF9Yu0mq3yeTzjCfHCYohS0uLlK0GQ8PDDA4YaGgYUiHfQRhuGdimVEtZZVkN7IGBApqm0TGVBdB1JbYrhvW1KrZlMzQ4iOM49PflyGQyfPOJ73LfffdhRQy4seQofdk+/vW//Oe0A7BNCDezuCN5FWLYTaOZG8k99k2O2Co/8Yn3R+fb+MUwCNA1B9d1Wamv8K1vfYtTp05x6NAh4sU4Ghot4SqMIewSyDbARSEE//Hzn2fPzAy//m//tULXe/wHbQuaLoXkxMkTNK6vkU6nKRaLnD79ItZaqbf630jkth7Sen9KLCuKngB+qBSABKUApETomlpgkFE8/zV1100thmQsiRWz2L9/P51Oh1wuj4mBT0gYCjzTY3V1lVa9g2maDIyMU26WKRhpdk/vpljM48QcLN2m5tcQ0sAwdFzX5ezZs4yOjlIsFnuP55crzC/M85677wZgtdLq9evtsU5/UOjWa5Pbwxi6hJRN5lCXyRh0XIxQ4jkQoKElJP/p//hd1tfr/P7v/x4JkpTCEgktpnSpriBr13VJxJOEgaDRaPLv//PvcODAAf6X//XXkFLgd7n5ERMQ00AIAb7k+PHjDJ+tsj8eR+hFVv/mSVp7B8lkMpiBJGU61MImLgLDF+ihQBoQN1UbjG6bNsnr1d/aa7zR6W3/SxRgXaVFIp1laX6FJ049Q7PR4PLaLMP5IUzTxOu0cRyHuKnQdc/3SNhxXN+lVCqxen2emNBYXlhieHiIMGqk1Ax0Q8f2AkIh0AKLfLKPmrvKmUtnuGP3FNKVCMsgMDQ8TdKRIY4Ovg6BodwAM1Jl+vbcjF5DlIWiSYmlYnNoMmJMamDr3ZV4MwDNjV9rmx5EkQ5N9vApKSWhFmJi4vsBjUYT3xMIQ0MzTAxdQ8NgeGiMeqzF/Nwyf/nHX2ZwaJCH7nyAYpgg2dRoXlklOzlIv0hQNWrE7RjNlk6p3qZ+4jznOM8/fOcpPvyRjzC0bjDojHN55Qrj4zuImyGmaOPpdsQ52YpN3Fzeglj5a5DXx3y8CWnQMA0c06JFk9KVBRaXFllZXufy5cuM3jOBaRj4bhSDFyFtP8BxHLzAQ7QFrWaTVrPJ8ePHWVxcYnJ8AjcCz24kxWIRzlY5f/48u6f2RudVwJeIGJj/2MT1XaQl2TM6wy/8/C9QLq9zeO9h1lnDEx7JRAIpJRcvXWR+fp6Dd9yBkdGxLZt8Lsev//qv4zgOY2NjPb5DV7rWA6h+GhsbY3ffOM888wznz36fn/vUp2gMJFiYn+9ZGdvH7PYh/DILa3P4bSNzbTPjqnvkjTtgsy+++eTGhnW3OcoyOztLMpEEVCRK1/XIOlL3vl6v87u/+7s4ZoJYLMZfffnPyff1MfiLOSYnJmh16ti2jef5KpIllRX0zDPP8OST32U4lmFubo6//O9fx3VdPnPP+wnDrbhCz2L4R5pqvVluTzF0tfcrKLhWp4FhmNy19yC/9Eu/SKvl88A9R7kmrxGGAaaMYZkWlXqDtbU1du3ahRQhtmEw2N/H//TPP41pGEwO9WPKDk4ENorIWbUxlcUQ6uweHkR+coSFp5/m0RfP8bM/+7M0E2pA+P/gEgQuDgInFAS6INTFxop+E7PvLatnEMmQlWWlvkIzXiGXShJ02rRFHRm4JCyTVgvSiQxjhV3ofpz1xSbri03ymX6y2RyGIHroIHQMoSaKjsH83AKXXvw+u3fvRvNtRBgyURynbWhM7zmAxEToBtKw0HULQzeRoY+mhwihIdFetX8C/cbgXRczjffAulfIhdHo+eSB76vrTxiRwyIAgSF09FCjtraG12wi/TrC6+BoQoXAo+t84dQJ7tm/j5/4iZ9E1zQO3X+YQ4cOUjCSPPLII+TyKUbiHvXaLDk9R18sQ7vR4sVjp/mNX/0NsnmLixcv8tFPfoz777+fJ594krXVVX40fxQrNGmYHq7l4UgfQwqk2ORvKy2jpPvWDdcq7YYv3wq5fVfiFUTTNHKxPJVOmSoVOp0O1WqdteYqvu3Tb/Xj6gFWhBe0223m5+fxg4CMrfxcx3GQQuB5viKQqMUAXdOYm5vj4tmLzMxMo/kqfXV0ZAdSSGb2qPh1LBaj3W7fpr/31ouHj6bpmIZJ4PvomtZjQGqajq5r1Jo1Th8/xfHjx0mmUvzxH3+BdCLHr/7qr/ZclPm5OYZHhjdwhag7zp9/iXNnz7K6UOWv/uqv+Bc/9z9y5513Agp57xvZi2mZ6Ib+1vVhtPhIKeh0OiratG3IdtvVaDRIpZKK3NRo4PvBljyT+fl5xsfHCYOAELj//vtV29pgWTbtlor+rFXXcByHwIzjeR6hCDEtEyklU1NT7N6l6P+mYVKr1RR3Z1v/iH+EFup2uX1X4lWUg48EadLsNEmk43T8Dr5soWlJ6gTkZAwHh7974iRLi4sA/PmXv0wqm+Izn/kMw8shuXyOtZUWg0ODdDQVBox7KTK6x9Wz3+HcCxdpzAb8P488ws//wk9z5MgRwnaD+tUl+jI7cFse0jQQujJhhaaiQEKDXih5e45EV95ifRKS5+qVOcLMNdxWE0MKDCEItQwCh6ThcuL0Ob79+N/z8MMPI6XkypX3MFIcZGb3Dq5dvIqTNnHiWZqtECeRQ9M0HC3k0a98lV3TYwwPjzB79SrL5bs48sDd+L7Peb/M5L57CDUPzZTowkYTNkagY4o4gaFWfWM7D2db/91sasR7HsRN6maITScOAAvWF9c5f+E8b3vXAwC0PQ/bhphh0ZI6mmawZ88eFhcXcZx1MpkGc9dPMTg4iMRncWGRQp+gsn6eyxdCUqkkcdvhypWrZDIZ0rESum7g1i8QwyNjJ1mZvYTveQwX6yzNPYHrW+zevRv0pCKYGQGao2GYJiIM0UMdPTCwcUCC7zewrRjPvfA8d951J4YWTbWugdQzlCLLSXYpt37kZpm9TNpXpUh3Ae9IEd6wJsOribYVNL19xSC4YTy2l0kpA65dv47j+wRBiGVZmKaFZZqYWHiex9PPP83c3Bx33HEHmqbx0EMP4cRtJnbsQCvP4bkuMV3D8zzYFDX6ylf+ipnduxkbG+PMdy/iui733qcIPbquk8lkep3zw2ox1Bt1XNel0F+44ee1Wg3XdalWXVrNJpZlEYQhIQGepmFFgO173/teDh48hOd5/NZv/RZZO0Wj0+DJx7/L7t27qdVq1Go1ds7sxjRN3LbiZrz3ve8jFU+yd2aGB9/5TgqJUR577DEqlUovr0HTtC0AH6i07+0RiTdFuu6qAM/zWFxYZOnaIkMTw8Rtm+vzV2m1muCo1du0TLK5LHGvRbVapb+vn3a7jRAeuVyOpeUlCoUCqVSSRqOJiIUMDA5w6dIl4vEEQoQsLS8zsnMMz/OwbcVzGBkZxrZtXP/lbe6O9ZfhLVIQi8WYm5/jH777FIZpcGj6oCJy6aZyX7uK8UZwhKb8DX2zl/VKrnuv1tGrhNZuQW5bMdTWqximSTKb3LT8qjoMuq7hlSV+WRCGLp2aRxiA6ICmBWiGZCCew2/X2LenyI+85zAWFm87OoMX6uTSeb548gTZVJZ9eoPlhWXynTzFYpGqrFIRZd79wXcAMD49ysecD6BrSf7hiSc4PXuBe6ffR4DA18HQJLomCRAITT2214J4K6RWq1GtVm+qGGyjRF+2jWiXSabrtNttgnAONzQJAp3FhXmuXzvO8MgwpZWTaLqGaZjM1+tYlkU8XcMVs6zWO/hBQLnqY5omQatGKBeoVedZXGwxMjbGrvQwZeFBMsDzPNKpNG7QQtND9NBADwxMBBYSU5jUKjXiuWTvWqV8+eJky85W/n/3te5EIGQ3e3brN/2I5GRGC0+ggWtA6BicOH+GA6ZHNptlbnUBy7RI6DFkoKFLgS4FtWoLEepo0kQXEilU3QqvqSIpiBjIEEQMIQRuW0NKKBSGkELg121qnZBEPCQMQ/zAwA90BBoCE00FWBFSkO/Lq4hIGALKcjEwCITEwGTh+jXefv/beenMS7jVNrqucf+996HpxkYKwI2ITFIQhn6kjPUoB8bckgvTLS9QKpUoFovomxIVVVREzcPblduGT7sr3vbcj25hkXa7TT7fR39fP612m3a7RavVptVs0m63OX72eWq1Grquc/7SeS4vXKbValKuVDh15hSdTodms0mz0aTRaCCFpFQqcfnyFQCuXL3K3PycwiI2XUQ2qyi5mqYGRBdV75FdgPXK+u02+w2TwA84/9J52u127z3Xc3uvs8ksAwMDZDIZCoVCL1Mw8H08z2NgYICZPTN0Oh0836PT6dBoNlheXmZ1dZXp6RkS8UTvWNu2o5BwnF27dlKr1fA8j3J5ndVwVeUb9PWRTCXxA39LnwJRH6rh8tVHHmG9UnnlBt6s1sBrsOB6anvToYVCgVarTblcZnl5WZGnbBvD0PH9ACEE9XqdWq1GGAYsLy1jmCamYbC0vEy73WZ5aYl6vaHch3SaxcVFCoUC5fV1rl69imXbeL7P+Pg4zWaTdqvN9evXuXZNlRDQDaMXCenmjkghtlDRu+L5HhOTE+zfv5/3v//9UaKcg2ZZKqPMUISg48eO8V+/9CWOP/c8x597HoDjx57n61//Omtr6/zd1/8OwzD53Oc+xxe/+EV++7d/m1qthu2YnDhxgvn5eR577DF0Q994aNywiM+tyG1kV6onw7J4+tlneNd7HiJlx9FwWF6dRZMQuD5DO0JKpSaG3+DgwT6uXb1KIlGmFZTx2wLNadA32EbTa4SGyeJanXwuh/BCmrUS79yv0Wmv0VkpM1IsQmggAslIqsHb7kihiwv47ZB6kMO2bDLSxpQeMcNRSLzZ6tGAtzRYM3nkkUf4+Ef+CX19/ei68YPNntomJ06eUMlTtsOLp1/EL3iYlolApQublkUQhCQTKsymByFChPhBQLVaVYlHsRiNep1EIkkylVSFVNo+ff39eELguS6+r1baem1N5ZJoGol4nFwuj2EY6LZFtVpVZrlh4vturx7EZvne955jbHSMxx9/nJmZGUzNZN++GTYHeVT5OUfxHHQIApVEKELlUVts6IdauCn8GOE/UsKKDi0XFpah0RigbJicWTnDs7OrFItFYsGLPPTQQwgMTCfFQCJOKjNKY7lFyy0xs+eB6KSCvsI062WNIAjYu//thGFAIAT3vmM3Igy5utCiWCwyc/Be8oks1WaVXft+BBGGPPbkFab3PUBxZEglk2kWQmoUioO8+P2zNNuKZr20vI5lJ/BDENLA8zxGhkdIJ9M899wx/FaHD334QxtVWqKwzsTEBKVSiYOHDvKlP/0SQ8MDuG7I0vI8jUaZeCKOrmncc889FItFSqUShUKGhfkVLl26Qi6vSt5tLwX4euW2XYluuurVK1cYHhkhnlXmcShD7LiNo+nYtkW76bG+tobrur14uq7r2PEEmqZhmAaJeFytSIZOvaF84majTTar6LyxWAw/WvnbzTaBH5BOp6lWN1YtKcQWFPpm8tRTTzE4OMhTTz0VDWyL3Xunb3r8myW6rmNaJvV6nTNnzpBMJHvFWAA6bodWu01rbY3Z2euUSiVm9uyhrcWxLYvyaomlRZVoVugvYJjKIQ38AF3TWa1UCIXATCexTItDdx7ipXMvgd/k3LmXMOwUff39pLIZTNMgbjiEgVp501oaV2uhRyxJIQRaxAsoFosKFF6scPnSJYYGhl+mVzdPdFBpxq6nipSAAi87HQh8qHuCIAhZXl6i0Wgyv1SmXm+w2ApIJBIUhnaQSnMR4KcAACAASURBVCUJQ4EIBUKE/Jf/8geI2rc4d+4lSGi4rsuV2RNMTEzgr62h6zqnzl3BcRyEUNGJSkWd98UXX6TZbGBYFpZtY9s2x48fx3Ecnjt2DEJleWjRvZjZN6N4MtE96xaz279/P2fPnuWLX/wiQghWVlZYXl6mU28q6n5TJ5vNEg9TPProY5x6/gU+//nP86mf+9SWcdC1Rr75zW9y8OBBhgYHGRocJJF2OH/hApM7pvn7b/09169d5/nnn6dYKPK3X/sGQRBy7do1yuUUzWaTarXKRz76oTdqeN6+YhCaIJGKc/XaFWJxh/WGR63WgKTAtm0q9RZ+J0G1IZldqFKvd1iv+nSMBIZpsra6zsVLDXTdJB6LYVkZ6oFPZS2k3ZKU6+usBg5D/YNcvSKZvHuEhYUFvEqSly75WFkP285RkAqoaZoaTUPDMwM6ho+mmfj6RvO6LkWxWCSXy1FZqXPhwgWGB1Q+hNgoK6CeX7cF8cqm3OjoOAMDQ8xerTI+XuTS1bPUa01SgzEcJ07aGSI25OHHR6lVkyRiZSbG76OjJ7EMk062TKut3KZdU3cQj6vcEykFQgge+/qjZLNZ7nrgKPlYjnKnwsE7J5FugyefvMzI5H5VFi1TxNAd1loBZqIfjDrXqwuk00k0TRCGIUEQqGwoXWfXnmn6Enn6cnXyq2uMFFX/dV3lUIIQsB5FL7xAsbabDYNKpcXslStUKhWalQamYZA1AnRDp7+vn1QqxX137iKVTjOYV2FAx/Tolmup3bUfT0p2xs8xufvjzOzZw1JthVgsxn/6z/+Of/qxn2KoL6sUgqXITb4hkEIqAp3voUvwPF+FIKP3f/pnf4pOp0MqnaJaV25mKlZU9HI7oCMDglAxGSWqpJ4lPT788fcifXMDmO0WhhES/5pBNptlemIfY8PjhD/l8alPf+qG4ZojR47Q3z/E88eeQzdNnn/uOYZGh7jz0N38xV98lYd/7MdIJVUOztGjCmQPAkE8bvPud7+bkydPcu/9R7Yq59c5fm9bMeycnmRocJD5hQUmJiY4c/GEQnOTOoZhkkpnyKQzpBMh1WqFSqXC8PAIgWNh6zZuvp9KuYJpWkxPz5COpwgRSD9EhIJH/uYRMpkM73znOwGoWwrscQJ4+umnlOk3M4Mv2eIPt9qvTEWdnp6mL9vHerZKPp9neGDkdrvgdYkeRVuOHTvGsWPwZ3/+h9Trdf7pr3xCpVVLH8dxSGgdvv/971OtVAFYaQZIIcnGHV588TQAi4tLCn8IQkzTIBaL8fTTT6PrOtdXl1WBF9Ok3Wrh1suEQrBn1wwhAp+Alt+ikBhnamqKk8dP8MhXv0q+L8fly5e5cO48O3fuxGs2WFpeZrRvP8VikT//0lc4e/Ysv/Pv/gNvf8fb8TyfUqlEpVymtFrifDuJCEVkKYYMDAyQSCYYHR5mamqKwb4Ytg3F2FYV2qMESYmldRlOIa7rkkqnCTWdz/4Pv0ybDo1mk2ulWSYnJ0ml00xMTJCJKYUS5eLhG93CPYJYPIYMBOmM4od0Oh08z6Mv10fbbWOYBpqRJx6L06oLVS3LUfUbvI0sEDR0rCjeKC1V68IyFQIfCHV/SrLOjh070DSdn/npn+JmvurExATHjh1DQ1UaQ9M4fPQoJ144xpWrV/j4ww9jx2x27VJlAEulNYrFfkxT5957lZIYGxt7A0bkVrl1xbD5LmqC1fUSp75/ki984Q9xXZdP/8ufoVyuEO9PK9dCa7O4uEAQhFxf+FsyfTk83yNpJzlz5gwAy8seYbCVtvvMsTNkMhkqLQ3f83EsCyEE1WoZw0wzPXUnMgRDhlHYKOSuA/s5/uwzfPW//wV9+QJnz57l9IkXmZmaoVxbY3l5mZnUZQrFIv/1v/0FZ86c5X/73L/ngQfeTqWSwzBgseKjGzqevrXCVK1We1lXuK6rUr23SbPRJBRb6bJhENJsvbxg6VxLUZH2R4VV+7M5KgLiGYc//dKXeP/73sehe+7uWQRj3WCAJnjgHYe3nEvKjVzHB3/kPgWQdX9fBFi2zuDeA4yNjdIS0QooFOd41b1MOif52U99gpdeOkcQSArFu3jgsCrEYmXi2JZGMdVHX3+WAwcOEgaC0clJrs7Nc/bCFUX2IWDn9DT3ZNOYlkkm7mDbFp7nY1kmpmltSrWSmyackq4zZRHRp6UDGjh2gjAMUZFUQRwHQYeRfIG585cxOgY0Ja6nLBAvFkU9Iq5lL7SoAX5IRwvRNAPLSdLoeIBB4EnQTJrNDrrpEAgf2dpeacxFAht3Xd1nf1NFslKpREJmSZgOIlThzF51q26WXcRb6C8O8SMf+ujG6TV11Xfefbj3hgQKg/0b9xmF1+QLOcIwZHhs6A1n6t42+IimKiINj4wgpeTQnYcQoaBQKBAEIfF0mscff5zpfTs4ePAQAMlkAs226HQ6ZONp0mlVbCSTzmxB5wE+9EHlL3Vr7PkdhWlkszs4evToDS8tm83y2c9+lpOnTiKFxuHDh7n3HqVVu1lxmaZ6PnRIsfymp2colUocf34W3TAILIXsavGtaE4mk3nZ72UymV69wM2STsXYlsWNrkMqtfW9Wg2+/swl3vH2Ke6N3UU6leJC+UUC3yeWkVy8eJEf+7GHGcgP0Am3Aak32C+hqxgMwyAiLhMgCEWAoZvUG3USiThJPUVd1nqWlm4ovMPAILQkhw8fRovK9lvR0qtJwbVr19g1cg99yTzTE3eTz2/0ydSeXb2otS83AMbue2b8ptVJXrOo1PgugUYnmUzTJ/IYuk6z2aDZbCFjJkEY0GgGvQWjG43Sdb3Hn5IavYpUqu+6oGBUgxEryvq8tTLyoObFkcOqsMz2cfDq8tpmePe828sFvFFyG2nXXY0nwdAYHh6gvz/Hvv17icdj6DHJletXiPWbfPeJb/HBj32QfaP7aNEkRCCicvKGbqgHGoEIexq9G+50DaWBN4eCpJCgCTQNPLqKZGtxTsu0OPK2w1hR9p4dKs6+LzqUSiWm4neQ78uzb9d+sn15kBpCSvbsighRqFXL+gFEKYQtue9j3dLxKZCwMz7Di5dexBtssTxbxghjuJ0Qja0T64bhb6mgsdCVhHT71EDXTTTDIOM4+F5IgwC9m8ugq/wJ3/MRgOeH6IaBLiOCEyoq4btt3MAimRwgQKeYVxWcuwNIDyHKtMYMQb/JyOraMGphlNg3mwibQZ8uBeJlVXsNCokcSc1hR2GCnQOTpDJpDMMk7CWBbySDa9usExn9aWi96+pSrmVkCejh7Xrb4aZ23vq3tVcp1NI9r3GDBLc3Qm7DYti4Cl3XsJ0YthNThA1NZ7W+SKlUIhaV3y4Wi6x0VjANAyElugTbtgnCgFa7hS654arb0+Sb9mpTWv3meX3KdFYKxo/yC3p7WWiSSqVCfjQPoJRCtx3aW5MPdyMCiu3YzOyZ4dTi06yvr1Eur9Oo119Wr/FGcZct9QCMjQxKUICbruvoloEIRY9VF0gR/d+diIY6T5eOK5Ri6LSa3LHvjogc9vJU680L1+ZLlWzU+XxDJBoDoQjVwmKYKoyraRiGgWlYvexGDY0QiSe8jejKpuvoRsL0Tcff6FqlCBUp6c2QDa/qh0puPyohZI9hBYCmE/ge2XQfdx08zIXLL1JZqLB2cSNurukauoRm2EQ3dESoKiO2ww6GaUR1BUI0XbHLVPnu7TdEDYwNwHFroRIReX9GtJ+AJpRfr1uSO3YdBF9TN6Pb8ujG2Iq8dtNU8h+kpFIpDk0cZTK/j4ncXgqFDf9SRHUUNU1VeErEk7Q7LTRN75XpF1LiuyqBzDIttAjoNA2DEDVBhNCwbRvN0AmCQJnZQvRyIAytu4IaSqEYmqLcBlZEV+4S9NUXzK6pxcaz3HSfXkaYuu3eiSp2GSYilOiaiYaJaaRo1AMyGWfjEkIwAzANCzz42tf+jgMHDrCwME8qnVauRGSh1ut1RkdHsWIW6+vreF6HcqXM6PgId9x5iKf+4buUSqsAFIsFfF/xSIrFIp7nMTo62sOhdu6c5PyFs1EnKMs1kbAYHx/n4sWLhKGgXF7ljoMHGZuY2OiQG617b5HctmJ4+Won0XXl25p2nLGxMcbHxxkfHycWi/UGs7GpipBhmATRgDUjVLdbRLW7P0S43aTStiqCrmLY8BGjgdozDa3IVIzW2C5qpN9gN+LuMqyYqG+pGLree+iasWGC6xIZSmJmEsd06PgdNcE3l3cDknZ+09k04naGjQ0ou7c9JEQizc35D5EJjUBKgSb0aC+LyLfvrXAyYjeypYhKV3rXq914Fd448BZnQlcfiajykw4ylHQ6HRJRPQa36eHE7K330YKpqSk0XaNQLLIwP0+9XmdxaYlGvY5l29TrDaQuuHz5Mo1mDdMwKa2VmJpS7l6xqOjrpdIqmqYxOjpCqVTC83ymZ6ZZWVF1Nufn51leXqZYLPL906cZGBig1a726oKUVksYOsTjN6tE/dbLbUQlbq7rlQWhUFQ97CemDeFoY8S0GAlrw4ffLOV2lWQ2S6fdQdd1kob9yvt83uznu6ASfjQo1e7HSGV5bNRfUE+ervzK3gYo3TZsrsn3FoojUr2HKe2t12RAq9ohkYjxvSdOsGdmhuuzs8RjMbLpjCpu26wRBiHpZApd1wnDgHq9gRAhyWSKwZEBTp44Sb3exHEchoa7e1N2k3tkxLRb6xF8SqUSWhgBxnlBeb3M6PAYpmEwt7hEpVJRPId835ZhcqNEo00fvnJHbP+4q98DSdxRH9ZdwcjEHlbKLYRukc8mejGCLtoAOv0TWZLJJOvr67x93310Oh3KlQqB75PL54jHEzRqbSamJ5ia2BW5GmpkHDmiAO/N7pptq8XMj3YHGxkdBQ1CN2TPXlUw6L4jb1fniYoSh1HqvO+7GKZJGIQKQIwWwO4C1t1Y6K2SN23vynhsaxHNUKrFQUeZb67rkkwmmZ2dpdlssrKygmVZJKw4lmXSiUp+61Jp6mq1iuf5rK6usGvXLjKZNGfPnqO0ukwsFmNkRO0vUGmWKRT6CYW3ZWCbpk6pVCLeUWxKfVhVPR4sqLqGlbUqlUqZA7umyeSyb1a3vGbRddB1Y4OyvU3i8RhY0Go2icViPfbdi6dO02g0qFbLpNNpxkZGSadTXLhwgUpZMUVz+Ryf/sVPI6SgWq2STCV54YUXojOrgdnsNHnwwQe5ePEiFy9eZGpqiiefeorB/E6Wl5fJ9klW11Z5/3s+wOXLl5mdX6BYLDK5e6rn/28VuQ38e33aN+7oBBJOnDrLCy+8QCwW4/HHHyebjvPxH39YVZDTuoCjRsdrcebMGfbv38/58+c58fxxbNvuRZaEECwsvMjy0hqGaXD10lUefPAdrK2tc+bMGYQIe5Tk1dU1stkstm2zd88eFpeW0DSNkZERzp07RyaTYW5e7etxYP9BVkslBgYLai9X3+fUqdMUB/r56Ec+orCLzRaXfGsVQldurhhusXx1EASYlkmzGeI4BnFTJ+wExPQ4YSfETHVzEpRZmUjoBH6dVqNCzDHw3SaVcovlpRWq1Sq1SpV4LMahQ3dz8tQLLMzP02g06XTaTO7cyT/7yZ+k1WpSKdew7TbXr82haRqFQoErL72AbhkcPpzk6qU5VhbWyffnOHX6NCPZMWZnZ9FTJqZp4E3uwvc8zp99iVw+x/6p3cp8eLPrM2jdPPyuqbO1dnrHADufoBl2SJHs/X7vMiIj4r0feC8AU9O7CIVgekaZvUvL8/T3q0rYlUoFJ+0wNTVFpVyLiDw69z/wtl5Kta7rW9KrdV0nCEN279mD2+ygG7Bz16TKTgR8T+VpGIbFjsmdBELgBz6pbJrQ9aPyz2xAUELb5p69Sofq8oaHiU0u7Hq9yV9/4yS7d+9hYGSE9XKZSnWO//bX3+EnPvggsZiuUFEfvJrPgV13YGsxHOIsrq/geRVqWeWKDRQEJ5//PolktC9JXKNWq+E4cWKxBDPT0ywuLVHoH2Bq13SkUFP0FwZotV1SyRRSCHZPKyJSX1+ahcVFRkYUgc6yLXKJJBcvXuDAgQP09WVVQRfNJwxDBeCDykIWIZb91ioI7eknn5b3v+3+13cWuUEH7ebyt5uCP/iD3+enfu7TjA5ntx6MhpBtdM2htLJMcWCYxcVZRCjwo7LjSwsLpFIpBgeHKa+XabdbJJMpkskEtm2Tz/cRhgGGY0EIjYaqM5DKpiGQrK6vURgogBQEQYBhGczNzzGSVSyxql/Hti1SSeWXSjeg1WqRzGfoNFrEUomtYNCbpRh6SJ2GiKqRXbp0hWdPHlN1GAyT8fFx3vWud2HewHg49uzz7Nq1iwsXLhAKQcyyyGZzuF6T8fFxrl+7Rq1Wo91WZdHvPXIfvh9w7NhzUcakGoCLiws9l2FycicLiwvkczkSiSRXr14hm02zvLxMPJZncnInpZVrDA0NYegWS8tLLK4sk81mOXrfUezEpihTF7cRESbR3YwSXsVouIliiBRpoMHffu0bVFt9tNttnnz2exy9/3527shz9eo1fvGTH8JxdAydXsGXoOkTSEGn01abzgQBmqGrZDHT6lWJarWa1Go1pmemQYMrl67jOA4jO5R1WVpYV/kl8QSxtAU+hKGM5oAXVZxqkUgmCTxJIplQ7TCgXFpTwKnwyWQytNwOqXQGt+3T7nQQYYjjOCRTP2D8QYNnnnqGiUkFhr4xroSmwEgZ3bRzF65y7PgV9NggX/1/v83U1BTvuGsXmUwSTDXbdC0OIawsriEDnZWlNTrtDpZlkclkyOf6SCSSLMzP0+50WC2VyOVyHD16lPX1Mo8++qja4Sgep9lqRaFJRXsdHx9ncWGB61fjFItFrl67immYqhS4d4477zzE7Ows8XiCXC7H7Owsq2urJOJx3va2txFPJF8WD9xaTYc3QVEo92G9XOP554/RcGYYmh6k7LZ48sp1fPEYH4i2Q9ssZtLB1QJqbpP5BQWo5fN95Ow4CwtLvHTuHKBCxO1OhwMHDrK2ukqn02FwcDBKfTcYGBgAlA9dLBZZWFzY9ksRWVnzQPdouyGtToAQHtVaA9Ow0DF6Y0DR86JQXzeWKaWKYtzKYngTy00D1msdYtkUNddlqVxjab1CPA0dKZCavmH0agqQfPbZZ1lbXeWh9zzEs899D8/z8DyPWDzGyOAwiXic8xcuUKvVSCaTLC0tMzIywtLiotqaT4aUSiW+9+yzTO7c2aOa9/f1USqVVG2GaFsD13XZs2eGEydOMrNHkehazRaOY9NoNMnnM6TSaa5ev84dBw6wulphZWUFXdcZHBzkHQ8+cAud9MbLG4oxGKbB/NIa3/nOd4gnxjhy7xGa7Tbnzp5lKCXYu3cPibS1AThFVXY1TWNlZYW11VVarTbpdBrd0Cn0Fzh16iTtTod8Lsfc3BwTE5N4vkez2WDf/v0szM9jbDKDfc8jlVQAmQpBjdButenry6NpGsvL0dZ3UfqyqkdZVZERy8K0LDVwtymGwPfVZ29mKFPCS+deolqt4mZdvvGNbzC+Zzd79+3l4qlHePAdD74Muzl4xx0EIuTwkcOMLY1h2RbJZBLaHol4nHuPHKHVbpNMJPE8D8dxmJ6eZnBwCE3TiMViUXVkT4WTo3vzjre/nSAMsWI2o6OjWzI/AXbu3KUiAoFC+52YTaft4jg2rWqLeGQ1KP5AgGFahIGPYW4iam0iL92qeMDk5CTPnrzG+Pg4n/jEj1OtVllZWSGTyXTLHfR+x4nbBL5PrVYjV8iRTqdpdzq9tPIwDHrFc4YGB7FsG9M0KRT6GRkeplypkEql6MvnGR8fV/ksnkcYBkxO7iSXzyOl6CkG0zAZGlZ9PDwywvDQEOvrZVX/obyOpkkmJidx4jHGd4wzMrqDhfkFTNNkfHzH7XXKGyhvmGIQoUQ3NI4dP0Um20/JTfLdv3mcgwcPMn33u3j+5OPsnL6DRChA1whdMBIG09PTGIbOu9/9bs6/dJ50OqW2NY+Q3v379/c4EKDIUKmUKhjbbrXZe2AfnYbi/WtRqrdmGRQHBmg06qSSKT7w4WEIJGvraxw9qnIIBgeHVPA9kAwPD2GaltoKzjDoNFrYUShJpZdHezCaBhvbYfOGRi98V/mVi0uL7N69mxdLcPbsOYaGhlmbXSSdGKVe1Yhv2/nuW9/+NpVqlYfe/W6uXruK53m0Wi0MN2B4ZISdkzu5cOE8CwuLxGIxRkdH2bFjB+fPv6TAs337mJub4/Sp0+TyCphNxOPqd9fXqNdqqjhqlKC1Y8cOXnjhBIcO3aWSpioVtVVbvU48FmPHxA7Onj3H/v17cV2X2dlZPM/jvvvupVgsknCs12VxdaGHpAZH9k5QXa4xf/U0B+86wqXmMqHe4eD0jII4uuFKRePkvvsPc+iuA7RqNXZMKCq/aVqYpgFCYug6M3unkELgODHqjTqdTgPLSlMcyHPl8mWCMGTn5CS6HjI41E+r2cL1mvT3ZzBMk+WlJYaGh6mUy7hum+l9e5i/Nkc+r9yy7tjrdJrYsRhTU1NUq1Ua9Q4HDuwDHbX57Vssb5xiECG6YVIpl0mlUuCqrcLHxsbU7teepxKOkjqYNkZCBxeee+57lCsV3vXOd1Eqlbh06RKaplGplJmamiIeT7C8vMTKygqxWJzJnZMMDgwwPz8PQKWisgUvXrwIgBXd6EKxSKNeR0iJ57p4nkc8niDfl2d2dpY9MzMsLCxSqVR6dQCLxQKJZJKLFy5y8K5D1Go1FhcWqdVqvPd971WgqZl4U6wGGdVHy+XyXLhwHjIH+fFP/DiNel3VqajXyWZfzhB1XbUFYCwWwzRMGl4T07TIp7KIUHDp0iVeeOEF9u3bp1KPPY9MJsPRo0cplyuIUDCxYweF/gJB4NNoNLEsk8HBIbLZbK/SdneHq4GBAfbv38fo6Ci5bFa5cRGxqtlssGPHBI7jkIt2je7+ZjKZ6nFVtmAMt6okupNdCnL5PPfeey9DQ0O0PKUIx8dnmJnZhSa6JEmlFKTv89ijj+L7Ph/96Ec5d+4cQRDQbneQ8v+j7s2DJLuves/P73eXzHtvLpWZlbVvve+rbG22ZFkWyLYAYxsbbHiPgDc88GAGePMeL2aImImJGeIFtmfGQIyB52BgIMALmGePbQgGI2RsqS3JanWr1S2pq1XVtXTXkrVl5X7X+eN3MyuruluyW+3lnYjuzMrMu997fud3zvd8vyF20lIcGXGZcGFxkTAMFdtTKsWx48dZXFpi4fp1Xn31VVzXZWJ8nFpdcUy2Wi0GBwZYWFzk5MmTXJmcxDRNHCfD9evXsG1HEcTEkarUFAXAxuYm9XqNTDpPsVikUMzdRn/Fnbc7lmPQdR0i2LtrN9NXpwlI85Pvey+bq2USehInnyObtkF4CkOjq3l7q9WiUW/csMpCoUAikaBa22RpaYFcPo9pGBi6gZSaCl8TSsatDaluw6eFFORzefxikVZLKTPZloVtO+TzqulGhdKSbI9iwGnzLzqOje955HN5LMvGtuxOyGkYXWHwHcY6mAl1KU6ePMby8iJ+WGV4eBivpXN58mXeefdBHJMOVNmNAVp3vUlJpBkkGSgMs290nHwuT6NRV52MUnD48GH8QIn6SCFoxseTyWRYX1/D841OUrevr48gDGk1PbLZHEnb6eQjNjY2QGrsP3iYVqtFvthLni3SHiNhksmlaXkunquavo6cUF2jkRcgjDuQaY+AAKKwjjBSjA1ZjBT2d7q1ZBzJRQEILT5fAoRh8MCDD+J7Hrbj0FfoxfN9ag0lLacLqajb4uaxkUGJYap8l67pZLNZjh87xqFDh9A1jVq9zsj4OK16nY319XhZxbSUSCQYGBrG9wMyjsPa2h6SVpLAD/ADnzAISSQNHNumXK3EPT4Wtq06aOXNqmLfZ3vjjqFrHkcId73pJM8//zx6fpi+vn5GB0Y4d+4c7zg1iJVCaZx5HqFnIhOi0+WYtJIUi0V2795FJpOhVot5FUTI7t27yfX0UKvX8TyVtTUNE8exmZmdJYoi9u3dq7LCMctPO/Rt28jICOtr6zipFAcOHmRzc5OxsTEMQ8maDQ4MdNBzBw4cZH2zjG1ZDA0NdiotbQv84M4DUAS4TZ98bw9vf/jtnHlpFVB5m0fe8Q7uOngjaWyAz3PPPUelUuEdD7yTUqnE5dJ1DMNgY2OdwUGFzMvlenCcFMvLy/EcPM34xAT33H0PZ8+eRQiVxJ2cnOQ973kPly5dwnV9UqkUQYx1OHToENevXycMQ0ZHR3nm2WfJ9fQo512tYhgGmqZRLpd56aWX0KWCLQ8NDaJp+pZTiCBwPVVNuh2LpRGFrgMhkSuRcem2M9Kq7untD1cU0dvfDzHV3ZvuvpttvJRhGL+PgUauizDN+L6OYqzBVm6sp0dNuxKJBP3Dw/zvv/u7fPrTn+Z/+53f4b0/+ZPYtkOz2UCaOqmUo6pcgdqPKAoRmso2W0Gg2tE1kyCIp5SJHzyW4c6UK2GrZBmngp/4xjfRpMQ0k2iaxt2nlQOQAvCVJrpb9zhz5knW19d44MEHuXjxIgvX50kmk9SaDUUBZ5pIqREEPp7n0WqphM+hAwc5dPAgZ848TbPZRAhBtVrjxInj1Gp1rl2/Rk822/n80KGDzM/PA8pJXLqksOxSSnRd64yKyaTF5uYms9fmGR8b4/iJE+TyPXiuh6bpSE3Q6SO6nVD4ViZuz+GsLJVwPZdCvsC5c+cIwxA/2BJbAboo4LcyqsVikYlduzp/e66LlBqJhDrf15cWSDkpfNdFCEEul+8kay3LprojyuvuidANHUOTGLqhojldqIeifWhvZDRsL+sHyhMY8brjjmxfQhCEJGKNzM712dl1diOif7vtDOd9tlVTwh3fr66V+cxffYZf/civxIt7CE3jBjLGaMebDrI/Fvn9QU0jviflytjaqsVCwAMPol5blgAAIABJREFUvBUplWw5xD037YsT3/ymrUQ8fN9D13QK+QKaVA4mL0UHXx9FUcwEHHRGJkPXsR2H++67DynVg91o1BkbG6PVarFv/z7FfNzTw8rKKsPDQ6TTihSlr6+Pnp6tXoIoimg2GzipFIZu0GjUGd89QcpJkcmk413W1fG1b7TvQah3O731vf3Fzvt77u9y8DdzVq+xz6HnK0yDrhac2DXB7//e7/N3X/4qv/mbv8mj73wnSEimbCIvoMfcngXt3vUwCONei2hrlO3qt7sjJuKyQ/c62/oKUm6JLnOHtvs6l6bDSN7pFu90kn3HA8cbYHu/43bnHEPX9QfoRENB14dd4JagpcLJ4fEtWqpsvkfdoGY7Dtw6U77nqnJh+zM/Al1gGuoGzeSznW0lhUUyZfPpP/xjPv6JT/C3X/gCo7vGOrLuwtAoDvbd8lAyQXbb6Bb4gapI3KkIoXsk61qflOLOOZ3vch3SaPMQKAvDgJ/52Z9BS+o8+tg7AfCigMAL0Q2jUx3oNiHUACCl3PIUd7j3JIjUHFyIKBYuVj06QTzqhIQgwOtAsreHClt5z5t/Tuf7HbYjkNsZgHh6Hc+oI9pUcjvXGe1Y8AbKJbH9dz9gJ3HnAhdxi3+grmbnvUpEdeaYfqRuHj8GEJk75/Ne7BRMtcIoJAyCrfBUF51RDg0iP4iz0AGaplPsLXLt2nXwI4ShqbmuHxF5AZEXbG0fOoktNPBcr3ORNK3LKXTb7dzw4havO9+/UYt2/Hu9fYr/RVHcuSgltmVRraq2dTf0OlgOHWLtgq2AIAoVnDfwX2Obt7o/vgsTbaW22PGEOyj0flDW1pm4FSlMxxSh5fdvx27T7lzE0H2s3SOhFn/Q/l4SK/EQd/LGMNlQbHPD7fZrLRa+3fpOqnlY+37ojkgAoWvKOQAf/vCHaDabPPrud6p98ePEj6Eh0Lbvc3s9cUbYMIxbP1DtY7udB7l7zhvvt+IVUExSUhMx18VtrLvbbtPJiJghyyfCxcfOJmnQICktIjMiIlRcGUC4ozFKCKWjss26IdDf5b4HHmgGVDfrzM/PYzsOo+PDNKMWSZFAahrz1Vlq9TrrNQVci2KuzrCDN9nuONqRTrgjBNgZAYWvs887f+96Lq+snOXFa88CcHj4FHWvTmvdIwojegfiKV+Eugd/0CHB69j3pruyW9dyp3WfD+0W7/kOQpnXUk/XNQgihIiVmjujs9g+97uFrurOEL/z+zth7RFZE1QrVYQQOCnVryHjxG0YU93t5MH8flibEk5LKAXoeqNBrV7H1T2ypuJ4rHlNTF1pO2qRsTWv7s4jdDm+m9qtzme49aIZivT0pZdeIpVKEQYBPj6GMFhrbBCGEeVyGSEEhUJeTWE0xdIUtje+gxtzyzFs37mdu/p6IoY7f7+5uUkqlSKZTOL7HpeuXML3fBK+hWmaRFFET64HI2HGuaQf7qjhDpQr4wPsNLe4cYAQTw12emK2e8vuuV4Uo1cUJVcnXbtt+fYFEbFnuNnc0I98IhnQki3qsopLA5M2z8NWpBBEQUeo5abOob1CtkYQ2c7sdySX5M1HRBF7lu45Y/yRRHB9fplGvYGTSceOISQIPbwIVtdWebn27RtUoL4fZgQJJecXGdTrdWaWJ5ktXYFIp1gsYoUWtVqNhOmQSCRIJww0sRXA3eBM24Cknd91/6bru3a2v32afQmeBslsmkqtSmlzjWwmy8LsLJZt05JVUnYKEi6RECRD1b1ba5eYd5C5RtGOCx2Z8eds+714HdcgdqwnkTUwMzoiJwmaEdXrZYSUWAmbhG2yVl7/oWjn/07texIxKEqvkMAPOoCcdrksYKs/ApRwTWe5WMRTCNEpe+70+G0/1HYMN/P0QRAgZNShd2+5ra2HLB6x28IsWjfE+TuxDrHIjpCo25F01rUj7IgXCSNYXl4m5aQwDJ1azSNhBjQaDRqx9FxxsKi68r7PpntGrOmQpFzeoJAvKP3Rusfs7CxaU1N6F5ZSA7N0W4HbiE/Na1Vtoh3vhapAdbOBdQI8TUnb6TocOnSIZqPJxsaGkiTwlURfIghIWAlsx8bX2uStMcNXd6NEl92gCN3JCXTtwE2W22k7pwLVao1Wq4UmNaUq1mNiWRajvRMALC+vbHGbiq4T1EnSvObmvu92GwxO6ghmZ2ZjdJ3Onr374vMYoCOZXZ7h1fokABIfIQR6pOjH/DjU03UDz3MJGiGGYeB5HpquoRs+YRCgeRZRFLFpqgue8aXCN9iCSqVCwUrieR4IJQziuZ7iA0g4BH5AywtpNJtsbM4yNXOOTV/n4MGDaGXV1r1erlEo5DFMozM2+AGYGnheiGGo7YZiK8ehrmH7jR/fxV1TE9h6KMJ2ZKFtJZyEAFykJokCF0OPeOHVOYrFIvuKSV6+cJHUiCSZSdBMG7h42DFuvo0TqOt0uDNfi2A1uuUkue1Kbz4i+jHTVtgIQDMohxUqooaVTSIaISk9p5qLshkuvPgiDz34sPp9HIi1n8etSDFSCV4ptnQbQUETpaaYjcL4/EQRYTwSa5GHLiQBGjnHxndssj1ZbF3j/HMvsOfIBPPz82SzaYLAwzJs6s0G1UUlJJM/qMrRYdzUFKFetUAipMQNfRwjBdUKa6ur+J5Pf18fMpunGTXxAlctL7fOkxACI0zGzE4JdAw26ps4tk0xb3Fo33FS2NSqNSIZkelJo+kGszMzFIv9IFVS2zC7qmvRDro9cav57ffXbjtiWF9fI51Ok0gk8NwWrtukXq8TJgLq9Tr9/f1oUkMKhT0QnqrzulLNYf04QZhJZhAIdHTcyMULFK+C7llkrAxlfMpumUyo4XseIhGSchxkq4mTcjBNHU3TVUJHSIKGepJ0U7Vj9w/0MzAwgNlUc1V/WXVv5nv7qdXqGLqFrusYUjmFIIAgDDFuVXjvehjDMIBIVw/DzupCG6gUAp66MRXgRQMEp06fpl6rYhSSMSCpxZGjR3hx7pkYGntrPYMo5jbYSbC6Y0df5wq+vqnOwEFFBisVb8FAfgAn5ZCQescprK1skO7tufnmt3kLAVo8vRIy1rNDPQMBICWaUHkFNEOhBOOvznzrGSUeOz3Dn/zJnzC4u8gHP/hBps69HHfjKlBXop7BdV282SDmR/BjYJd64GTQnvJGBEFIPtJJJi0IQ1588QIbmgKZeaFiGQ9FuKVwHUaIWJIuEgaNRgPLchQDuqZg5p/97GcxDZPyYp1MJsNIboJPf/rThAH89m//Nvfcd89W+fu17q8fcATxBliiQ5rNJpVKGT/wyGazrK6uElhunPkHqWtoAQSBiyFNpdIcKk+smwmSMknNrbO6tko6naZeU+262VQWP6gzu1qi5Wjkkj1UN9ZU26wfKiIL2ySlpXFxWa+XCcOAbKqHqlcjk8nQpMWmv8lKdYnF8jxOzygb1RUOj++j0WigmyZTV6cZ3y0ZKhQpVTYppjPUW3XStk0YKtbYIIrr+/GAb8Rz0CBSKseEOqEQdCjVY8cXxSOOodtgQOQqzQe3GSiGbM9ToqpCx9F1/v4Lf8OhQ4cQSXCjJnZLJfosD+bn54miSEmRdROfwLb+kO6/3edVxBYdHcB2usFIr5NWiztJI+GSMELedO9RtKRHZbNF3a0SJlwkFv/4lb+jJ9vDXafuJl/o6SScg/ZUIB7w/Hi2HsZNTaGn0H2bGqCJDg4poQlawPoGtFpQW6/SarVYqKrp4PkXFijk85juAAtyN+N6A11KWrKOFsHm+hqGYTBBFstOcd1biK9bO2SPcQ7tKapu4PserWZEGAoMw8D1Q9zIw5QCEQYgBVJEWxoPAkyh2HJeOX+RhcVFfvzd76GyuUnVchFhhIZAl5JQi4gMQEYITR3/9iDuh2zusMNu2zGcOn2alVKJlZVlCvk8yWRSoRJNxf5cCzdxfRczUj3+ga88OLoaiYIwpBbWufTiJS68+CJDQ4N4nsfgYD8jIyNUV9c4e/Y5vJTO/fffT0Gz1I2yskK1WuOe06cICFirrHF1+irNZpPBoUGqaxWGhobIxZTrQeDjui6l6WmWl5cZMop84xvfYGLPEV555RWkblLI5zlz5gwnThxnY2WNkZERClmbK5OTvHBplmKxyN69e7ly5QqWqPOP//iPvOWht/L8889z6sRbuP/++3n11Wn+8i//il/96C9RLBaZn79OIpEgl7UwdYGMcxytVot6o8G5587S21vgy984D8CnP/bvOXz4MD/xbx6lVqvRirGxtq/gy1EY8fg/PU7dUDe7jMtebf2NNo9C++8H8wrufObSWeq1BrcMTWPHR2RQqzVA+DhOEj9S2f66Vsc0DYzIoVQqMW7uJpm0+MJffJaFhQX+7E/+gnc89ujW6tjKN4Yh1Frguj71eg3X9Wi1WjSbTS4ut/A8r8NrsL62jm7oOE4vhmkyWEhh6DqpTIFcPs/Gxgb9/f386P1DPPIjb+P0aI2Z2VkmhgaV5KGTpFar0ppUatWH7j7S2Sc15VIOz9AMNKnR9AMSZgL3+hpLS0sYutKOlH1pWq0WMc8r0Y4cl+kpJ5s2bWauzvDYux9jeXmZSrLJE088wYc/8AFarRbra00GBwcoaAMcO36c3sIAtpXE9/ztvTd3Sm/jDtttOIb4BgwCeot99BYLVDY3+fznP8+DDz7IpldHSg2tqZFOp6murrNwfYHIVQKeIiWIwghTCjQpWb6+wMkjR3n++edpNptM9O/ihWcusfTSq6obsJnEqmQ5//TzrG9sUM8p/Ymzmy9w6tQpkmYavy44evAkmUyGb89+i8sXJ7n/wX42VzaZGB3ns3/5GXYfOM36xgZBYR+92R6+/a1ZNC3FSxdWadWu8qUvnOHqlRpPPvkUjz32GLmJAZ5//jzXVhoUix7/5199jWKxyHCvxaWliMUnL7Oy0mC2Oc2Xn71K4EuKE3fzu//P3wHQV+hR/fw1iaZr9OSTpNNpSmvXmZub49Cee5k+8wL28ASe5/Hz//ETHDlyhORARCaTQRqK6i5RdVlYXMTQdfYe3UvDFEgpETfJMURRpKTso4jWnCJ+ffOx09j2DhIHYKej0KTG889NMj9/nR97z9vos3tYWFjgpYVXOHLkCNJPcO3aNQ5nlJLXujbCxK4JtN1HODNVo9Zqqk7WWhXPdanOLRFGIRXXJQxDisUiyWSSlJPCNE3uGkui6SpRl0gksB0TQ4dkdwokUlUJgHcePEUUgeFB/6BCNgYSKq06mXQGHx/Tsfjm89+gXN7g/feNoumKQs3zPESoIk0NgR+4YEo8PHJDRf7qi58nm03zkZ/9CC+sX2Eg14/r1zrU90EsVON7HivXV5ifnyfjaxwf3cM/f+mrDA8Ps5H1WVlYpNJskEgkqFUV6VAhHUd6ka56IXR96wCj6E7M+L4ndhtKVPFcTdOo16qc+daTXLr0Eh//2Mfo7+/nl37zF5T6ctZD0zQKqQzJZBJcwfT0NFdWrirlp0BgmCbVeo3HH3+cXC7H1atXcRsRuqbhr5RxXZdXS6uUy2WClU0Mw6DWlCwvLzNpSK5evUrFqzI5Ocnw8DDVapX56SmOHD3KuRcv4Ac+Yk3VlyevXGFychKx5FKvN/js3zzHtfl5Pvrrv0Eul+OBt76Vaq3GT3/wg+TyeXASPPDWt/Ktc5OcOnWK+++/n1KphBlVuf/++3nq22cAOHnyJNeuXWN+fpFz589R7Mvyoz/6o7Tqm7iuhybTWJbN8GieXI/NZr3G/Pw8Wpjj2PFj/MuFS/z4jz/CqRF1MS6tzlGr1xgcGSGKIqx6gJRSUbPv3k3DjIFf2xSVZKdByvfVVGa2dAHbdhg4sDv+1WtPITbWq1i2QU9PhjAKcV2X/oF+npn8NsPDQySEqqCMZ8ZJZXL8+q/v4vz5OSYvT5LL56i7LWzbor+vTxHCnDiKaYKdAhNoK2+29zrZUGmGRAISQCNQfTUKeRmnaIKtHK46zlvvv0RjZv4qf/3Xf80LF17gHT/3MLZjk0yamKZBUpi0ghZe4GHoBm7oE0QBTz1zlv/8x/+ZXD7LQw+9nfxwn+K0IELXJbpmkkTiRb5yDCurXL++gLXpE4QhmlTt6zLndKZzr4fGjADxQ45+vA3HIAmjCBEGWKbF3W++l4MHDlOvVzh8+DB9e3u5O3E3TbNKo9GgutbA8zz8qkd/fz+7j02oZKSI8HyPKAp4/PHHefTRR5mamsIQakT5L3/4WXpyPRw5fIyH3/4Ik89foFavkc7oZO0MJ47vwXEczKRN+PCjlJfWuHjxIunQ4H2PvodMb4p6vcbf/vnnGOgdYDPQSaXTPHL3O8nlc1i5fiYnJ3n3u05y+vQBjDjUf/niJUZHeyjmFOhof5+iiRNSY7KyydvuP8FqqcTbf/HH+dSnPsW+dIN/9YvvhACefOrbvOUtSsz07HNPY1kWE2O7sDJbLcZTqzNcX36JRiXB7Ows/+7X/lvSFiSJIGxhtq5iaiC9eLtJg0//+Z8xMzvLn/3Zn3bKvVH3A7Ot+0YNtZ/4gz9lYvcIv3H6N+LPb1bYlWRaPs8/NwkXVjnWl6UmcvjfmGVqQkU48zPThL5HKFxC38P1PYh8BoXJwIkRooPD+EGAaXe3UUcEXgxq9YOYC78NVIgfiLY4qA8IgSUEeAHIWH7e88DQMRXUqX2kxFKaeOh4QofQgcim1lwlmy3w4Lse5Mg9R5EiQiNCxmAxQzdZWi9R3fQpFou0woCebJb77rqXn/3pD+M4Fr3ZPJuNBrZlowUq+qp7qv1fx8Ixe+jvGyX0Ndxrq6ysrHD83tNIqVG1Ijwd6tLD1G7twWR7rvVDGim07TbKlXGzT5x1TxtZ0pkM/+E//BZSakytXGZzc5N8Podjj9KsuCwsLFLTqhw6dIgo2aJSr2ImNCzNphU1SCaTXL58mb6+Pg7tO4lpmiyem8GybfyeHiYmJsibFi9evIif1hgcHOT08QM0vQZeoCjXmvl+ms0mrtcklUph25aieROCXD5PNtlDsdjL0f1HkZrGb/3WbylJsVCQSadpkwkPDQ0pfsj4XhweVBRvIaDJgyAlhb4+Gm6d/+aXfon1lSa+G6Jrkv379nVO05EjR6hUKlSrNSqViL6BDGgatm2TTqcZ7hvlsXc/xprfHss9AlclLFMphxAFy15ZWuWVy69QqVSZn5+nd2xw2xRC6Uxudw7z8/OUSqvU6jXW1svkc7cC1qgtO45FNYx4+dIc+Xwa27GwbJXTKRaLWKZF4EY3VEHCMEQzNUwhO/d6EHmEQYBhtKcvXTTyYRiXHADD2CpThmFbSEOVw6NIvQ9CfC0gjNzOsWptATE9sa2V3LYcTAwOHz5MM+YINTUTL2jiex6e7rGxvs5m2VMq7cMjbNY2MSKbkZERhocH0XWdhCkJwoCkpngwV1dWqNXr9PYM0ttbYM/uPQwNDvHN2a9iWUnGxsYRQvCqt6iS7lJuE2L+r9VuL/l4g9dT7aYRAQ23hdAkUiQwsAjNkP/rU3/Axuo6f/AHv082mcPVN/GiAB+BEJL82BBvG1fJslqtzkZtk69842tM7Jrgt/6n/55EogmHDO47eALhKrm7ptdC102i8gZXrlxh/aU58pkMbxvYx8qTLzA7kiSfL5AaGea+dz6KIUOuX1+g4fvknQwRGrlMbltVXwIDA/2dQ4QtQJUE+nsz7cPFSqihyxreOi3F/q0H0LRTFOwUrut1FIsioL9/gv7+iU65eijum/Ckj0ga6DJNvRJipJoEUZNspsB/+Pf/A4uLS4yP7WVTUwQuuivpSfRwYfJFNjY2OHr0JKZhgpQMDQ3zq//253Bsh4F0YVvlU8bOoFqt4zgOrtCYODRObWSYpTPP8dzsBj/140cxsjabm5tUn9VwPQtdtFTSWEg8lPa2JrUt4pT4XtAw0LRb9Jl0d122YfPEg0wH6KrH2Uv1mYbR6ZFjq/gDbJKkQVOrEQmJxEQgCdyIeqWJ70dEkUckddAlATb5vl1orDB9ZZo//Yu/oq+vj3ccexMpM4kWSpavLZEaLSA1yVptXU3FxoZ46qmnmLt6HV3TePwrj/P+970fQ0A618PM9Xl279pNsgEJL0IzpJpKiHCrEkLXg/ZDHim07Y0hH28REkmpKTCSV2Pu6lUWFxYoLS0zNTXF+MldaLqG77XwpApNG40Gtu2gaRKpSarranTUdI3l5SUGh4YIZUgURmiopFulUsVxbAxdQ9c1NKmxurKCjHn50+liB+3YUc7+AXhy7Yauote2qKsMuVPhGuiIwwgh8PEYn5hAzM6yuLDIRiyy2tfXhxPrON7M1tbKvPLyZUZGhhCRpF6vs2/fAWwnSS6/tdzO7bc1KDs8GbxOUv31TvdOJGRnpVvv29euvU0Re+ptUPooYubaVWzbQQhJMml19jNCsWAtryzzyd/7JCk9ge04fOELX6Anl6NPKBUzIQSmYeJ6LmkzHeuthnzxS1/kzJkzjPfv4uzZszz9+LOknBTvOnUf9VqdEdvGD/wO76WUmipj/1dut5Fj2PG+/Xe7D12ECB3KzTV0TefogVP8wkd+GbfW4J7Tb2EhmCEIfBIklEJQuc7m+jqZERsIsE2H9OAY/+6/+zV0Xaenr4fNxgZ6wiSSEVroE4URK1oVL6ExnCiQ3+czXBzn7NmzBF6LPUePkshruK6L7wVEkcAnJNQEPgIPgdaGZkc377m4U9YWdLnhGblFk1EUKRVxLYipwNAh0olCDSIdw7cV65QUNFsBZ/7laV6dehVDs/jc5z4HSD760Y8yvlylUOhlemE+zop3GERYb9V45vx5njl/ntZcmb/+/Jf4tZ/5EKdPnySFgz7bIDxhEgqfSIuIRIAf+gT4BLLdmR4SEXWg6TceyG2esB1AMekr6LrrearjNaGjlEgTRCKBHtpIL8Hq4iJNxwHqRFEDTQZIEaFHIUTw8oVvc+rIXj70gX+NrmnsO7afu06fZsQp8ndf/TuSlkmg+ZRWN/AJ6HeyLK0vsjB3lf/5f/yPDPTs4vyFF2j84gYnTp7k2adeYGa5xF1DBapuC6lBGAVAiJCR4qXYeQ6i7cf2hmznoHwrGPpt2m3lGG6wHTskhKDHyrHRWKccbCggVHmDlfoKvuaRTxQI8PF9nyAI8H2fpaUlXNfFTqTo7VX8hk4sF2bbNmUqhGGAcJWGxPT0NI7jUDFXqNVr3DN6DFDz3lwuh56BcrmMHwQ3lPWCyEcTt8k5+F3aLUfUrnOmKAW7qwzqKs/Pz6MFSdbW1nZ8p16npqZ44okn+MAHPgDonDt/jmPHTjI2NoZdmSGKImzrxn6Lr3z5q+w/sJ8DB/by7a9+k7e97S2cOnV8m/isEFsaEyqPofg0t3b/hu64O4vibQMAI4VQbMsJJLq4Irv3r1KpkE6n8T2fRr2xta9xDmJ9fY1du3bRbDbxA593PPyw0rxwQ9V/EVo0mw1Wyqskk0kSQkH119fXMUyT9fIGB/bvZ/BYL6uVVYQU1Op1nKRDJQiRcWkzItwWVX3XttXN9Zrn5YYGtfZ3d8g53F7E0EYLi51fbSWo/FhvuFFvkEo5iBgCresGNaoYgUUYSCYvT3P27FkSiQSf/exnyTl5PvKRX8E2HNxGwMbiBsViL5aZYK28Tm+6j6mpKV74+yfo6+/jS0+d4ytf/Rq/+q9+gRMnTpBO2awtlSjm+giFIutsi9FoUsYUbTtGue7mn+7j/B5YO2fh+h7rpTX6h/tpVBqY6QgdXc3j/QA90pm5OsvYcIGGu4Sm6+hGDeGrSChpa1xbmOahh+/n2ImDNBs+H//476BpBlLT+JtXniFt2+wr53j1+qv0FYcY7NtHyyshmku865GfBWD3L7+XD/7ye9Fkiq/9f1/nystLnPzQEZpC0r49oihC06RCauoGgogAqNar5OwevKaLkXidTtCd9/l3Ms0IFXHPxopKwD7w0IMA1FoNEgk1QgdhFaEJ7n3LQaampzBSFaS7zszVcwz09+P7AdcXrtPba7GyMsP0q5J0Oo1nG0xNTTFkZckWIqKoyvrmLJrhoptZ1pYWaLVa7N/Tx9zVFwmiFOMT48xoLbSUTpiISPdlKAcNWl2cD2YQ51M1iU/E15/8Om97y0MKFRooKHTQcNEsM879qp6b9neeG2DoBjGCjW7OvK0+C0DGPB6Irc9/oBFDG7zetls4Nj/ymZ2ZhcCIGZuViCyagYFixf2nf/knLl68yH333Uer1eLhhx/GMVOMT0ywPl1C09TuNZtNmlGTkdwIrbrLP/zDP3DixAlyuRwZoWjPH3jgAVzXZWN9g9SRWI+yyyGEMVAlDAM830PXb9Ro+H7aysoKa2ur9A/346QtIMSloRyApoEMGBkZQZMKoOP7AdMz0xQGVLfe3Nwcy8vL9Bf6mZubI5POo0nJwuIcUkrK5Q2kJjvAHID56y/TchUj0/y8kqAbGd5SPRJCYDvqvHRHMKrnIIy5MZusra6xZ3Q3OVv1RxiGecdDWaAzAIVhwML1Ba7NzDM4PoyTsJhdfpV6vY7MKADZxnqVXE8Ox0uysbGuSpKtFkEMrlpaVArVPbkcrutSq9Xo7+/n+suvxhwKPisrKwwcHsf1XDTAME16enIUi70sLje37Vp35UHXddoaMW0mJ1AdtJOTk4RhyNvufzv1Wp20ZaOZJr6nmgsVZWCgwFhBtPXgI0CIbUjJtnzByvIK2biFW2rGHXcK8AaSj+XSGpqm4fRkEQZE7TZoX0NKSXOzRWOzifCbuJtVQj/AqzeJwha+7pPQe3CjiINHj3H6nntxhM3pe+4FF3oyPXzl7OdJOQ61zRr1Sp1Goom9KwVuQGVtg+O//LMkzSRH7rmHBz/4E/Qk8/zL17/O1FqZ+4fzuFoLT1c5hVBqhL5yCmHoEwQuss3DIG6HYuiNW9NtcHXuKn1DI/T19QCSpYUSmgeGqaFrS+TTdfRglbfbB2AIAAAgAElEQVTe1cvM7Cy2mGVzcZMwDEnIGsf32myszpMMbdbmJ5GaRlJLsLayxpsOqtJp+do8hXwvyUBN20Tgc3z3PpJ+SK1WZ73gYlkWhcDHCgMsq4mMDDThIkMPPQQ9BFNTZclyaZWXX3kFTUrGhkdxWwHJdrTwWs4h/rxDYyDiqHlH5Cy7fx83VwWBQi1evvwKoQk9PT1cW1xTD720kC2BcCNoBlTLm0R+iBaYRIEgispoUuK3yoSahwzr6PgkhFBT01adIAjo6ysohu3KBl4UkkkkCXyPRn2damWFUJpE0sUjIBIQ4hFKH18jLt0rbU8ZbR3S5uYmE6NjlNc3+Id/+HsGBvo5evgIhqnhNpvYTgoIO0rx9XpFCdw2G/h+iBMLIfXkstRrdZJJi1q1Sm9fL61Gi2qtipQalUqFsdHRO3ob37Zj2NzcxLIsrCCFtkNIRNd1yvUN8vk8MhDMzc0RuB61ep0wqGPoBnPlV9jY2EAIweLigsoKmyZu1WNubo5qtRpXHyq4nsvIkVGWS0u4S00sy6JUUhHFQKZIxsmgdRFn6IaOEO6NkOEwisVJb9bVdrtn4vYskUiwubnJtevXcBwH2xGsrq0hdB8hBWbczYirdxSzJsZ2MbuoBFK8VpXV1TVkJBgaHmZmeh6paUgtwdWrV8kkCthOSmXlb8FJ7nwXfA9aLKhSbzRYXV3lmaefpnmiiWU49PYWsI2EouyDLTq3iDsWSfT2FiiXy6ytrdNqtZBSRQpCKFmBZDLJ6uoqC4sLNBoNlhaX6B/oR0Tq/AGsrq6xnl8nl8uRdiwuX75Mb28vk5cv02jW2LVrN67rsmfPHlavX6Neq3P9+jWmpwsUhvYD33llK51O4XseJ+49RbVWY/HaIpqmYySTEASxU4h48slv8srLL3P8+ClqtSqnT59WCOErUxw/dpxSqcTRo0f52Mc/xtjYONfm5/mN3/xNpBCUN8psbm6yurbKyMiI4pq4Q/fxbScfjYTF088+x9sefhuppIPEZHnleqec1p8bRYprEGxy9OgIs1ensO0may2PhtvCjkIGsgoGqzfWKFeWyKb7wfNpri+x+1QIlPHcMn3FImY9wJKSZbHGsRMOZnWScrlM8ug9CH8DP8igywqZlAOBj68LQk2jXr2GrlUwRBo9Mqm1mnzhS1/kfW9/jJHx8Q75azuZ1umOj97gGb6BBVhZm6FI6KAndEqlEp7rUuzLEnpgpwQRLQwxwmatwfJ6iovzBpo+yjcuVinksmhSMrWwynJNibd+89w1CoVeXNelWqqTGzzC1PQVki2f3eP7mF+vcaBvhJmpKRK2zcvz64j0NQYGBxmJBI5u0kJQN12k0aJR80kmUwTVGqZuYOoG6+EGFdnCiDzuesvd+M2Q6ZlZelJ5BoaG8WKdgHYmXo9i3oogDg1iqvdumnkhoN5FxCsEtGJYtK9B04X5Vai5I8z4EVOLr2LMlFRyOvwWDz30EKFnk0qlSckBeg+dZmn6SwjR4sBBhUCNwoPks7C28gSm4XPw6I8S+D5+EPDWu04RNX2mZr5M70CRQ0fvxsomqVSrDI/uBeAr//gy+w8+SrGoOBulkEReRHqgh6vnn0ZvtQiDkEqzQblehcBAAOFGg/2D+0k5Wb71rW+xvrrBY4891oXxVsncgwcOsLiwwIkTx/nMZz7LwYOHWFpaYnNzA8tOqKhAkzzw1gdwUin27d2LFIKVlRW++eSTjI+pqWAQ+Mh4GnInBJFuO2Joy5JdvTrN4OAQyYxkbW0VT3pYlkXCsDCNJNXGCqurJTXfC2KyDCkx4+yyJiWJhEUqLCKlQbm6QaVSodEqdS4GqCRmIpHA0A1q1Ro92exrUp+1a+6FQh7fD9BQ1Ylr16/R21vg61//Om9+05vwvLAjo/b9tMHBIT74Ux/kwoVXOHjwAJdeOkej3kAkffKFArWgxsTYBHvG9tNoNCiVSuzdu5d0IklASLGvwBNPPIGIQk6fPo0mNYIwIPRUdnxxaYFCIc+hQ4dUlj2RYKI4wVz5GvV6nYldu8hmMpimie+r6+I4DteuzpNPF6h7SiG7PUI6ho0QgsOHD2EnHF59dZqklWR0cBwpJQExDUV70NpWmotJWoTotGzUfHA9aLWa+EFAaXmdWrXKzNIGlWqFmeUGlmWR6RvCsmwymTRSarhek0984uNInuLKlSuIhMB1XSavvMS+fftYWZzFNE0uXnpe7VdoEYYhlUqZcrnMixcuUatWARW1OYbFC+dfwDR1nn3mWTyh8g9oEsMwGJ4YYWx4jIar+DfbGIUjR45w9uxZPvnJTxKGIWvrKwD83ic/SRhFGBUbKQXDA2N86Ytf5PzzF/jDP/wUH/jAB9UJiM/rpUuXsB2Hf/7nf2b37l0Ui0XuuecepqenmZ6epr+/nwsvXGD66jQzV2fYtXs3fuDjeT5Xp6cJw4BGvcHQ4BC9vb0U+4tbUgdvwN4QwMlxHK5enVGAkjqsrVVI9ZqYeoLNyhyB16RZqbA8W6OyqbNZXqWlSXRdsrLSZHayhaEnyGavk0ho1Otl1stVWi7MXQtpuiEDg33ML0ccP36Iudk51sqbzCw2cSY3ME2T3EAGMBGagytsfFnFk5LQTeC1XIKWJPIkfsvDEgkShk5x334sLcnM7Cz5bD6mI94ebkffY5rmiAgv9PBDwV9/4f/lS1/4HEuLS/zbX/8wtep5dMtlbX0NuyfD5clJKpUKKT9JEPo0GnWy6Qznz54DESJrklq1psJr00CTkheffYl0Ok1tXSlMtROQjUYDx0wxMbKXRCJBEAR4nkfWyjI+uJsnv/4sf/Snf0Z/sYepqWkuvvAKX8zncUhTKpWYKixi2zaf+8yXmZqa4j99/P/grW+9ty0dSZu+dkMqjGUDRSm/uSlY32ixMPUqGxvrVBpLSE2S0pSQbLFYxEmlOHJiN6l0ml4riaYJrDiv6frwyOFTmDbsGVgk1/d+Dhw8wMrGNWzL5o/++I/4iXf9GIXhNJqucB9SSgJTdUmaCR3XdQmRStU8oQhak8kk7w3eS6NZw7ZtKhsVdN1AE5ESpU2mqYWbeFGb8CW+up7k/T/9E52kbHcZGWBtvoKTSnEwe4ThgUHCMOSxH3sXECiebSGRMqJYLHLk6BHSqTRPP/M0sgXrr1wlmUly9OhR/ulr/8xDDz2EZVu8/e0Ps//APjbWywAUCnlGR0dZXFhk7769ncSl7/kdur3btdteeny/EnCZX5hnfHycS5MvxllWxaaUSafUP6dBeb3B+nqFoeEevISBiU7Q61Fa3sQwJPsO5cgm0gQEeJFGGMB/+ds6A4MD3HffPZ1R69Dhw7T8JmfOnKFYLHL44GEqje3Z4lKpBEDBzlMul4mikLxdQLMNKpUKe/bsIW2nuXJ5kkIhz8F9hwAIozC+qN+fZINAlSXPnTvP3r17sSyLe+69l0wmo1ii9ZBLly4xcWAvd9/9ZoSQGLpOeXOdkZER3GaLBx54AFCEOQMDA4RhiBf4SE3jR37kEQCStoI2C8ui2WxSLBZ57Mce65KUUzf74toiw8NDfPSjH+X5588R+A0OHz7MqeNvJgxDHJQiV7FQpFAoMDExQaFQ6ER1pdUqpVKJzbrL2toqVzckge9TaXoEvs/Q8DCpVIrxsTEOHz5Mrg9ME/Jd/ridb9Tif2b8mY+aghR6Unj4/PyH/zUtWpSrGyyWZhjcM0gupx6SbL9NpVrB0FWPi2/KmJo/IJlI4keQSWeQ6DT8Bq1Wix6nBzOhY0gdrUfDStgIfAXgCqVK9iYS2x1D3NF6K8cQhGWVe9Ft3v9TP9V1kF1DuVCK108//QyalEoeTgjGDx/m0sxlnnrqKU6dOoWZMMlms2SzPSwtLqs+kKTJ6Ogog0ODnel723TtjVO5vuE1rK6u8uKLF/jUpz9Fy23x8x/9OdY3NrAKSgOSKGDh2jK+HzGztEmiL4Pr+mSNBJdenCIUMLveIPBjEk+hGmZeujALF2ZZWFDltfbBXl+6huMMs2fvUVo+6IZNCCR0kxOnT/Gtbz/Nn//5/02xd5DSSolvnXmS/v4+aArq9Tqa/03Gx8f53F/+KZcnJ/nY//ok99+f4uo1dc3c+Lo1g5jzMVSktp7ndTQhu6npgli9GFAhXqiaiJqeRxgGnW7IRqNBGAQEtHUk1TxwfT3Ny99e5uf/l3/DsV3HWWy8RKnkkOvN8o2pb/PYL76PlJXqrKdtt4oUwx3vFBygDSOOEFGEB6yLBlFUxzA0xTBlCdapo+mSYw8cx0BDIEkEqnyZpMHMjMnuwTfhWA6n9p4mYSeoa3Bp8hXOPnMV23Eo9MHoeJG3HOrDtm0cJ9GtFUsY33EyVqjaCR6WccJyqx0nwEBiiEBVVTSdkIgkIa1kRO9gP1dmrrJaXscNAyrlClJKIl9BujVXj+n4wQ19EBqRCPGEiyZ0HMPCc0FGCfwoRI8SeI2gA7kW8fTXp3WLM36jlUol+v1djOn7b3qh2orcRFAo9POud/7Y1pcRIEwOH94+vZ2YUGVqr40AjWBwcBAi1fgXBMFW/8kdGNveECQ6kUgwNDREFEWcOHGcIAwp9Pbi+wFW2uKJJ/6Fg/v3cuzEQQAcJ4lnGTSbLnkrQTptE4qQTDZFo65OvIg7foYefjj+W12gtsbCxK5d3HfffTfZLeU1P/KRX+HCCxeo1z1S6TT3vOk3WFtdI9vbw9zcHAO5MUZGRti//wC6oVh7Ll1qcWVmWmX7UcjJuqf2R0qJJjUs24q5DzWkEIpjAtVIJKVCY2q6htAU6i1hSdVYFjtyXYO+PsWL2m4mXFqCJx4/yyM/cpqRonKAA9YgJUrUG40O25GUEiexvffhVmh8ueMX7ablDlJRbDmMSETxfbR1J2lCEhLFvA4+Uewpq9UVhJCkLNUObtpbOJDD+w5weN+Bbfthd1NW7kB5Qpe+w44HR8YIyi42NdoEvG1tT4kgIiKpW2SzWaIoolavU6vVCFERQrOluEMj2Yy1RdrnI44ghMpDtfUlopiUtVNNjZPH2msJmNzCEokEhyYOvfaPbjMHIG9RYbod3dPXstuHRAcqsz4wMEAhn+fA0f0kk0lkMuDq3DRmIcU3n/gW73n3uzk0sY9aVFNJIKFG3SQCXdOIUEkzTyg1piCIm2bas9WozaXYuUUA8GVl298hLsIJEQS86d5DBCSRaJgx9CRDnunZaU6O3U/dq3Pqtw+jo+PjEuBz6q7dRESEoQoZk3HOIaDTQEibFl8IpX3Rrl5HgBvfWHpMf0/8XXsEbI8QQRThBz4aMFiEuz50Wh1f6MSxdMTbRx/gmQvPI+cNjHkT0zFp+DsANre8EWIinQ4+oB2JxaFuTIYaSnUdRCQ70GIhBG7MJdCSOiAwRZl6vU5az7N//DgGyiH68fPSbq7uNEC29SD0mDdixxNgBO2QQb3oOz1cfK628AxdD2YkY34GgBQ6MJzMkM8W2duzn/2FQ2SzWXSpI9uIo3Y2tFv/pBtW3IZy37SZhS7gxW3arUZvseP1dZDQbdNukftqX8M7ZW+siUqAkdQxLJ1klEQKyXLtmmI6CtWDXewrsFRZQ9dVttw3QkzDJHRdKvVmB7a8pVAnt28onpO1pxrtkSSSUfev8KMAGT8sLVpEvg74nV7+letTNBoN6l6dpJEEWihdKkGEho6uHnyp9qHTFbx1qIDowKnbe+nF3yWEtg26Hm1fcAvAIwS6riNE3Km48/zGF3hsbIyx8TFGR0dJpVI3XIadSkpby+9wDGyxHAshXtMxAISxY2jGI6VJDYnEwEa29fuiiCgecdubkTHTaUf3Y2dn5h2D5sWxcnyBDKGh26piIaWGIY1tZLRhFOG7HhHxVEQo1XIRqX3Uha5GWxFtkcm0NxN13YM/LNyMr+do7pDdfsTQ3TQTqfqu7/nknDynjt7F5NRlKtcXuT6tmlLMpIotw6hGKwzR4jISkUkjrJNwD6t5oH5e0cCj+PsjLY4gxNaGVeJMi1+36sK6DmGk0Wr5GLpyCK32DRs6vPng3WidQ7baEAZkPGQIukLcLiTeLYi+oeu7rb2Il7tFJ52IYlq2SNy8Qw4FOhpwBki6ScyWTqqnhw6pQtQO4WPyEt9E6Kg5dTuEiecPrVozJqvRaNWbJJwknh/3NdzqRgogCgMco90V2tPZ725TBExdK9npp2410sqtkB5u0oHYPpFt9v1uMlZBPOKLeHse+AZCgBXpeOU6IpvrLB+hWKGNpEmt4fKNJ59kYniUSqWCiB287/m4novvu4yMjJC0EqyurNCs12m1WgwMDLJnzx6effYZVlZWMQydvr4+PM9neXmZfCFPFEX09fVR3lDVgr379nLp0qXObju2QxgGjI9PUCqVqNdrrK6ucfToUYbHRraOTZ3wHwq7/eRjN6KtHf5JDUGIblqMjo4yOjLO6OgwSSvZmcNBiBAaGqqC4TUlmq6TNK4AEIQqtPbjZNvOpNtOZarOXDoM0DVDNZWEfufCayjEnowkAT7EEng7FYnaDWCijUDqoud6rWu187ugzdrcvf6dCMA7cfHjJqevfe1rHD58mLm5OSzL6mh9+H4Lz/OxLAtd1/D9gNa1Fo1Gg6GhQRwnxcWLFxUrVG8vlm11OirbreLpdIpKs4HjOAwUerk6M9PZvGM71Oo1JsbHKZVUh2u9Vmd8YpxCsfd7d6O3I0ivjmYYajtBpDpzYw6KWmMD21IOrR0EmKZJodBLT0+PIqCpVqnVqiwsLFKtVNB0lZyGkKnpKeqVGmEYMDg4xMGDBwijiN7eAlJqLCwsEkURxWIvQRhSKpU4cuRIxzGUSiWWFpcoFoudKlmbELderzE1NU0mk8a2rR86h9C2N+YYdpiSGlO11GSUxhG92GEemySmmbjpYhutVbLJDI3GfjQNkkbc/RhtScpte6AEW5DbLgv8FpoWj6ZtAZOb2U2maNsAOTfMBb4z2xIs2gn6v8n6XiPsi9rCtiQISOJhQyebQZeD2dpAO5paKZW4fPkylUqFhYV5LMtmz549WJbFxYsX8XwPz3UZHBziQx/6mbh3JKRc3mBpSd3sYaRyPY1mk9OnT7NWKnG9OUdzdJSzZ892HEK3lUol5ubmAEV1XyhyawvbCcRb2I4HpTu6D8OIAE0BKgOJZio90s1qRHHsCAsbPp5eIdfT0xF4aosBmRrsG91FrjeL3wroyWVotVo06i1cz6VYLMQw9Q12T+xiYHAA0zAxDKVsdf999yk4fagGENM0OgzS7aape+69FwC31WJkZATHtrdBqNvaIKdOnaJeb+A4NqHrd9iou6+l0L/7pOedtDvDxwBdo6Kaj+1EJW61mas39eomTirD3Pw09XqF5aU1DN0gkTTQDR2v0X6yJcViEd8PKJVKlMvr7N27l6SV5MqVK5RKSwAcO3qU+fl5yuUyu3bv7kQMbds1sYuXXnoJLe44bF+I/YcPcvnSy51uOXVj937Xp+X7qigWxf+FHo888oiCV+s6YRDgei5BELJZ2cBKJnGcFK1Wi4mJcRwnheu5mIaJZTucPn2akydPqnm453VwKKrur87Hnj17Opvtft9te/bs4d74oQDwWi5GsquxqrPPsbWnO7dh7ZyraSmcwtnnLnP+/Dksy+KJJ54gkxG8733vRUciu3s2fHjx4kXGx8YolUqcf+F5rGSSnp48/397Z/7c1nXl+c9bsD1sBEhw3xdREinJsmwttmzLdmoqTpzETk1NqjtT6R+ma6YqNV2pmamarur5Zf6OTqqSyWQ6s6QmmXQ66erYUSexLcmRJVkSJVk7xRUECZAgdrxlfrgPIEFSkm1RkmXfTxUsAw94D3h897xzzz3ne/x+UXuTTM6TTM6hqhqzc7McOniIZDLJmTNnRBZtSwtzbt1FrQ/lrl07mU+Ka7Cnp4eJiQkikQgLyQUAxveMc+vmTfr6xHJjMjlPKrWIETR4/auv16dFiuWsmyI9franqa1rlcvFMh6PD1UHBQ2zHKZcsog1+bAd6uKdjmMTDEWxzCqFXBmfVyzNpTNLJOcXWFlZIbeSo1KpsHfvfm7dus3ExITIC7BNrl79iD/78z9nIblApVpG1zT+8Ic/kMvn6ezo4ML58ywtLXP06PPMJ5M4toNlWpw4cYJYrInkwkL9D6uqGktLaS5fvoxhBDh69IVGt//T8kk+v27wFKwKyWSS3/zjddoHXuR//+oEY2NjvHiwD702oFQAjaplc+nCeTo7O5mausPqao5wOFRPOurp6eHy5Svk8jkcWyhD1S72fz5+3I0/qBQKeYqlUn0Zdvfu3UxO3iEcDhONRpmamsJxHJbSSwQNg56eXubm50S2oiEa0SyllyjkC3zjm280/jbTXclZX2Blc3/jUF/ObDyRpvvUVCCbLfPz351jcHCAtvYh0fR25Q4//X+n+NZXj+DxUteLLBSzDA33iDt9qszKSoZ8XmM1t4Lu8dDS0sT7fzpJyAi5XtEKufwyHq+XUDjMrp27mJy8zeDgQD2HRVEU+vr6KRSLFAvFegPg1tZW4rEYyWSSWFMTZk8PqqYSNIKUSiVxvOYWYQgcR3i3uiLiO6aFoqjYirvS8JhintvW7bpaqaJ7dFR3j+VymURrM9WqJRptKLiR3Vpem4Ome+jvH6KtvZ252Rls22ZwYAhV1ViYS9LfP4Cm6mSzWUKhIENDQziOheUq5hw9+jxGJEQpl6untyqaRrVSoWZ6BwYH61H3gYF+rHXdkFVXaWdwcICDB59F0z1iDb1qNV7In4ZP8gdVqEfZl5eXefvtt2mK7qO5pZmFtMOJEycoL09y5MgRmqJCXdmyRb8Jr1c0C87l8szOzpLP5zCMIJFIyJ1aXENRFcrlMuFQmJHhYbxeD5lMWqTTJpOEgiHRjEUVYiy1c5RKpfB4dNLpJbq6RZBsamqK0Z0iL6WQF9LqNaPQ09NT/0lO1RLusC4WdhvOKawpRN/1nLhLvhtWN+o21IZTJ0+yY3QH2WyWn/zkJxw+fJjh/i5u3rzZmB9hORiRSD0HYHh4mI6ObrEqoel4PDoer8ro6A78HqGO7Q3UWlHp7BgZwe/3c+DAAdGrtWqKkm1FRdc1xsbG0FQVy7Y5cOBA/QZY87DaOjvqX6W1tVXs1rEpFUWlbMAIUimUsW2LXC5PKBTEbzz6Tufr2TbDUCuDdYCJSze4cGESzR/mzIVbfHD+JkeP7KElvv7Hiqj84sI8WBYLySSFQgGvx0M4HCYYMrDtKpOT4k4IMHFxgoOHnxXt2o4fxzJN2tpbyWazrK6u4vV6sS2L/fv3MzFxmfb2DvfCzlAqlchk0nWx1Ln5eRIta5Ph69evY5pV3nzzmyieLYpQ1kfLLe5rMD5xcaa7v/MfXsHwN1E0K/z9b37NM4f3se+ZZ7j8wdscPHTI/S4OFdMm4PfQ0d1FUyzMM8Fn6V3ow7ZtotEomuKgqhrj4+NUKqK3aKlUqhcjPffcc8RicfZromHt6mqOSFR4cZrPQ0tLC6qm4tE9jOwYBRWKuXw9uayjvV38TsdpkM23XQk21avjVC1KJZF/oSgK/i1k5u7LxtUN97wGVVjNLhAItZCpllleXiadSZMN6aimxlobW0GlWOTMmTN1T/L9908J8R5TFNd1d3djBA2uXfuIfC5HvlDgqX37GBvby8zMDKurOQ4dOsjFixc5/cEHDA0NkV5aor29g7b2NiFKtI58Psf4+DgXL15kfHyc2dk5UqkUwaBBKiUqRAcGBuvbi8UiN27cYHV1lYMHn2V8395Pfq62ke0xDA71Ms/bd5L88Y/vEIn0MDjcQ6lSZXZmkcuXJtm1u6/RODjiglE1jYWFBZYWFykURTdqr0dcnO+++z7BYLCeqz6+Z4xkcp5iocjAQD+Td27j8/nwer1Cz6FSQdU04s3NJJPz9Pb2sby8LARRgXQ6Q1tbO7Zl1yvlapHjwaEhqmYVj+5du6rc67JarQilom2mdtOsrcZm0hk0XaO8Wuajqx/RN9RJuVymo6PT1Sg0UVWNgF/c0T44fZpiscizBw+ysLDAzMwMiqpQLZVoa2ujKdbE3Oxsfamtp6eHvr5+7ty5Q7E4wb6nniI5n+Ts2bO0tIjSbZHR2sHMzCzhsJDAdxybVGqRp59+mjNnzrB3n9AKSC+lMdyLPZFI0OMGKZ85cIBsNluP+xw7dkwoUvk86wLA94rCbv1y7TwVHYv+/j7eOXmdRCLBm2++STabZWFhgUgkgqKsSz1QFLyBgOiXms8Ri8VpSSSwTItSqSjOq22RzWZZWVkRjZGi0bri1+jOnZTcmpyxsTFGR3eSyaRF3oRH5EG0t7WRSqXqdRPhcBjDCKKqokAs3txcP0epVAojEKhP+RKJhNs5O4A/4BfTjMfMtnkMteDjhfMXSSTamM56+MNbp9kzNkr/zjEuXT7B7rFhsGzQVEplE79PZ3h4B5qqcuzYMa5evUo4FCESiVB2S4GHR3fVXX4QQZ89+/YxPDpKPpdjz/59FAuluhiJ1+sFFRKt7eRct3podBhsIacWi8dQFJXBkWFUTcG2HPqLBVcCzUTVNQr5AoZhYNsO5WLZzbV30DyeNTGM+8Qh7iLHsHa66glPa69VTZOO7i4mJiaItXbx+utfxrTL+L0eVhYW8WgKqlcHpwz4ME0RjCsW84TDBsViHl0XMna6z4Mv4Ce1tMjM3JzICPR48AYCKLpKV28PAb+flWyWkZ07SLS1ks6k8Xq95HJ5WhIJmuJxstksjiOWA3eO7RZeyN49tLTEMQI+urs78Xq9LC+34/V4iDc3s3//PuItLXgDfvHwegmGw2jbIEGm1YPYGkP9O5mdyTAzc4WDBw5y/XqKopNldLCVhlQN17g/tf8AO3eNkS8V6HAl430+n/B0HeE5jO4QOgwej498XuQyxGJxYk1NXL9+HcMIEgwaJBIJfD4fKytiiTIQEI1rpqam6P6Li1cAABPLSURBVO3to1DIY1kmvX295FZX8Xq89Pf1kS8U6OrswjSrdU+lUMhTLBbYNb77wU7ONrJthsGyLTRVI53OEIs1oSgK169fp7e7nTtTU5jlMma1il21UTUffp+OacKf3n+fzPIyL730EqlUihvXb6EoCumVDENDQxgBg/nkPAsLC/j9AQb6+2lta2V6ehpFUWhfbseyLdGX0l2DVxWFjs4OUV1pO5QrZSGg6vcTj8WZmZ1hx45R5mZnSWcyhMMhljPLtLW3EQqGuHHjBnv27iGbzTI3O0c2m+XFl15CVVWMoLGtAaHaYk6hWMII+Nm5c5Rkcp47MzMMDAxg2RVu3brJsQNPEQz6wCnjmFVs1Yeuw46REayhIRRFJRKJ0NnVRTQapVqpEI1GMS2L/r5+mltaKJWKWKbou9HSHEbTNdKZNHNz84RCQSKRSF0rsVwu09LSTCQSYXlFVArmc3lUTWXH6A7Mcqk+dVM1DZ/PJ/p5NDWJ1HZ3AO/d+3BcYgXRAOjw4cPMzMyQz+ZJJBL0du9hdHRozVtwT7BlWvzTb/8J07R4/fWv8tHVj7BMi3JZ1MR4vDqqqqC7yx6p1BKVSgWv18vw8DB79+5rSFpKpVL1azaVSmEYQTwevW4oasu3NQ8qkUiQd2MyNXbuHOXKlY8oFPIYRpCBwcH7i+o+IrbNMGiahmVa9A0OMD09jUf38a/+5RskF5fw+gKEEy0EogZqPYldGJNyyaJYqIIj+ifUkhSa4wl83gC5XE5Ed2Nx0Y7d40FVNQb6BwgYAapVs76mXFtjBuGexWNx0WYsvYTX6yUQMIjHYqiacP0AIpEITbEmFpILdcNQqVSIx+IEAgZGwKBYKhHw++tinNudjOIARsBPsVSmNR7m6JHnuT29SC4nKgX7jz7Ns2ODaDo4ZQXFE0RTwTTh2s0bZDIZvvSlL5HJrjA9N4tt2xRyOTRNx+v14jg24XCYpaU0KyvL6JrO008/TSKRYHp6mnwuL+bblklPTw/FghCGaYo1Ua2KFvbj4+NM3hYJTv0DA1y+eL5+PmoS/T6fj+Z4nGQyyUouL6YkHZ14P83FfrepRG2zaaJ5dHrbonQ1h8RUdmMm6brEMk3XePGFFzEtk6ARpKW5BdOy6sZSNJhZO6iq6oTDotQ8Go3i8eh8+ctfplyuUCq56f6JBL29vfVzBOD3BwiHQ7R2dFAoCGPV2rEWfKwJFtWSsULRCJqmCxEir/dj10w8bJQT755wDh85fP933ndPwirnKir/7Uc/Qo8O097WDprOh+fO8eIzvbz6wgE3T9WmbDn4vBqL86LlWjQaFVOJcIhIJEKuULOuYrLfFGsiny9gVqv1u5PP5+P25CRBw6ClpQVFUdxGuU49V8GxHdKZDK2traSXlupTiUIhTygYQvfoWKZFviD2HQwFKZcrrK6uYgQCNMWahErvuouuWqmuGYlPSb3mw70QqtUqPldoo2iKlGxdE9Px2loOAG6T2LJp4/NqTM8Ited4PM7Zs2fr0fJSoYBlWgRDQTy6Z61SUxOehUcXfR5zebEsrCgqZrVKR2cHlUqVfC5HpSp0M0PBEP6An9VVUbgWCoZYTCUxAgFUTRMXu2ni8Xppbm5mIZnEUYVRikbv1jfz3tytKMhyk7I87gpSgyiJ+5FKqbJmjNYbC9dIVMoVNF0TxmSjIfmMDMxHjgIn3zspNCHYTsPAmm5+tQrHj7+Dpmp4/AE0VWXfnn5C4Qg4rvC+qrOylGZi4grJ+STPHz3KlStXWFhYwAgEWF7NoqoaXp8ojrFcOatyuYRlioDQrl07OXHiBKVSCcd2yOVz7Nu7j3whTz7XmJ3X19/H9PQ0AN3d3Vw4fwEQd5LawGlrb6vPG5PzSXp7e9m7bx9Nsai42Nz4RUNF3sa71Mdk/apFrUanYTcbEsLEcZS1jM66TuXWB79fjOPBud8BHnBk3WX3a+0GxQ2j7inUDulQz958IL7ghmH7go8gEjNsoab9ystHRQPjrTI73UBhKBRkZGQHXZ1daJpGrKmpHkQMRSOiGlAV04Pa2rFH94jB7NEJGkGOHDmCqorchUKxSF9vL5nlZcx1wiog3L5wSLiGrW2tDXqSQL2TkapqFPJ5RkZGCAWF9wKg1/Ly3ZP4MHLb72tjaqKqX2BqA35TdelD/tt80di+zEfHTUZx76ZqrV95fdlP/OWqiiZc43IFzeMl0dECiOWZ5kScatnE49U31UPUXUb3NdtyUDUFj9crjlu7IBSINTVtmWfQ5nay1j06zS3Naxsc1p47onio1uRj/bFq2x8mtfLkmkDN2vG0hufOw3cJPtM0eATKPbZJPhXblsdQ/+NsXKN279i2ZaOqbm9ERUHRdbHNVnAsd81ZB49Pbxh8limWCmsD1XbD3aqmrBmjdXeL2iC2LWctpdSNf2zcB2xIO7WFPJvu0amUKugej1ttqGxtELZpbMrreAse5JxIr+GB2d48hobnytq/DqiaEPnz1rW93AYC6lphjG05jQPdplEf31kzCA3HWxd9rg3i9UYBRCzBcnPcNb1xn/VjuyIqtuXg9Xsbtm/6fev2/fFOyIaP3zU1coOFVTZ+AaXhXY9vAEhr9nlmW2MMW7Lx+tl4e1znbTS4gHebcN9tINzr9ZpxuIck/Ppjq4py7wm/HBOSzzkPzzCsdxgc6mXQijvghCOhiFDAukq6hjZb613Cre7YWw3eu3gS9c/cbVCrbLwpN+yrFg3fNH9VNng6H+cObtuNUdl7fe5unsWDdsqSSO7BI6n+bhhL9xic63X7G94Pmwf8XQ/2MbdttY+tPut+X9VVN9rq+2/5vRv20bg26djr3r/eCMqxLvmM8MhlIdZLHa7X17dtxxXlFBuFeIi5ppUPDdtqz23LqQcTK6XK2vtw3+e+taa7X4sz1Fk3IM2qufZ8/UCt5S2oiPZlQLlUXpuiuIky1UpVHEcRmXnYGwyGW9kjAq/UW8OtnZyPfRolkofKw48x3IVCvoCiqAQMIUC+UYNRVRRUdxWhkC9gBAyxZOnRRQCyviy69jmv39uw4gBrxkFTNVDdfzckJlmmSMzSPXp9ZaLWRMbrF0lN5aLIqQ+GRCqrL+ADR2Qs1pKr4s3xtf3VMiMtS9QT1LPz1r6v7tGpVsTn64pX0muQfAZ45B5D7UZsBAwChh/LtFhcWKSQL5BJLwvxD3fQF/IFYRSCol5hZWWF2ZlZkvMLa16DDdnlLNWKqMEoFPKomlJ3/XOrqywvZ1hKL5FJLwOiexYqFAslcqs5NF2rbyuWSugeHa/fi+7RyGVFarYv4KN2ujLpNADpdFqIevi9xJvjdeESTdPAsrDKZVAUVK+3nt5Yzpco5QoUixUqJRMFTRQjfcz26hLJo+CRewz1+J4b7Dt79hyXLl2io6OdXC5Pd3cXu3fv5s7kHc59eI5QMMQLL74o9Bhsh8XFRfK5PG3tQglndXWV25O3yWaztLa2kc1m6e/ro6W1BWyomlWKhSKlUomlpSVCoRC/O36crq5Opqam2LNnL6+8+jLv/PGPHDx0iKXFRZpbWmhpiXH16lXuTM5iGAYjO3Zw6+ZNNN3h9OnT7Nw5xtTUHTo7Ozl08BBTU1P89H/+lO9+97u0trYyPzuDz+cjHouh+Xw4tu3Wb9iUyxXeO/UO8ViMoaEhYrE429xISCJ5IB7a5egoWwfOFVs8bMsBBVaX0zx7YD8TF85z7aPLGH4fJ999h1QqRXO8maX0EtVKhePHf8evf/MbLl26zJ2pKX739nHKxTLBUIhSqcSRI0cYHBxgaXGxXvJqWiYnT57kZz/7GZcuXWJufl6UTSN6YdYLfByEZHghzw9/9EOMQABN9+D1m1hVP329u/nJj/8v5aJGV0+MUjmNz+ejUqliGEFuT95mZmaGv/7Pf83pP50mk87g8QVILaa5ev0mExcmsFBAVVnKZDj5/ilefvUVqpbFaj4nzpPqtk27y3nbfCKdez++6GyMFX3Sxxcc7S//zV/+1+6e7u3f811OruL+pya8Yvj9XLh4kVdffRXTNBkdHWX8qaf4xS9+QXYlCyjsf3o/oVCYZ545wN69e9BUlfHxMQLBAMVikZs3b6Egyn8ty6Kvvw/bsvEH/JRLFb72ta8xMDBAbnWV5uZmOtrbWc2tcvv2bXp7enBwCIcjnDv3Id/61rcwzSpGyGZlZYXVFWiKRnn++ee5du0agaDFy6+8zJkPLrKYStHf18fM9AxT01P86le/wggabgGXQ3opLbpOqSo+nxdVUXFwCPgDzCcXMIIGwyNCF7BBcejup2873yCRrKHA9NQ0TU2iH8ejDz42LBnatHV1Yb73Ht19faysrFAqlSiurtZVjX0+H4YR5Pe//73oaOX1MjMzixE0aKWVYFAUUpXLZTweHSNooKoaobBo63bl8mVWVpZJpRbpaG+nra2NaDTKwOAACwsLKKpCZ0cn/X39HD58iGvXrhGLxTGrNl2dPejYRCIRSqUCw8ODDI82sZxZ5iuvvcbf/fTvAPj6G18nu5zlnXff4Stf+Qo4cObMGcLhMLt27XLjE4ADMzNzXJy4jNcX4NSpU/zNf/kbvB5FLkhIPlM8Ho+h4YlCMBDg/VOn8Pl87BgZwRMIUCqWiMVEu7Hdu3dhBAxmZmYAGBkeYWR0RETyFfB4dFRFJWAEcGyHaFMU1W1KW61USS2mCAaDdHd109zSjKYKxaGenh7CoTCx5li9nsLn82MYAbw+BY8nSjRs4A9phCI+cqtlmlsMgsEQuu5nbGwMn8+H3+9H13R6envWpOUSCRRVoVKpUioU8fl8qJqKomgsZzK0trXx8suviNdVhY1NjKXHIHmkbPAYtlWPYT13mydvfNmuVFA3ip5szAz8GJoHpmmia8IBMq11lZgbu9PeA9sW9RK1QipwNv0Qy6qi6XrD67V8BF1fVwCmrP+MWA5d7xZs8hA2JlTeV+7gPm+QmZGST4LyEPUYPhYbBrmyVWnhpyg3rO9HoW4gPqmISi2zUfRu3HrgKVssH2z5GzZ+Rs4VJE8QjyfBad2AVbQtCpu2qEe4H5q6Tqbr094s3c81lFlvuDOLvppbHHvDPho/I+/ekieLx5b5WB9d2zVoHtXYu1s9xSf9jETyGeahGYb7zpGflDnwQ/qem/b6SacaT8r5kzyRyHw7iUSyCWkYJBLJJqRhkEgkm5CGQSKRbEIaBolEsglpGCQSySakYZBIJJt4jAlOks8y9bQKRShjKaZHvKi63YFqqeF3STs33dd0mQr+RCINg+S+KKhrbbc3tMqTfD6RU4kvCkpePD4ma82+TBwqLC+YUK1t3dCX1FX5Xv+QPNlIw/AFYvLObf72b7/PifdObLm9Uq6wmFrcclsqtYhVMwy2DZYDjoPtPhzHbnhInmzkVOJzS+Ndu1rSOH/mGv/2330TgJPvvsvFixd58+t/wXvvvYeT/xNt7W18/x9W+c53voOV+whFUbg9eZpXXnmVVKrMyK52UvOz/PKXv2RkZBc/+P4P+A//6T9y8uRJDjxzgB/+8Ef8xXe+w9mzZxn/0p8xNtpE/HH8dMkDIz2GLwjZbJagIYRwSyUxpfjX3/42H354jkQiwfieceLxZr76+uuUSiV6enqIxeK88cabXLt2Db/fj1OFcrlMc3OcvXv28I03vkF7RzsBI0AmnWHvnj2kM2mKxSK//e1vH+fPlTwg0mP43NK4VNCcaCWdXuHkO1eJRqNM3r4Djkqwo51CvkBeM9D9HooXrtAxOEhf9yg//u//A6syRGtzB5mFZRQNQsEw4VCUW7duk15a4tSp9+nq6sLv9xNtiuI4Dq+99hoVfEQe0y+XPDgPTdpN8mRQdu2Hj4z4n6rQ2SxUbQxDBSxAgwrgBatcRvMJcVunalG1LNGtC8ikl4nFm7BMC0cXqxdyufIJYYO0m5xKfG5xNj1uXLsKFYcL//wuJy58wEJhGV/OYeL//JpbK1VyNPH3//ALSuUcRkAFC8yq6PVZKIq+oJrPh10xqZRLVKwKXr+XcqlIpVxC08CsVoS+peSJRk4lvkCkUimG+kaYnLxNf/+zVCoVfvu/fsKly5d48eAwP//5zylPpzhw4AA/+8GPOXbsGIXiMqdPf8C//6u/giqc/uB9zp49S76UJ5fLcezYMaampgiFQrz11lt873vf49e//g1f++a36eqSoccnlYcnHy95vGzhwr/z+98zNz/D+Y8u050wmL9zg6ePvkFe9XIzN83X33wD7dYNlu7cYjK1zNzsDOFQlK++9jpTk9P4/X4UFUqlEnv27qOvr59oJMJbb7/FCy+8SE9PL2+99RaWZZNa0Nk73i86mks++zz2hjOSx8bg4CAHn3uOTEbEE4JGkHMfnuPixYu0PdfLuQ8/5M7Nmzz33PP8i9Gn8eg6lWqFxcVFVFXFCBroWQ/Vqkkun2N+bh7TqrB79240TWV2doannnqK9vZ2AsGxx/xrJQ+CDD5KtmZ9DwwLFG3tXwDUe0cVTXdVRAYfnxBk8FHySanVS8mO3F8c5J9acn8etF+H5IlDGgaJRLIJGXyUbM39vIP79LWQF9aTjfQYJBLJJqRhkEgkm5CGQSKRbEIaBolEsglpGCQSySakYZBIJJuQhkEikWxCGgaJRLIJaRgkEskmpGGQSCSbkIZBIpFsQhoGiUSyCWkYJBLJJqRhkEgkm5CGQSKRbEIaBolEsklVXBoGiUSyCR3g5ImTj/t7SCSSzxDK7MysFPiWSCQNyKmERCLZhDQMEolkE/8fIweHrLTex18AAAAASUVORK5CYII=)"
      ],
      "metadata": {
        "id": "ouE7x5_tKPEV"
      }
    },
    {
      "cell_type": "code",
      "source": [
        "# 고급화 -> 추상화 (직접 연산은 사라지고 형태만 남음)\n",
        "query_input = tf.keras.Input(shape=(None,), dtype='int32') # query\n",
        "value_input = tf.keras.Input(shape=(None,), dtype='int32') # query\n",
        "# one-hot-encoding (단어 수 만큼 벡터 크기가 커짐 -> 행렬이 희소 -> ACCURACY가 떨어짐)\n",
        "# 일정한 크기의 벡터 -> 가중치 학습\n",
        "token_embedding = tf.keras.layers.Embedding(input_dim=1000, output_dim = 64) # 64크기의 vector로 encoding\n",
        "query_embeddings = token_embedding(query_input) # batchsize, 64\n",
        "value_embeddings = token_embedding(value_input)\n",
        "cnn_layer = tf.keras.layers.Conv1D( # CNN : Convolution연산은 주변을 고려한 특성\n",
        "    filters=100, \n",
        "    kernel_size=4, # 4단어 사이의 특성을 고려한 값으로 재표현 : 가중치 형성\n",
        "    padding='same')\n",
        "query_seq_encoding = cnn_layer(query_embeddings) # 특성으로 표현된 query\n",
        "value_seq_encoding = cnn_layer(value_embeddings)\n",
        "query_value_attention_seq = tf.keras.layers.Attention()( # 상관중요도 - score가 계산 ## 11:32\n",
        "    [query_seq_encoding, value_seq_encoding])\n",
        "query_encoding = tf.keras.layers.GlobalAveragePooling1D()( # 각 단어 사이의 중요가도 결정이 되고 : 다 합쳐서 줄인다\n",
        "    query_seq_encoding)\n",
        "query_value_attention = tf.keras.layers.GlobalAveragePooling1D()(\n",
        "    query_value_attention_seq)\n",
        "query_value_attention_seq = tf.keras.layers.GlobalAveragePooling1D()(\n",
        "  [query_encoding, query_value_attention])\n",
        "input_layer = tf.keras.layers.Concatenate()( # query_encoding + query_value_attention\n",
        "   [query_encoding, query_value_attention])\n",
        "# transformer를 구현하고 있음 : attention + LSTM"
      ],
      "metadata": {
        "colab": {
          "base_uri": "https://localhost:8080/",
          "height": 401
        },
        "id": "Uo-Oe77P2wTG",
        "outputId": "bb3098f0-18e6-4990-b261-009fbc0dcb19"
      },
      "execution_count": 34,
      "outputs": [
        {
          "output_type": "error",
          "ename": "ValueError",
          "evalue": "ignored",
          "traceback": [
            "\u001b[0;31m---------------------------------------------------------------------------\u001b[0m",
            "\u001b[0;31mValueError\u001b[0m                                Traceback (most recent call last)",
            "\u001b[0;32m<ipython-input-34-461ab8b198f6>\u001b[0m in \u001b[0;36m<module>\u001b[0;34m\u001b[0m\n\u001b[1;32m     20\u001b[0m     query_value_attention_seq)\n\u001b[1;32m     21\u001b[0m query_value_attention_seq = tf.keras.layers.GlobalAveragePooling1D()(\n\u001b[0;32m---> 22\u001b[0;31m   [query_encoding, query_value_attention])\n\u001b[0m\u001b[1;32m     23\u001b[0m input_layer = tf.keras.layers.Concatenate()( # query_encoding + query_value_attention\n\u001b[1;32m     24\u001b[0m    [query_encoding, query_value_attention])\n",
            "\u001b[0;32m/usr/local/lib/python3.7/dist-packages/keras/utils/traceback_utils.py\u001b[0m in \u001b[0;36merror_handler\u001b[0;34m(*args, **kwargs)\u001b[0m\n\u001b[1;32m     65\u001b[0m     \u001b[0;32mexcept\u001b[0m \u001b[0mException\u001b[0m \u001b[0;32mas\u001b[0m \u001b[0me\u001b[0m\u001b[0;34m:\u001b[0m  \u001b[0;31m# pylint: disable=broad-except\u001b[0m\u001b[0;34m\u001b[0m\u001b[0;34m\u001b[0m\u001b[0m\n\u001b[1;32m     66\u001b[0m       \u001b[0mfiltered_tb\u001b[0m \u001b[0;34m=\u001b[0m \u001b[0m_process_traceback_frames\u001b[0m\u001b[0;34m(\u001b[0m\u001b[0me\u001b[0m\u001b[0;34m.\u001b[0m\u001b[0m__traceback__\u001b[0m\u001b[0;34m)\u001b[0m\u001b[0;34m\u001b[0m\u001b[0;34m\u001b[0m\u001b[0m\n\u001b[0;32m---> 67\u001b[0;31m       \u001b[0;32mraise\u001b[0m \u001b[0me\u001b[0m\u001b[0;34m.\u001b[0m\u001b[0mwith_traceback\u001b[0m\u001b[0;34m(\u001b[0m\u001b[0mfiltered_tb\u001b[0m\u001b[0;34m)\u001b[0m \u001b[0;32mfrom\u001b[0m \u001b[0;32mNone\u001b[0m\u001b[0;34m\u001b[0m\u001b[0;34m\u001b[0m\u001b[0m\n\u001b[0m\u001b[1;32m     68\u001b[0m     \u001b[0;32mfinally\u001b[0m\u001b[0;34m:\u001b[0m\u001b[0;34m\u001b[0m\u001b[0;34m\u001b[0m\u001b[0m\n\u001b[1;32m     69\u001b[0m       \u001b[0;32mdel\u001b[0m \u001b[0mfiltered_tb\u001b[0m\u001b[0;34m\u001b[0m\u001b[0;34m\u001b[0m\u001b[0m\n",
            "\u001b[0;32m/usr/local/lib/python3.7/dist-packages/keras/engine/input_spec.py\u001b[0m in \u001b[0;36massert_input_compatibility\u001b[0;34m(input_spec, inputs, layer_name)\u001b[0m\n\u001b[1;32m    198\u001b[0m \u001b[0;34m\u001b[0m\u001b[0m\n\u001b[1;32m    199\u001b[0m   \u001b[0;32mif\u001b[0m \u001b[0mlen\u001b[0m\u001b[0;34m(\u001b[0m\u001b[0minputs\u001b[0m\u001b[0;34m)\u001b[0m \u001b[0;34m!=\u001b[0m \u001b[0mlen\u001b[0m\u001b[0;34m(\u001b[0m\u001b[0minput_spec\u001b[0m\u001b[0;34m)\u001b[0m\u001b[0;34m:\u001b[0m\u001b[0;34m\u001b[0m\u001b[0;34m\u001b[0m\u001b[0m\n\u001b[0;32m--> 200\u001b[0;31m     raise ValueError(f'Layer \"{layer_name}\" expects {len(input_spec)} input(s),'\n\u001b[0m\u001b[1;32m    201\u001b[0m                      \u001b[0;34mf' but it received {len(inputs)} input tensors. '\u001b[0m\u001b[0;34m\u001b[0m\u001b[0;34m\u001b[0m\u001b[0m\n\u001b[1;32m    202\u001b[0m                      f'Inputs received: {inputs}')\n",
            "\u001b[0;31mValueError\u001b[0m: Layer \"global_average_pooling1d_5\" expects 1 input(s), but it received 2 input tensors. Inputs received: [<tf.Tensor 'Placeholder:0' shape=(None, 100) dtype=float32>, <tf.Tensor 'Placeholder_1:0' shape=(None, 100) dtype=float32>]"
          ]
        }
      ]
    },
    {
      "cell_type": "code",
      "source": [
        "# Variable-length int sequences.\n",
        "query_input = tf.keras.Input(shape=(None,), dtype='int32')\n",
        "value_input = tf.keras.Input(shape=(None,), dtype='int32')\n",
        "\n",
        "# Embedding lookup.\n",
        "token_embedding = tf.keras.layers.Embedding(input_dim=1000, output_dim=64)\n",
        "# Query embeddings of shape [batch_size, Tq, dimension].\n",
        "query_embeddings = token_embedding(query_input)\n",
        "# Value embeddings of shape [batch_size, Tv, dimension].\n",
        "value_embeddings = token_embedding(value_input)\n",
        "\n",
        "# CNN layer.\n",
        "cnn_layer = tf.keras.layers.Conv1D(\n",
        "    filters=100,\n",
        "    kernel_size=4,\n",
        "    # Use 'same' padding so outputs have the same shape as inputs.\n",
        "    padding='same')\n",
        "# Query encoding of shape [batch_size, Tq, filters].\n",
        "query_seq_encoding = cnn_layer(query_embeddings)\n",
        "# Value encoding of shape [batch_size, Tv, filters].\n",
        "value_seq_encoding = cnn_layer(value_embeddings)\n",
        "\n",
        "# Query-value attention of shape [batch_size, Tq, filters].\n",
        "query_value_attention_seq = tf.keras.layers.Attention()(\n",
        "    [query_seq_encoding, value_seq_encoding])\n",
        "\n",
        "# Reduce over the sequence axis to produce encodings of shape\n",
        "# [batch_size, filters].\n",
        "query_encoding = tf.keras.layers.GlobalAveragePooling1D()(\n",
        "    query_seq_encoding)\n",
        "query_value_attention = tf.keras.layers.GlobalAveragePooling1D()(\n",
        "    query_value_attention_seq)\n",
        "\n",
        "# Concatenate query and document encodings to produce a DNN input layer.\n",
        "input_layer = tf.keras.layers.Concatenate()(\n",
        "    [query_encoding, query_value_attention])\n"
      ],
      "metadata": {
        "id": "e06BZ0PkH-Fg"
      },
      "execution_count": 35,
      "outputs": []
    },
    {
      "cell_type": "code",
      "source": [
        "## https://keras.io/api/layers/attention_layers/attention/"
      ],
      "metadata": {
        "id": "1d2WarELH-Bw"
      },
      "execution_count": 36,
      "outputs": []
    },
    {
      "cell_type": "code",
      "source": [
        "## 11:10\n",
        "\n",
        "import tensorflow\n",
        "from tensorflow.keras.models import Sequential\n",
        "from tensorflow.keras.layers import Bidirectional, LSTM, Dense, Activation\n",
        "model = Sequential()\n",
        "forward_layer = LSTM(10, return_sequences=True)\n",
        "backward_layer = LSTM(10, activation='relu', return_sequences=True, go_backwards=True)\n",
        "# 양방향 LSTM (long short time memory) + control state -> 가중치 소실되는 것을 막기 위해 + 회로로 구성\n",
        "# RNN의 수평 연결점: 1개(위로 나가는 값과 옆으로 나가는 값이 동일)\n",
        "# Bidirectional 양방향으로 특징\n",
        "model.add(Bidirectional(forward_layer, backward_layer=backward_layer, input_shape = (5, 10)))\n",
        "model.add(Dense(5))\n",
        "model.add(Activation('softmax'))\n",
        "model.compile(loss='categorical_crossentropy', optimizer='rmsprop')\n",
        "model.summary()"
      ],
      "metadata": {
        "colab": {
          "base_uri": "https://localhost:8080/"
        },
        "id": "1RHU-fqm4RxW",
        "outputId": "67f4222f-2204-4f95-c108-4872507e9743"
      },
      "execution_count": 37,
      "outputs": [
        {
          "output_type": "stream",
          "name": "stderr",
          "text": [
            "WARNING:tensorflow:Layer lstm_5 will not use cuDNN kernels since it doesn't meet the criteria. It will use a generic GPU kernel as fallback when running on GPU.\n"
          ]
        },
        {
          "output_type": "stream",
          "name": "stdout",
          "text": [
            "Model: \"sequential\"\n",
            "_________________________________________________________________\n",
            " Layer (type)                Output Shape              Param #   \n",
            "=================================================================\n",
            " bidirectional (Bidirectiona  (None, 5, 20)            1680      \n",
            " l)                                                              \n",
            "                                                                 \n",
            " dense (Dense)               (None, 5, 5)              105       \n",
            "                                                                 \n",
            " activation (Activation)     (None, 5, 5)              0         \n",
            "                                                                 \n",
            "=================================================================\n",
            "Total params: 1,785\n",
            "Trainable params: 1,785\n",
            "Non-trainable params: 0\n",
            "_________________________________________________________________\n"
          ]
        }
      ]
    },
    {
      "cell_type": "markdown",
      "source": [
        "# AE(auto encoder)"
      ],
      "metadata": {
        "id": "DXZ1JgKoAQOm"
      }
    },
    {
      "cell_type": "code",
      "source": [
        "from tensorflow.keras.datasets import mnist\n",
        "from tensorflow.keras.models import Sequential, Model\n",
        "# UpSampling2D\n",
        "from tensorflow.keras.layers import Input, Dense, Conv2D, MaxPooling2D, Flatten, Reshape, UpSampling2D\n",
        "import matplotlib.pyplot as plt\n",
        "import numpy as np\n",
        "(X_train, _), (X_test, _) = mnist.load_data() ## 언더바로 받아서 재사용하지 않겠다라는 것임 11:56\n",
        "X_train = X_train.reshape(X_train.shape[0], 28, 28, 1).astype('float32') / 255\n",
        "X_test = X_test.reshape(X_test.shape[0], 28, 28, 1).astype('float32') / 255"
      ],
      "metadata": {
        "colab": {
          "base_uri": "https://localhost:8080/"
        },
        "id": "rjUSBxdEAHBv",
        "outputId": "68675a72-76ab-474d-9ebd-adc6c2dad3f1"
      },
      "execution_count": 38,
      "outputs": [
        {
          "output_type": "stream",
          "name": "stdout",
          "text": [
            "Downloading data from https://storage.googleapis.com/tensorflow/tf-keras-datasets/mnist.npz\n",
            "11490434/11490434 [==============================] - 0s 0us/step\n"
          ]
        }
      ]
    },
    {
      "cell_type": "code",
      "source": [
        "# encoder 부분 -> 특징 추출\n",
        "autoencoder = Sequential()\n",
        "# 28 x 28 = 784 픽셀로 표현되는 이미지가 \n",
        "autoencoder.add(Conv2D(16, kernel_size=3, padding='same', input_shape=(28, 28, 1), activation='relu')) # 128, 28, 28, 16\n",
        "autoencoder.add(MaxPooling2D(pool_size=2, padding='same')) # 128 x 14 x 14 x 16\n",
        "autoencoder.add(Conv2D(8, kernel_size=3, activation='relu', padding='same')) # 128 x 14 x 14 x 8\n",
        "autoencoder.add(MaxPooling2D(pool_size=2, padding='same')) # 128 x 7 x 7 x 8\n",
        "autoencoder.add(Conv2D(8, kernel_size=3, strides=2, padding='same', activation='relu')) # 128 x 4 x 4 x 8\n",
        "# 특징 : 4 x 4 x 8 => 128 픽셀로 차원축소 === PCA ## 128개로 압축된거죠? ## 12:01\n",
        "## 12:14 ## https://www.tensorflow.org/api_docs/python/tf/keras/layers/UpSampling2D"
      ],
      "metadata": {
        "id": "XCOibhrSAzxk"
      },
      "execution_count": 39,
      "outputs": []
    },
    {
      "cell_type": "code",
      "source": [
        "# decoder 부분 -> 원본 생성\n",
        "autoencoder.add(Conv2D(8, kernel_size=3, padding='same', activation='relu')) # 128 x 4 x 4 x 8\n",
        "autoencoder.add(UpSampling2D()) # 128 x 8 x 8 x 8\n",
        "autoencoder.add(Conv2D(8, kernel_size=3, padding='same', activation='relu')) # 사이즈가 128 x 8 x 8 x 8\n",
        "autoencoder.add(UpSampling2D()) # 128 x 16 x 16 x 8\n",
        "autoencoder.add(Conv2D(8, kernel_size=3, activation='relu')) ## 12:22 # padding의 디폴트 값은 valid # 128 x 14 x 14 x 16\n",
        "autoencoder.add(UpSampling2D()) # 128 x 28 x 28 x 16\n",
        "autoencoder.add(Conv2D(8, kernel_size=3, padding='same', activation='sigmoid')) # 128 x 28 x 28 x 1 # 원본 이미지 사이즈로 재생성\n",
        "autoencoder.summary()"
      ],
      "metadata": {
        "colab": {
          "base_uri": "https://localhost:8080/"
        },
        "id": "mIwYJV8wBO_f",
        "outputId": "9df81d2b-dc20-4251-a3d6-8c1edeb70abe"
      },
      "execution_count": 40,
      "outputs": [
        {
          "output_type": "stream",
          "name": "stdout",
          "text": [
            "Model: \"sequential_1\"\n",
            "_________________________________________________________________\n",
            " Layer (type)                Output Shape              Param #   \n",
            "=================================================================\n",
            " conv2d (Conv2D)             (None, 28, 28, 16)        160       \n",
            "                                                                 \n",
            " max_pooling2d (MaxPooling2D  (None, 14, 14, 16)       0         \n",
            " )                                                               \n",
            "                                                                 \n",
            " conv2d_1 (Conv2D)           (None, 14, 14, 8)         1160      \n",
            "                                                                 \n",
            " max_pooling2d_1 (MaxPooling  (None, 7, 7, 8)          0         \n",
            " 2D)                                                             \n",
            "                                                                 \n",
            " conv2d_2 (Conv2D)           (None, 4, 4, 8)           584       \n",
            "                                                                 \n",
            " conv2d_3 (Conv2D)           (None, 4, 4, 8)           584       \n",
            "                                                                 \n",
            " up_sampling2d (UpSampling2D  (None, 8, 8, 8)          0         \n",
            " )                                                               \n",
            "                                                                 \n",
            " conv2d_4 (Conv2D)           (None, 8, 8, 8)           584       \n",
            "                                                                 \n",
            " up_sampling2d_1 (UpSampling  (None, 16, 16, 8)        0         \n",
            " 2D)                                                             \n",
            "                                                                 \n",
            " conv2d_5 (Conv2D)           (None, 14, 14, 8)         584       \n",
            "                                                                 \n",
            " up_sampling2d_2 (UpSampling  (None, 28, 28, 8)        0         \n",
            " 2D)                                                             \n",
            "                                                                 \n",
            " conv2d_6 (Conv2D)           (None, 28, 28, 8)         584       \n",
            "                                                                 \n",
            "=================================================================\n",
            "Total params: 4,240\n",
            "Trainable params: 4,240\n",
            "Non-trainable params: 0\n",
            "_________________________________________________________________\n"
          ]
        }
      ]
    },
    {
      "cell_type": "code",
      "source": [
        "from tensorflow.keras.datasets import mnist\n",
        "from tensorflow.keras.models import Sequential, Model\n",
        "# UpSampling2D\n",
        "from tensorflow.keras.layers import Input, Dense, Conv2D, MaxPooling2D, Flatten, Reshape, UpSampling2D\n",
        "import matplotlib.pyplot as plt\n",
        "import numpy as np\n",
        "(X_train, _), (X_test, _) = mnist.load_data() ## 언더바로 받아서 재사용하지 않겠다라는 것임 11:56\n",
        "X_train = X_train.reshape(X_train.shape[0], 28, 28).astype('float32') / 255\n",
        "X_test = X_test.reshape(X_test.shape[0], 28, 28).astype('float32') / 255"
      ],
      "metadata": {
        "id": "zyYI5Th0hkJ2"
      },
      "execution_count": 41,
      "outputs": []
    },
    {
      "cell_type": "code",
      "source": [
        "autoencoder.compile(optimizer='adam', loss='binary_crossentropy')\n",
        "autoencoder.fit(X_train, X_train, epochs=50, batch_size=128, validation_data=(X_test, X_test))"
      ],
      "metadata": {
        "colab": {
          "base_uri": "https://localhost:8080/",
          "height": 789
        },
        "id": "THzEKEJ-BgNi",
        "outputId": "04ec668c-4191-48c9-a442-fc23cb06968e"
      },
      "execution_count": 42,
      "outputs": [
        {
          "output_type": "stream",
          "name": "stdout",
          "text": [
            "Epoch 1/50\n"
          ]
        },
        {
          "output_type": "error",
          "ename": "ValueError",
          "evalue": "ignored",
          "traceback": [
            "\u001b[0;31m---------------------------------------------------------------------------\u001b[0m",
            "\u001b[0;31mValueError\u001b[0m                                Traceback (most recent call last)",
            "\u001b[0;32m<ipython-input-42-5d5ddca5e3da>\u001b[0m in \u001b[0;36m<module>\u001b[0;34m\u001b[0m\n\u001b[1;32m      1\u001b[0m \u001b[0mautoencoder\u001b[0m\u001b[0;34m.\u001b[0m\u001b[0mcompile\u001b[0m\u001b[0;34m(\u001b[0m\u001b[0moptimizer\u001b[0m\u001b[0;34m=\u001b[0m\u001b[0;34m'adam'\u001b[0m\u001b[0;34m,\u001b[0m \u001b[0mloss\u001b[0m\u001b[0;34m=\u001b[0m\u001b[0;34m'binary_crossentropy'\u001b[0m\u001b[0;34m)\u001b[0m\u001b[0;34m\u001b[0m\u001b[0;34m\u001b[0m\u001b[0m\n\u001b[0;32m----> 2\u001b[0;31m \u001b[0mautoencoder\u001b[0m\u001b[0;34m.\u001b[0m\u001b[0mfit\u001b[0m\u001b[0;34m(\u001b[0m\u001b[0mX_train\u001b[0m\u001b[0;34m,\u001b[0m \u001b[0mX_train\u001b[0m\u001b[0;34m,\u001b[0m \u001b[0mepochs\u001b[0m\u001b[0;34m=\u001b[0m\u001b[0;36m50\u001b[0m\u001b[0;34m,\u001b[0m \u001b[0mbatch_size\u001b[0m\u001b[0;34m=\u001b[0m\u001b[0;36m128\u001b[0m\u001b[0;34m,\u001b[0m \u001b[0mvalidation_data\u001b[0m\u001b[0;34m=\u001b[0m\u001b[0;34m(\u001b[0m\u001b[0mX_test\u001b[0m\u001b[0;34m,\u001b[0m \u001b[0mX_test\u001b[0m\u001b[0;34m)\u001b[0m\u001b[0;34m)\u001b[0m\u001b[0;34m\u001b[0m\u001b[0;34m\u001b[0m\u001b[0m\n\u001b[0m",
            "\u001b[0;32m/usr/local/lib/python3.7/dist-packages/keras/utils/traceback_utils.py\u001b[0m in \u001b[0;36merror_handler\u001b[0;34m(*args, **kwargs)\u001b[0m\n\u001b[1;32m     65\u001b[0m     \u001b[0;32mexcept\u001b[0m \u001b[0mException\u001b[0m \u001b[0;32mas\u001b[0m \u001b[0me\u001b[0m\u001b[0;34m:\u001b[0m  \u001b[0;31m# pylint: disable=broad-except\u001b[0m\u001b[0;34m\u001b[0m\u001b[0;34m\u001b[0m\u001b[0m\n\u001b[1;32m     66\u001b[0m       \u001b[0mfiltered_tb\u001b[0m \u001b[0;34m=\u001b[0m \u001b[0m_process_traceback_frames\u001b[0m\u001b[0;34m(\u001b[0m\u001b[0me\u001b[0m\u001b[0;34m.\u001b[0m\u001b[0m__traceback__\u001b[0m\u001b[0;34m)\u001b[0m\u001b[0;34m\u001b[0m\u001b[0;34m\u001b[0m\u001b[0m\n\u001b[0;32m---> 67\u001b[0;31m       \u001b[0;32mraise\u001b[0m \u001b[0me\u001b[0m\u001b[0;34m.\u001b[0m\u001b[0mwith_traceback\u001b[0m\u001b[0;34m(\u001b[0m\u001b[0mfiltered_tb\u001b[0m\u001b[0;34m)\u001b[0m \u001b[0;32mfrom\u001b[0m \u001b[0;32mNone\u001b[0m\u001b[0;34m\u001b[0m\u001b[0;34m\u001b[0m\u001b[0m\n\u001b[0m\u001b[1;32m     68\u001b[0m     \u001b[0;32mfinally\u001b[0m\u001b[0;34m:\u001b[0m\u001b[0;34m\u001b[0m\u001b[0;34m\u001b[0m\u001b[0m\n\u001b[1;32m     69\u001b[0m       \u001b[0;32mdel\u001b[0m \u001b[0mfiltered_tb\u001b[0m\u001b[0;34m\u001b[0m\u001b[0;34m\u001b[0m\u001b[0m\n",
            "\u001b[0;32m/usr/local/lib/python3.7/dist-packages/keras/engine/training.py\u001b[0m in \u001b[0;36mtf__train_function\u001b[0;34m(iterator)\u001b[0m\n\u001b[1;32m     13\u001b[0m                 \u001b[0;32mtry\u001b[0m\u001b[0;34m:\u001b[0m\u001b[0;34m\u001b[0m\u001b[0;34m\u001b[0m\u001b[0m\n\u001b[1;32m     14\u001b[0m                     \u001b[0mdo_return\u001b[0m \u001b[0;34m=\u001b[0m \u001b[0;32mTrue\u001b[0m\u001b[0;34m\u001b[0m\u001b[0;34m\u001b[0m\u001b[0m\n\u001b[0;32m---> 15\u001b[0;31m                     \u001b[0mretval_\u001b[0m \u001b[0;34m=\u001b[0m \u001b[0mag__\u001b[0m\u001b[0;34m.\u001b[0m\u001b[0mconverted_call\u001b[0m\u001b[0;34m(\u001b[0m\u001b[0mag__\u001b[0m\u001b[0;34m.\u001b[0m\u001b[0mld\u001b[0m\u001b[0;34m(\u001b[0m\u001b[0mstep_function\u001b[0m\u001b[0;34m)\u001b[0m\u001b[0;34m,\u001b[0m \u001b[0;34m(\u001b[0m\u001b[0mag__\u001b[0m\u001b[0;34m.\u001b[0m\u001b[0mld\u001b[0m\u001b[0;34m(\u001b[0m\u001b[0mself\u001b[0m\u001b[0;34m)\u001b[0m\u001b[0;34m,\u001b[0m \u001b[0mag__\u001b[0m\u001b[0;34m.\u001b[0m\u001b[0mld\u001b[0m\u001b[0;34m(\u001b[0m\u001b[0miterator\u001b[0m\u001b[0;34m)\u001b[0m\u001b[0;34m)\u001b[0m\u001b[0;34m,\u001b[0m \u001b[0;32mNone\u001b[0m\u001b[0;34m,\u001b[0m \u001b[0mfscope\u001b[0m\u001b[0;34m)\u001b[0m\u001b[0;34m\u001b[0m\u001b[0;34m\u001b[0m\u001b[0m\n\u001b[0m\u001b[1;32m     16\u001b[0m                 \u001b[0;32mexcept\u001b[0m\u001b[0;34m:\u001b[0m\u001b[0;34m\u001b[0m\u001b[0;34m\u001b[0m\u001b[0m\n\u001b[1;32m     17\u001b[0m                     \u001b[0mdo_return\u001b[0m \u001b[0;34m=\u001b[0m \u001b[0;32mFalse\u001b[0m\u001b[0;34m\u001b[0m\u001b[0;34m\u001b[0m\u001b[0m\n",
            "\u001b[0;31mValueError\u001b[0m: in user code:\n\n    File \"/usr/local/lib/python3.7/dist-packages/keras/engine/training.py\", line 1051, in train_function  *\n        return step_function(self, iterator)\n    File \"/usr/local/lib/python3.7/dist-packages/keras/engine/training.py\", line 1040, in step_function  **\n        outputs = model.distribute_strategy.run(run_step, args=(data,))\n    File \"/usr/local/lib/python3.7/dist-packages/keras/engine/training.py\", line 1030, in run_step  **\n        outputs = model.train_step(data)\n    File \"/usr/local/lib/python3.7/dist-packages/keras/engine/training.py\", line 890, in train_step\n        loss = self.compute_loss(x, y, y_pred, sample_weight)\n    File \"/usr/local/lib/python3.7/dist-packages/keras/engine/training.py\", line 949, in compute_loss\n        y, y_pred, sample_weight, regularization_losses=self.losses)\n    File \"/usr/local/lib/python3.7/dist-packages/keras/engine/compile_utils.py\", line 201, in __call__\n        loss_value = loss_obj(y_t, y_p, sample_weight=sw)\n    File \"/usr/local/lib/python3.7/dist-packages/keras/losses.py\", line 139, in __call__\n        losses = call_fn(y_true, y_pred)\n    File \"/usr/local/lib/python3.7/dist-packages/keras/losses.py\", line 243, in call  **\n        return ag_fn(y_true, y_pred, **self._fn_kwargs)\n    File \"/usr/local/lib/python3.7/dist-packages/keras/losses.py\", line 1930, in binary_crossentropy\n        backend.binary_crossentropy(y_true, y_pred, from_logits=from_logits),\n    File \"/usr/local/lib/python3.7/dist-packages/keras/backend.py\", line 5283, in binary_crossentropy\n        return tf.nn.sigmoid_cross_entropy_with_logits(labels=target, logits=output)\n\n    ValueError: `logits` and `labels` must have the same shape, received ((None, 28, 28, 8) vs (None, 28, 28)).\n"
          ]
        }
      ]
    },
    {
      "cell_type": "code",
      "source": [
        "#생성자 모델 만들기\n",
        "autoencoder = Sequential()\n",
        "\n",
        "#인코딩 부분\n",
        "autoencoder.add(Conv2D(16, kernel_size=3, padding='same', input_shape=(28,28,1), activation='relu'))\n",
        "autoencoder.add(MaxPooling2D(pool_size=2, padding='same'))\n",
        "autoencoder.add(Conv2D(8, kernel_size=3, padding='same', activation='relu'))\n",
        "autoencoder.add(MaxPooling2D(pool_size=2, padding='same'))\n",
        "autoencoder.add(Conv2D(8, kernel_size=3, strides=2, padding='same', activation='relu'))\n",
        "\n",
        "autoencoder.add(Conv2D(8, kernel_size=3, padding='same', activation='relu'))\n",
        "autoencoder.add(UpSampling2D())\n",
        "autoencoder.add(Conv2D(8, kernel_size=3, padding='same', activation='relu'))\n",
        "autoencoder.add(UpSampling2D())\n",
        "autoencoder.add(Conv2D(16, kernel_size=3, activation='relu'))\n",
        "autoencoder.add(UpSampling2D())\n",
        "autoencoder.add(Conv2D(1, kernel_size=3, padding='same', activation='sigmoid'))\n",
        "\n",
        "autoencoder.summary()\n",
        "\n",
        "autoencoder.compile(optimizer='adam', loss='binary_crossentropy')\n",
        "autoencoder.fit(X_train, X_train, epochs=1, batch_size=128, validation_data=(X_test, X_test)) #epochs=50\n",
        "# 컴파일 및 학습을 하는 부분"
      ],
      "metadata": {
        "id": "eGIr85J8HnS7"
      },
      "execution_count": null,
      "outputs": []
    },
    {
      "cell_type": "code",
      "source": [
        "# https://velog.io/@jjaa9292/%EB%94%A5%EB%9F%AC%EB%8B%9D5.-%EB%94%A5%EB%9F%AC%EB%8B%9D-%ED%99%9C%EC%9A%A9-4GAN"
      ],
      "metadata": {
        "id": "9Agki-VHHsjx"
      },
      "execution_count": null,
      "outputs": []
    },
    {
      "cell_type": "code",
      "source": [
        "# 비지도학습인데도 predict 결과값은 원본 이미지를 생성한 이미지\n",
        "random_test = np.random.randint(X_test.shape[0], size=5)\n",
        "ae_imgs = autoencoder.predict(X_test)"
      ],
      "metadata": {
        "id": "gPJX5_AwBtdf"
      },
      "execution_count": null,
      "outputs": []
    },
    {
      "cell_type": "code",
      "source": [
        "# 원본 이미지\n",
        "# 두번째는 생성 이미지\n",
        "plt.figure(figsize=(7, 2))\n",
        "for i, image_idx in enumerate(random_test):\n",
        "  ax = plt.subplot(2, 7, i + 1)\n",
        "  plt.imshow(X_test[image_idx].reshape(28, 28))\n",
        "  ax.axis('off')\n",
        "  ax = plt.subplot(2, 7, 7 + i + 1)\n",
        "  plt.imshow(ae_imgs[image_idx].reshape(28, 28)) #\n",
        "  ax.axis('off')\n",
        "plt.show()"
      ],
      "metadata": {
        "id": "ZLOpb7l1DX-S"
      },
      "execution_count": null,
      "outputs": []
    },
    {
      "cell_type": "code",
      "source": [
        "## 12:15\n",
        "import numpy as np\n",
        "import tensorflow as tf\n",
        "input_shape = (2, 2, 1, 3)\n",
        "# np.sum()\n",
        "x = np.arange(np.prod(input_shape)).reshape(input_shape)\n",
        "print(x)\n",
        "y = tf.keras.layers.UpSampling2D(size=(1, 2))(x) # 행과 열을 의미\n",
        "print(y)\n",
        "# [[[[ 0  1  2]] [[ 0  1  2]] [[ 3  4  5]]] [[ 3  4  5]]]\n",
        "#  [[[ 6  7  8]]  [[ 9 10 11]]]]"
      ],
      "metadata": {
        "id": "DPubV4ijDspt"
      },
      "execution_count": null,
      "outputs": []
    },
    {
      "cell_type": "code",
      "source": [
        "## 12:27 ## 14:00 ## 16:00\n",
        "# 문제\n",
        "from tensorflow.keras import layers, losses\n",
        "latent_dim = 64\n",
        "# FFNN으로 생성된 모델\n",
        "class Autoencoder(Model): ## 모델을 오토인코더가 상속을 받습니다\n",
        "  def __init__(self, encoding_dim): # 구조를 설계\n",
        "    super(Autoencoder, self).__init__() ## 먼저 모델의 초기화(__init__)를 호출\n",
        "    self.latent_dim = latent_dim\n",
        "    # 객체 : 매개변수로 리스트를 입력(레이어를 컴마로 분리해서 처리)\n",
        "    self.encoder = tf.keras.Sequential([ # 분리해서 회로를 생성\n",
        "        layers.Flatten(),\n",
        "        layers.Dense(latent_dim, activation='relu'), # 잠재변수 : 차원 축소\n",
        "    ])\n",
        "    self.decoder = tf.keras.Sequential([\n",
        "        layers.Dense(784, activation='sigmoid'), # 64 * 784\n",
        "        layers.Reshape((28, 28))\n",
        "    ])\n",
        "  def call(self, x): # call의 오버로딩 : 클래스를 함수처럼 호출할 때 사용\n",
        "    encoded = self.encoder(x)\n",
        "    decoded = self.decoder(encoded)\n",
        "    return decoded\n",
        "autoencoder= Autoencoder(latent_dim)"
      ],
      "metadata": {
        "id": "vJCRjDhdJDnU"
      },
      "execution_count": null,
      "outputs": []
    },
    {
      "cell_type": "code",
      "source": [
        "# https://www.tensorflow.org/tutorials/generative/autoencoder?hl=ko"
      ],
      "metadata": {
        "id": "SyLlYiP6N7te"
      },
      "execution_count": null,
      "outputs": []
    },
    {
      "cell_type": "code",
      "source": [
        "autoencoder.compile(optimizer='adam', loss=losses.MeanSquaredError()) # tensorflow로 번역\n",
        "# 문제 1 : fitting 시켜보시오 ## 12:35\n",
        "# 문제 2 : 원본 이미지와 복원된 이미지를 출력해보시오"
      ],
      "metadata": {
        "id": "dnDitnO2MB3J"
      },
      "execution_count": null,
      "outputs": []
    },
    {
      "cell_type": "code",
      "source": [
        "# 정답\n",
        "autoencoder.fit(X_train, X_train,\n",
        "                epochs=50,\n",
        "                batch_size=128,\n",
        "                validation_data=(X_test, X_test))"
      ],
      "metadata": {
        "id": "S7IoaLR-ileX"
      },
      "execution_count": null,
      "outputs": []
    },
    {
      "cell_type": "code",
      "source": [
        "autoencoder.fit(X_train, X_train,\n",
        "                epochs=10,\n",
        "                shuffle=True,\n",
        "                validation_data=(X_test, X_test))"
      ],
      "metadata": {
        "id": "-EAR5FTVMLQs"
      },
      "execution_count": null,
      "outputs": []
    },
    {
      "cell_type": "code",
      "source": [
        "# 정답\n",
        "encoded_imgs = autoencoder.encoder(X_test).numpy()\n",
        "decoded_imgs = autoencoder.decoder(encoded_imgs).numpy()"
      ],
      "metadata": {
        "id": "2_ePhAQ_PMbQ"
      },
      "execution_count": null,
      "outputs": []
    },
    {
      "cell_type": "code",
      "source": [
        "from tensorflow.keras.datasets import mnist\n",
        "from tensorflow.keras.models import Sequential, Model\n",
        "# UpSampling2D\n",
        "from tensorflow.keras.layers import Input, Dense, Conv2D, MaxPooling2D, Flatten, Reshape, UpSampling2D\n",
        "import matplotlib.pyplot as plt\n",
        "import numpy as np\n",
        "(X_train, _), (X_test, _) = mnist.load_data() ## 언더바로 받아서 재사용하지 않겠다라는 것임 11:56\n",
        "X_train = X_train.reshape(X_train.shape[0], 28, 28).astype('float32') / 255\n",
        "X_test = X_test.reshape(X_test.shape[0], 28, 28).astype('float32') / 255"
      ],
      "metadata": {
        "id": "iLX2e1ehPfTd"
      },
      "execution_count": null,
      "outputs": []
    },
    {
      "cell_type": "code",
      "source": [
        "# 정답\n",
        "plt.figure(figsize=(7,2))\n",
        "for i, image_idx in enumerate(random_test):\n",
        "  ax = plt.subplot(2, 7, i + 1)\n",
        "  plt.imshow(X_test[image_idx].reshape(28, 28))\n",
        "  ax.axis('off')\n",
        "  ax = plt.subplot(2, 7, 7 + i + 1)\n",
        "  plt.imshow(decoded_imgs[image_idx]) #\n",
        "  ax.axis('off')"
      ],
      "metadata": {
        "id": "6gOyYmKYi53b"
      },
      "execution_count": null,
      "outputs": []
    },
    {
      "cell_type": "code",
      "source": [
        "n = 10\n",
        "plt.figure(figsize=(20, 4))\n",
        "for i in range(n):\n",
        "  # display original\n",
        "  ax = plt.subplot(2, n, i + 1)\n",
        "  plt.imshow(X_test[i])\n",
        "  plt.title(\"original\")\n",
        "  plt.gray()\n",
        "  ax.get_xaxis().set_visible(False)\n",
        "  ax.get_yaxis().set_visible(False)\n",
        "\n",
        "  # display reconstruction\n",
        "  ax = plt.subplot(2, n, i + 1 + n)\n",
        "  plt.imshow(decoded_imgs[i])\n",
        "  plt.title(\"reconstructed\")\n",
        "  plt.gray()\n",
        "  ax.get_xaxis().set_visible(False)\n",
        "  ax.get_yaxis().set_visible(False)\n",
        "plt.show()"
      ],
      "metadata": {
        "id": "9qiqzy3_OAGJ"
      },
      "execution_count": null,
      "outputs": []
    },
    {
      "cell_type": "markdown",
      "source": [
        "# Fashion_mnist AE로 특징을 추출하시오\n",
        "- 차수를 확인하고 class base로 CNN을 가미해서 AE 망을 이용해서 64차원으로 특징을 추출하고 복원된 이미지를 출력해보시오.\n",
        "- 개별 문제"
      ],
      "metadata": {
        "id": "PTnvw7vpjbeu"
      }
    },
    {
      "cell_type": "code",
      "source": [
        "from tensorflow.keras.datasets import fashion_mnist\n",
        "(x_train, _), (x_test, _) = fashion_mnist.load_data()"
      ],
      "metadata": {
        "colab": {
          "base_uri": "https://localhost:8080/"
        },
        "id": "2eW_2UJsjazO",
        "outputId": "e0d7423a-c312-4e59-b9b9-04b89a1e62c2"
      },
      "execution_count": 46,
      "outputs": [
        {
          "output_type": "stream",
          "name": "stdout",
          "text": [
            "Downloading data from https://storage.googleapis.com/tensorflow/tf-keras-datasets/train-labels-idx1-ubyte.gz\n",
            "29515/29515 [==============================] - 0s 0us/step\n",
            "Downloading data from https://storage.googleapis.com/tensorflow/tf-keras-datasets/train-images-idx3-ubyte.gz\n",
            "26421880/26421880 [==============================] - 0s 0us/step\n",
            "Downloading data from https://storage.googleapis.com/tensorflow/tf-keras-datasets/t10k-labels-idx1-ubyte.gz\n",
            "5148/5148 [==============================] - 0s 0us/step\n",
            "Downloading data from https://storage.googleapis.com/tensorflow/tf-keras-datasets/t10k-images-idx3-ubyte.gz\n",
            "4422102/4422102 [==============================] - 0s 0us/step\n"
          ]
        }
      ]
    },
    {
      "cell_type": "code",
      "source": [
        "## 정규화 ## 차수 확인\n",
        "x_train = x_train.astype('float32') / 255.\n",
        "x_test = x_test.astype('float32') / 255.\n",
        "\n",
        "print (x_train.shape)\n",
        "print (x_test.shape)"
      ],
      "metadata": {
        "colab": {
          "base_uri": "https://localhost:8080/"
        },
        "id": "OKCCI-SCmwds",
        "outputId": "a0e2f79a-c2b7-4b38-dbcc-b81a4126af3f"
      },
      "execution_count": 47,
      "outputs": [
        {
          "output_type": "stream",
          "name": "stdout",
          "text": [
            "(60000, 28, 28)\n",
            "(10000, 28, 28)\n"
          ]
        }
      ]
    },
    {
      "cell_type": "code",
      "source": [
        "## 16:00\n",
        "# encoder 부분 -> 특징 추출\n",
        "autoencoder = Sequential()\n",
        "# 28 x 28 = 784 픽셀로 표현되는 이미지가 \n",
        "## 16:00 레이어를 추가하는 방식?\n",
        "autoencoder.add(Conv2D(16, kernel_size=3, padding='same', input_shape=(28, 28, 1), activation='relu')) # 128, 28, 28, 16\n",
        "autoencoder.add(MaxPooling2D(pool_size=2, padding='same')) # 128 x 14 x 14 x 16\n",
        "autoencoder.add(Conv2D(8, kernel_size=3, activation='relu', padding='same')) # 128 x 14 x 14 x 8\n",
        "autoencoder.add(MaxPooling2D(pool_size=2, padding='same')) # 128 x 7 x 7 x 8\n",
        "autoencoder.add(Conv2D(8, kernel_size=3, strides=2, padding='same', activation='relu')) # 128 x 4 x 4 x 8\n",
        "# 특징 : 4 x 4 x 8 => 128 픽셀로 차원축소 === PCA ## 128개로 압축된거죠? ## 12:01\n",
        "## 12:14 ## https://www.tensorflow.org/api_docs/python/tf/keras/layers/UpSampling2D"
      ],
      "metadata": {
        "id": "PgRY3Agsvl0h"
      },
      "execution_count": 48,
      "outputs": []
    },
    {
      "cell_type": "code",
      "source": [
        "## 기본 AE(Auto Encoder)를 구현하기 위한 코드 ## class base로 CNN을 가미\n",
        "latent_dim = 64 ## 64차원으로 특징 추출\n",
        "from tensorflow.keras.layers import Input, Dense, Conv2D, MaxPooling2D, Flatten, Reshape, UpSampling2D\n",
        "from tensorflow.keras import layers, losses\n",
        "class Denoise(Model):\n",
        "  def __init__(self):\n",
        "    super(Denoise, self).__init__()\n",
        "    self.encoder = tf.keras.Sequential([\n",
        "      layers.Input(shape=(28, 28, 1)), # 이미지가 28x28 픽셀\n",
        "      layers.Conv2D(16, (3,3), activation='relu', padding='same', strides=2),  #Conv2D(필터 수, 커널의 (행,열) ...)  # zero padding\n",
        "      layers.Conv2D(8, (3,3), activation='relu', padding='same', strides=2)])\n",
        "    \n",
        "    self.decoder = tf.keras.Sequential([\n",
        "      layers.Conv2DTranspose(8, kernel_size=3, strides=2, activation='relu', padding='same'),\n",
        "      layers.Conv2DTranspose(16, kernel_size=3, strides=2, activation='relu', padding='same'),\n",
        "      layers.Conv2D(1, kernel_size=(3,3), activation='sigmoid', padding='same')])  # output크기 맞춤\n",
        "    \n",
        "  def call(self, x):\n",
        "    encoded = self.encoder(x)\n",
        "    decoded = self.decoder(encoded)\n",
        "    return decoded\n",
        "\n",
        "autoencoder = Denoise()\n"
      ],
      "metadata": {
        "id": "eEmN-GSqnCj2"
      },
      "execution_count": 67,
      "outputs": []
    },
    {
      "cell_type": "code",
      "source": [
        "# decoded된 데이터를 output으로 설정\n",
        "autoencoder = Autoencoder(latent_dim) "
      ],
      "metadata": {
        "id": "tZ6AdZusnK1b",
        "colab": {
          "base_uri": "https://localhost:8080/",
          "height": 193
        },
        "outputId": "08637ce4-b40b-4dfd-ddfc-45424e660d48"
      },
      "execution_count": 68,
      "outputs": [
        {
          "output_type": "error",
          "ename": "NameError",
          "evalue": "ignored",
          "traceback": [
            "\u001b[0;31m---------------------------------------------------------------------------\u001b[0m",
            "\u001b[0;31mNameError\u001b[0m                                 Traceback (most recent call last)",
            "\u001b[0;32m<ipython-input-68-c12c9d85e2fd>\u001b[0m in \u001b[0;36m<module>\u001b[0;34m\u001b[0m\n\u001b[1;32m      1\u001b[0m \u001b[0;31m# decoded된 데이터를 output으로 설정\u001b[0m\u001b[0;34m\u001b[0m\u001b[0;34m\u001b[0m\u001b[0;34m\u001b[0m\u001b[0m\n\u001b[0;32m----> 2\u001b[0;31m \u001b[0mautoencoder\u001b[0m \u001b[0;34m=\u001b[0m \u001b[0mAutoencoder\u001b[0m\u001b[0;34m(\u001b[0m\u001b[0mlatent_dim\u001b[0m\u001b[0;34m)\u001b[0m\u001b[0;34m\u001b[0m\u001b[0;34m\u001b[0m\u001b[0m\n\u001b[0m",
            "\u001b[0;31mNameError\u001b[0m: name 'Autoencoder' is not defined"
          ]
        }
      ]
    },
    {
      "cell_type": "code",
      "source": [
        "autoencoder.compile(optimizer='adam', loss=losses.MeanSquaredError())"
      ],
      "metadata": {
        "id": "S8PPTTvfncup"
      },
      "execution_count": 69,
      "outputs": []
    },
    {
      "cell_type": "code",
      "source": [
        "# AE망을 이용하여 훈련\n",
        "autoencoder.fit(x_train, x_train,\n",
        "                epochs=10,  \n",
        "                shuffle=True,\n",
        "                validation_data=(x_test, x_test))"
      ],
      "metadata": {
        "colab": {
          "base_uri": "https://localhost:8080/"
        },
        "id": "I2zCKeKjoB_q",
        "outputId": "7187c68e-3af9-4d69-fce9-6e616cf4f5dd"
      },
      "execution_count": 70,
      "outputs": [
        {
          "output_type": "stream",
          "name": "stdout",
          "text": [
            "Epoch 1/10\n",
            "1875/1875 [==============================] - 8s 4ms/step - loss: 0.0136 - val_loss: 0.0065\n",
            "Epoch 2/10\n",
            "1875/1875 [==============================] - 8s 4ms/step - loss: 0.0055 - val_loss: 0.0049\n",
            "Epoch 3/10\n",
            "1875/1875 [==============================] - 7s 3ms/step - loss: 0.0045 - val_loss: 0.0040\n",
            "Epoch 4/10\n",
            "1875/1875 [==============================] - 7s 4ms/step - loss: 0.0036 - val_loss: 0.0032\n",
            "Epoch 5/10\n",
            "1875/1875 [==============================] - 6s 3ms/step - loss: 0.0031 - val_loss: 0.0029\n",
            "Epoch 6/10\n",
            "1875/1875 [==============================] - 7s 4ms/step - loss: 0.0028 - val_loss: 0.0027\n",
            "Epoch 7/10\n",
            "1875/1875 [==============================] - 7s 4ms/step - loss: 0.0027 - val_loss: 0.0026\n",
            "Epoch 8/10\n",
            "1875/1875 [==============================] - 7s 4ms/step - loss: 0.0026 - val_loss: 0.0026\n",
            "Epoch 9/10\n",
            "1875/1875 [==============================] - 7s 4ms/step - loss: 0.0025 - val_loss: 0.0025\n",
            "Epoch 10/10\n",
            "1875/1875 [==============================] - 6s 3ms/step - loss: 0.0024 - val_loss: 0.0024\n"
          ]
        },
        {
          "output_type": "execute_result",
          "data": {
            "text/plain": [
              "<keras.callbacks.History at 0x7fe9a09448d0>"
            ]
          },
          "metadata": {},
          "execution_count": 70
        }
      ]
    },
    {
      "cell_type": "code",
      "source": [
        "encoded_imgs = autoencoder.encoder(x_test).numpy()  # numpy로 type 변환 : 그림을 그리기 위해\n",
        "decoded_imgs = autoencoder.decoder(encoded_imgs).numpy()"
      ],
      "metadata": {
        "id": "H4lQOxvboND4"
      },
      "execution_count": 53,
      "outputs": []
    },
    {
      "cell_type": "code",
      "source": [
        "## 복원된 이미지 출력\n",
        "n = 10   # 몇 개의 이미지 볼 것인지\n",
        "plt.figure(figsize=(20, 4))\n",
        "for i in range(n):\n",
        "  # display original\n",
        "  ax = plt.subplot(2, n, i + 1)  # 행, 열, 몇 번째\n",
        "  plt.imshow(x_test[i])\n",
        "  plt.title(\"original\")\n",
        "  plt.gray()\n",
        "  ax.get_xaxis().set_visible(False)\n",
        "  ax.get_yaxis().set_visible(False)\n",
        "\n",
        "  # display reconstruction\n",
        "  ax = plt.subplot(2, n, i + 1 + n)\n",
        "  plt.imshow(decoded_imgs[i])\n",
        "  plt.title(\"reconstructed\")\n",
        "  plt.gray()\n",
        "  ax.get_xaxis().set_visible(False)\n",
        "  ax.get_yaxis().set_visible(False)\n",
        "plt.show()"
      ],
      "metadata": {
        "colab": {
          "base_uri": "https://localhost:8080/",
          "height": 661
        },
        "id": "PXhHJyD7oiMI",
        "outputId": "4adfb05d-c2d3-4777-bdd9-fdd35e46b972"
      },
      "execution_count": 54,
      "outputs": [
        {
          "output_type": "error",
          "ename": "TypeError",
          "evalue": "ignored",
          "traceback": [
            "\u001b[0;31m---------------------------------------------------------------------------\u001b[0m",
            "\u001b[0;31mTypeError\u001b[0m                                 Traceback (most recent call last)",
            "\u001b[0;32m<ipython-input-54-fbc9ae71a0dd>\u001b[0m in \u001b[0;36m<module>\u001b[0;34m\u001b[0m\n\u001b[1;32m     13\u001b[0m   \u001b[0;31m# display reconstruction\u001b[0m\u001b[0;34m\u001b[0m\u001b[0;34m\u001b[0m\u001b[0;34m\u001b[0m\u001b[0m\n\u001b[1;32m     14\u001b[0m   \u001b[0max\u001b[0m \u001b[0;34m=\u001b[0m \u001b[0mplt\u001b[0m\u001b[0;34m.\u001b[0m\u001b[0msubplot\u001b[0m\u001b[0;34m(\u001b[0m\u001b[0;36m2\u001b[0m\u001b[0;34m,\u001b[0m \u001b[0mn\u001b[0m\u001b[0;34m,\u001b[0m \u001b[0mi\u001b[0m \u001b[0;34m+\u001b[0m \u001b[0;36m1\u001b[0m \u001b[0;34m+\u001b[0m \u001b[0mn\u001b[0m\u001b[0;34m)\u001b[0m\u001b[0;34m\u001b[0m\u001b[0;34m\u001b[0m\u001b[0m\n\u001b[0;32m---> 15\u001b[0;31m   \u001b[0mplt\u001b[0m\u001b[0;34m.\u001b[0m\u001b[0mimshow\u001b[0m\u001b[0;34m(\u001b[0m\u001b[0mdecoded_imgs\u001b[0m\u001b[0;34m[\u001b[0m\u001b[0mi\u001b[0m\u001b[0;34m]\u001b[0m\u001b[0;34m)\u001b[0m\u001b[0;34m\u001b[0m\u001b[0;34m\u001b[0m\u001b[0m\n\u001b[0m\u001b[1;32m     16\u001b[0m   \u001b[0mplt\u001b[0m\u001b[0;34m.\u001b[0m\u001b[0mtitle\u001b[0m\u001b[0;34m(\u001b[0m\u001b[0;34m\"reconstructed\"\u001b[0m\u001b[0;34m)\u001b[0m\u001b[0;34m\u001b[0m\u001b[0;34m\u001b[0m\u001b[0m\n\u001b[1;32m     17\u001b[0m   \u001b[0mplt\u001b[0m\u001b[0;34m.\u001b[0m\u001b[0mgray\u001b[0m\u001b[0;34m(\u001b[0m\u001b[0;34m)\u001b[0m\u001b[0;34m\u001b[0m\u001b[0;34m\u001b[0m\u001b[0m\n",
            "\u001b[0;32m/usr/local/lib/python3.7/dist-packages/matplotlib/pyplot.py\u001b[0m in \u001b[0;36mimshow\u001b[0;34m(X, cmap, norm, aspect, interpolation, alpha, vmin, vmax, origin, extent, shape, filternorm, filterrad, imlim, resample, url, data, **kwargs)\u001b[0m\n\u001b[1;32m   2649\u001b[0m         \u001b[0mfilternorm\u001b[0m\u001b[0;34m=\u001b[0m\u001b[0mfilternorm\u001b[0m\u001b[0;34m,\u001b[0m \u001b[0mfilterrad\u001b[0m\u001b[0;34m=\u001b[0m\u001b[0mfilterrad\u001b[0m\u001b[0;34m,\u001b[0m \u001b[0mimlim\u001b[0m\u001b[0;34m=\u001b[0m\u001b[0mimlim\u001b[0m\u001b[0;34m,\u001b[0m\u001b[0;34m\u001b[0m\u001b[0;34m\u001b[0m\u001b[0m\n\u001b[1;32m   2650\u001b[0m         resample=resample, url=url, **({\"data\": data} if data is not\n\u001b[0;32m-> 2651\u001b[0;31m         None else {}), **kwargs)\n\u001b[0m\u001b[1;32m   2652\u001b[0m     \u001b[0msci\u001b[0m\u001b[0;34m(\u001b[0m\u001b[0m__ret\u001b[0m\u001b[0;34m)\u001b[0m\u001b[0;34m\u001b[0m\u001b[0;34m\u001b[0m\u001b[0m\n\u001b[1;32m   2653\u001b[0m     \u001b[0;32mreturn\u001b[0m \u001b[0m__ret\u001b[0m\u001b[0;34m\u001b[0m\u001b[0;34m\u001b[0m\u001b[0m\n",
            "\u001b[0;32m/usr/local/lib/python3.7/dist-packages/matplotlib/__init__.py\u001b[0m in \u001b[0;36minner\u001b[0;34m(ax, data, *args, **kwargs)\u001b[0m\n\u001b[1;32m   1563\u001b[0m     \u001b[0;32mdef\u001b[0m \u001b[0minner\u001b[0m\u001b[0;34m(\u001b[0m\u001b[0max\u001b[0m\u001b[0;34m,\u001b[0m \u001b[0;34m*\u001b[0m\u001b[0margs\u001b[0m\u001b[0;34m,\u001b[0m \u001b[0mdata\u001b[0m\u001b[0;34m=\u001b[0m\u001b[0;32mNone\u001b[0m\u001b[0;34m,\u001b[0m \u001b[0;34m**\u001b[0m\u001b[0mkwargs\u001b[0m\u001b[0;34m)\u001b[0m\u001b[0;34m:\u001b[0m\u001b[0;34m\u001b[0m\u001b[0;34m\u001b[0m\u001b[0m\n\u001b[1;32m   1564\u001b[0m         \u001b[0;32mif\u001b[0m \u001b[0mdata\u001b[0m \u001b[0;32mis\u001b[0m \u001b[0;32mNone\u001b[0m\u001b[0;34m:\u001b[0m\u001b[0;34m\u001b[0m\u001b[0;34m\u001b[0m\u001b[0m\n\u001b[0;32m-> 1565\u001b[0;31m             \u001b[0;32mreturn\u001b[0m \u001b[0mfunc\u001b[0m\u001b[0;34m(\u001b[0m\u001b[0max\u001b[0m\u001b[0;34m,\u001b[0m \u001b[0;34m*\u001b[0m\u001b[0mmap\u001b[0m\u001b[0;34m(\u001b[0m\u001b[0msanitize_sequence\u001b[0m\u001b[0;34m,\u001b[0m \u001b[0margs\u001b[0m\u001b[0;34m)\u001b[0m\u001b[0;34m,\u001b[0m \u001b[0;34m**\u001b[0m\u001b[0mkwargs\u001b[0m\u001b[0;34m)\u001b[0m\u001b[0;34m\u001b[0m\u001b[0;34m\u001b[0m\u001b[0m\n\u001b[0m\u001b[1;32m   1566\u001b[0m \u001b[0;34m\u001b[0m\u001b[0m\n\u001b[1;32m   1567\u001b[0m         \u001b[0mbound\u001b[0m \u001b[0;34m=\u001b[0m \u001b[0mnew_sig\u001b[0m\u001b[0;34m.\u001b[0m\u001b[0mbind\u001b[0m\u001b[0;34m(\u001b[0m\u001b[0max\u001b[0m\u001b[0;34m,\u001b[0m \u001b[0;34m*\u001b[0m\u001b[0margs\u001b[0m\u001b[0;34m,\u001b[0m \u001b[0;34m**\u001b[0m\u001b[0mkwargs\u001b[0m\u001b[0;34m)\u001b[0m\u001b[0;34m\u001b[0m\u001b[0;34m\u001b[0m\u001b[0m\n",
            "\u001b[0;32m/usr/local/lib/python3.7/dist-packages/matplotlib/cbook/deprecation.py\u001b[0m in \u001b[0;36mwrapper\u001b[0;34m(*args, **kwargs)\u001b[0m\n\u001b[1;32m    356\u001b[0m                 \u001b[0;34mf\"%(removal)s.  If any parameter follows {name!r}, they \"\u001b[0m\u001b[0;34m\u001b[0m\u001b[0;34m\u001b[0m\u001b[0m\n\u001b[1;32m    357\u001b[0m                 f\"should be pass as keyword, not positionally.\")\n\u001b[0;32m--> 358\u001b[0;31m         \u001b[0;32mreturn\u001b[0m \u001b[0mfunc\u001b[0m\u001b[0;34m(\u001b[0m\u001b[0;34m*\u001b[0m\u001b[0margs\u001b[0m\u001b[0;34m,\u001b[0m \u001b[0;34m**\u001b[0m\u001b[0mkwargs\u001b[0m\u001b[0;34m)\u001b[0m\u001b[0;34m\u001b[0m\u001b[0;34m\u001b[0m\u001b[0m\n\u001b[0m\u001b[1;32m    359\u001b[0m \u001b[0;34m\u001b[0m\u001b[0m\n\u001b[1;32m    360\u001b[0m     \u001b[0;32mreturn\u001b[0m \u001b[0mwrapper\u001b[0m\u001b[0;34m\u001b[0m\u001b[0;34m\u001b[0m\u001b[0m\n",
            "\u001b[0;32m/usr/local/lib/python3.7/dist-packages/matplotlib/cbook/deprecation.py\u001b[0m in \u001b[0;36mwrapper\u001b[0;34m(*args, **kwargs)\u001b[0m\n\u001b[1;32m    356\u001b[0m                 \u001b[0;34mf\"%(removal)s.  If any parameter follows {name!r}, they \"\u001b[0m\u001b[0;34m\u001b[0m\u001b[0;34m\u001b[0m\u001b[0m\n\u001b[1;32m    357\u001b[0m                 f\"should be pass as keyword, not positionally.\")\n\u001b[0;32m--> 358\u001b[0;31m         \u001b[0;32mreturn\u001b[0m \u001b[0mfunc\u001b[0m\u001b[0;34m(\u001b[0m\u001b[0;34m*\u001b[0m\u001b[0margs\u001b[0m\u001b[0;34m,\u001b[0m \u001b[0;34m**\u001b[0m\u001b[0mkwargs\u001b[0m\u001b[0;34m)\u001b[0m\u001b[0;34m\u001b[0m\u001b[0;34m\u001b[0m\u001b[0m\n\u001b[0m\u001b[1;32m    359\u001b[0m \u001b[0;34m\u001b[0m\u001b[0m\n\u001b[1;32m    360\u001b[0m     \u001b[0;32mreturn\u001b[0m \u001b[0mwrapper\u001b[0m\u001b[0;34m\u001b[0m\u001b[0;34m\u001b[0m\u001b[0m\n",
            "\u001b[0;32m/usr/local/lib/python3.7/dist-packages/matplotlib/axes/_axes.py\u001b[0m in \u001b[0;36mimshow\u001b[0;34m(self, X, cmap, norm, aspect, interpolation, alpha, vmin, vmax, origin, extent, shape, filternorm, filterrad, imlim, resample, url, **kwargs)\u001b[0m\n\u001b[1;32m   5624\u001b[0m                               resample=resample, **kwargs)\n\u001b[1;32m   5625\u001b[0m \u001b[0;34m\u001b[0m\u001b[0m\n\u001b[0;32m-> 5626\u001b[0;31m         \u001b[0mim\u001b[0m\u001b[0;34m.\u001b[0m\u001b[0mset_data\u001b[0m\u001b[0;34m(\u001b[0m\u001b[0mX\u001b[0m\u001b[0;34m)\u001b[0m\u001b[0;34m\u001b[0m\u001b[0;34m\u001b[0m\u001b[0m\n\u001b[0m\u001b[1;32m   5627\u001b[0m         \u001b[0mim\u001b[0m\u001b[0;34m.\u001b[0m\u001b[0mset_alpha\u001b[0m\u001b[0;34m(\u001b[0m\u001b[0malpha\u001b[0m\u001b[0;34m)\u001b[0m\u001b[0;34m\u001b[0m\u001b[0;34m\u001b[0m\u001b[0m\n\u001b[1;32m   5628\u001b[0m         \u001b[0;32mif\u001b[0m \u001b[0mim\u001b[0m\u001b[0;34m.\u001b[0m\u001b[0mget_clip_path\u001b[0m\u001b[0;34m(\u001b[0m\u001b[0;34m)\u001b[0m \u001b[0;32mis\u001b[0m \u001b[0;32mNone\u001b[0m\u001b[0;34m:\u001b[0m\u001b[0;34m\u001b[0m\u001b[0;34m\u001b[0m\u001b[0m\n",
            "\u001b[0;32m/usr/local/lib/python3.7/dist-packages/matplotlib/image.py\u001b[0m in \u001b[0;36mset_data\u001b[0;34m(self, A)\u001b[0m\n\u001b[1;32m    697\u001b[0m                 or self._A.ndim == 3 and self._A.shape[-1] in [3, 4]):\n\u001b[1;32m    698\u001b[0m             raise TypeError(\"Invalid shape {} for image data\"\n\u001b[0;32m--> 699\u001b[0;31m                             .format(self._A.shape))\n\u001b[0m\u001b[1;32m    700\u001b[0m \u001b[0;34m\u001b[0m\u001b[0m\n\u001b[1;32m    701\u001b[0m         \u001b[0;32mif\u001b[0m \u001b[0mself\u001b[0m\u001b[0;34m.\u001b[0m\u001b[0m_A\u001b[0m\u001b[0;34m.\u001b[0m\u001b[0mndim\u001b[0m \u001b[0;34m==\u001b[0m \u001b[0;36m3\u001b[0m\u001b[0;34m:\u001b[0m\u001b[0;34m\u001b[0m\u001b[0;34m\u001b[0m\u001b[0m\n",
            "\u001b[0;31mTypeError\u001b[0m: Invalid shape (28, 28, 1) for image data"
          ]
        },
        {
          "output_type": "display_data",
          "data": {
            "text/plain": [
              "<Figure size 1440x288 with 2 Axes>"
            ],
            "image/png": "[encoded data removed]"
          },
          "metadata": {
            "needs_background": "light"
          }
        }
      ]
    },
    {
      "cell_type": "code",
      "source": [
        "#---------------------------------------------------------------------------- 16:06"
      ],
      "metadata": {
        "id": "GLgo2YfTolpq"
      },
      "execution_count": null,
      "outputs": []
    },
    {
      "cell_type": "code",
      "source": [
        "from tensorflow.keras import layers, losses\n",
        "latent_dim = 64\n",
        "# FFNN으로 생성된 모델\n",
        "class Autoencoder(Model): ## 모델을 오토인코더가 상속을 받습니다\n",
        "  def __init__(self, encoding_dim): # 구조를 설계\n",
        "    super(Autoencoder, self).__init__() ## 먼저 모델의 초기화(__init__)를 호출\n",
        "    self.latent_dim = latent_dim\n",
        "    self.encoder = tf.keras.Sequential([\n",
        "        layers.add(Conv2D(16, kernel_size=3, padding='same', input_shape=(28, 28, 1), activation='relu')) \n",
        "        layers.add(MaxPooling2D(pool_size=2, padding='same'))\n",
        "        layers.add(Conv2D(8, kernel_size=3, activation='relu', padding='same')) \n",
        "        layers.add(MaxPooling2D(pool_size=2, padding='same')) \n",
        "        layers.add(Conv2D(8, kernel_size=3, strides=2, padding='same', activation='relu')) # 4 x 4 x 4 x 64\n",
        "    ])\n",
        "    self.decoder = tf.keras.Sequential([\n",
        "        # decoder 부분 -> 원본 생성\n",
        "        layers.add(Conv2D(4, kernel_size=3, padding='same', activation='relu')) # 128 x 4 x 4 x 4\n",
        "        layers.add(UpSampling2D()) \n",
        "        layers.add(Conv2D(8, kernel_size=3, padding='same', activation='relu')) # 사이즈가 128 x 8 x 8 x 4\n",
        "        layers.add(UpSampling2D()) \n",
        "        layers.add(Conv2D(16, kernel_size=3, activation='relu')) \n",
        "        layers.add(UpSampling2D())    \n",
        "        layers.add(Conv2D(1, kernel_size=3, padding='same', activation='sigmoid')) # 784\n",
        "        layers.reshape(28, 28)\n",
        "    ])\n",
        "  def call(self, x): # call의 오버로딩 : 클래스를 함수처럼 호출할 때 사용\n",
        "    encoded = self.encoder(x)\n",
        "    decoded = self.decoder(encoded)\n",
        "    return decoded\n",
        "autoencoder= Autoencoder(latent_dim)"
      ],
      "metadata": {
        "colab": {
          "base_uri": "https://localhost:8080/",
          "height": 137
        },
        "id": "l74q_BQl9rRi",
        "outputId": "a037651a-13bc-4cc4-e914-ca361cd6dcc1"
      },
      "execution_count": 55,
      "outputs": [
        {
          "output_type": "error",
          "ename": "SyntaxError",
          "evalue": "ignored",
          "traceback": [
            "\u001b[0;36m  File \u001b[0;32m\"<ipython-input-55-d7ea08d5d850>\"\u001b[0;36m, line \u001b[0;32m10\u001b[0m\n\u001b[0;31m    layers.add(MaxPooling2D(pool_size=2, padding='same'))\u001b[0m\n\u001b[0m         ^\u001b[0m\n\u001b[0;31mSyntaxError\u001b[0m\u001b[0;31m:\u001b[0m invalid syntax\n"
          ]
        }
      ]
    },
    {
      "cell_type": "code",
      "source": [
        "autoencoder.compile(optimizer='adam', loss='binary_crossentropy')\n",
        "autoencoder.fit(X_train, X_train, epochs=50, batch_size=128, validation_data=(X_test, X_test))"
      ],
      "metadata": {
        "colab": {
          "base_uri": "https://localhost:8080/"
        },
        "id": "cP1wsVcn9z0C",
        "outputId": "0b59befd-d3a3-4bf9-810c-52a12d71811e"
      },
      "execution_count": 56,
      "outputs": [
        {
          "output_type": "stream",
          "name": "stdout",
          "text": [
            "Epoch 1/50\n",
            "469/469 [==============================] - 4s 6ms/step - loss: 0.0670 - val_loss: 0.0657\n",
            "Epoch 2/50\n",
            "469/469 [==============================] - 2s 5ms/step - loss: 0.0659 - val_loss: 0.0653\n",
            "Epoch 3/50\n",
            "469/469 [==============================] - 2s 5ms/step - loss: 0.0657 - val_loss: 0.0650\n",
            "Epoch 4/50\n",
            "469/469 [==============================] - 2s 5ms/step - loss: 0.0654 - val_loss: 0.0649\n",
            "Epoch 5/50\n",
            "469/469 [==============================] - 2s 5ms/step - loss: 0.0652 - val_loss: 0.0646\n",
            "Epoch 6/50\n",
            "469/469 [==============================] - 2s 5ms/step - loss: 0.0650 - val_loss: 0.0645\n",
            "Epoch 7/50\n",
            "469/469 [==============================] - 3s 5ms/step - loss: 0.0649 - val_loss: 0.0644\n",
            "Epoch 8/50\n",
            "469/469 [==============================] - 2s 5ms/step - loss: 0.0648 - val_loss: 0.0643\n",
            "Epoch 9/50\n",
            "469/469 [==============================] - 2s 5ms/step - loss: 0.0647 - val_loss: 0.0642\n",
            "Epoch 10/50\n",
            "469/469 [==============================] - 3s 5ms/step - loss: 0.0646 - val_loss: 0.0642\n",
            "Epoch 11/50\n",
            "469/469 [==============================] - 2s 5ms/step - loss: 0.0645 - val_loss: 0.0641\n",
            "Epoch 12/50\n",
            "469/469 [==============================] - 3s 5ms/step - loss: 0.0645 - val_loss: 0.0640\n",
            "Epoch 13/50\n",
            "469/469 [==============================] - 3s 6ms/step - loss: 0.0644 - val_loss: 0.0640\n",
            "Epoch 14/50\n",
            "469/469 [==============================] - 2s 5ms/step - loss: 0.0643 - val_loss: 0.0639\n",
            "Epoch 15/50\n",
            "469/469 [==============================] - 2s 5ms/step - loss: 0.0643 - val_loss: 0.0638\n",
            "Epoch 16/50\n",
            "469/469 [==============================] - 2s 5ms/step - loss: 0.0642 - val_loss: 0.0638\n",
            "Epoch 17/50\n",
            "469/469 [==============================] - 3s 5ms/step - loss: 0.0642 - val_loss: 0.0639\n",
            "Epoch 18/50\n",
            "469/469 [==============================] - 3s 5ms/step - loss: 0.0641 - val_loss: 0.0638\n",
            "Epoch 19/50\n",
            "469/469 [==============================] - 2s 5ms/step - loss: 0.0641 - val_loss: 0.0636\n",
            "Epoch 20/50\n",
            "469/469 [==============================] - 2s 5ms/step - loss: 0.0640 - val_loss: 0.0637\n",
            "Epoch 21/50\n",
            "469/469 [==============================] - 3s 5ms/step - loss: 0.0640 - val_loss: 0.0637\n",
            "Epoch 22/50\n",
            "469/469 [==============================] - 3s 5ms/step - loss: 0.0640 - val_loss: 0.0637\n",
            "Epoch 23/50\n",
            "469/469 [==============================] - 3s 5ms/step - loss: 0.0640 - val_loss: 0.0635\n",
            "Epoch 24/50\n",
            "469/469 [==============================] - 2s 5ms/step - loss: 0.0639 - val_loss: 0.0635\n",
            "Epoch 25/50\n",
            "469/469 [==============================] - 3s 5ms/step - loss: 0.0639 - val_loss: 0.0636\n",
            "Epoch 26/50\n",
            "469/469 [==============================] - 3s 5ms/step - loss: 0.0639 - val_loss: 0.0635\n",
            "Epoch 27/50\n",
            "469/469 [==============================] - 3s 5ms/step - loss: 0.0639 - val_loss: 0.0634\n",
            "Epoch 28/50\n",
            "469/469 [==============================] - 3s 6ms/step - loss: 0.0639 - val_loss: 0.0635\n",
            "Epoch 29/50\n",
            "469/469 [==============================] - 3s 5ms/step - loss: 0.0638 - val_loss: 0.0635\n",
            "Epoch 30/50\n",
            "469/469 [==============================] - 2s 5ms/step - loss: 0.0638 - val_loss: 0.0634\n",
            "Epoch 31/50\n",
            "469/469 [==============================] - 3s 5ms/step - loss: 0.0638 - val_loss: 0.0634\n",
            "Epoch 32/50\n",
            "469/469 [==============================] - 3s 6ms/step - loss: 0.0638 - val_loss: 0.0634\n",
            "Epoch 33/50\n",
            "469/469 [==============================] - 3s 5ms/step - loss: 0.0638 - val_loss: 0.0634\n",
            "Epoch 34/50\n",
            "469/469 [==============================] - 3s 5ms/step - loss: 0.0638 - val_loss: 0.0634\n",
            "Epoch 35/50\n",
            "469/469 [==============================] - 3s 5ms/step - loss: 0.0637 - val_loss: 0.0634\n",
            "Epoch 36/50\n",
            "469/469 [==============================] - 3s 6ms/step - loss: 0.0637 - val_loss: 0.0633\n",
            "Epoch 37/50\n",
            "469/469 [==============================] - 3s 6ms/step - loss: 0.0637 - val_loss: 0.0633\n",
            "Epoch 38/50\n",
            "469/469 [==============================] - 3s 6ms/step - loss: 0.0637 - val_loss: 0.0633\n",
            "Epoch 39/50\n",
            "469/469 [==============================] - 3s 5ms/step - loss: 0.0637 - val_loss: 0.0633\n",
            "Epoch 40/50\n",
            "469/469 [==============================] - 3s 6ms/step - loss: 0.0637 - val_loss: 0.0633\n",
            "Epoch 41/50\n",
            "469/469 [==============================] - 3s 5ms/step - loss: 0.0637 - val_loss: 0.0633\n",
            "Epoch 42/50\n",
            "469/469 [==============================] - 3s 5ms/step - loss: 0.0637 - val_loss: 0.0633\n",
            "Epoch 43/50\n",
            "469/469 [==============================] - 3s 6ms/step - loss: 0.0636 - val_loss: 0.0633\n",
            "Epoch 44/50\n",
            "469/469 [==============================] - 3s 5ms/step - loss: 0.0636 - val_loss: 0.0632\n",
            "Epoch 45/50\n",
            "469/469 [==============================] - 2s 5ms/step - loss: 0.0636 - val_loss: 0.0632\n",
            "Epoch 46/50\n",
            "469/469 [==============================] - 3s 5ms/step - loss: 0.0636 - val_loss: 0.0632\n",
            "Epoch 47/50\n",
            "469/469 [==============================] - 3s 5ms/step - loss: 0.0636 - val_loss: 0.0632\n",
            "Epoch 48/50\n",
            "469/469 [==============================] - 3s 5ms/step - loss: 0.0636 - val_loss: 0.0632\n",
            "Epoch 49/50\n",
            "469/469 [==============================] - 2s 5ms/step - loss: 0.0636 - val_loss: 0.0632\n",
            "Epoch 50/50\n",
            "469/469 [==============================] - 3s 5ms/step - loss: 0.0636 - val_loss: 0.0632\n"
          ]
        },
        {
          "output_type": "execute_result",
          "data": {
            "text/plain": [
              "<keras.callbacks.History at 0x7fe9a1ca1490>"
            ]
          },
          "metadata": {},
          "execution_count": 56
        }
      ]
    },
    {
      "cell_type": "code",
      "source": [
        "encoded_imgs = autoencoder.encoder(X_test).numpy()\n",
        "decoded_imgs = autoencoder.decoder(encoded_imgs).numpy()"
      ],
      "metadata": {
        "id": "QmYCZPBA_QTD"
      },
      "execution_count": 58,
      "outputs": []
    },
    {
      "cell_type": "code",
      "source": [
        "## 복원된 이미지 출력\n",
        "n = 10   # 몇 개의 이미지 볼 것인지\n",
        "plt.figure(figsize=(20, 4))\n",
        "for i in range(n):\n",
        "  # display original\n",
        "  ax = plt.subplot(2, n, i + 1)  # 행, 열, 몇 번째\n",
        "  plt.imshow(x_test[i])\n",
        "  plt.title(\"original\")\n",
        "  plt.gray()\n",
        "  ax.get_xaxis().set_visible(False)\n",
        "  ax.get_yaxis().set_visible(False)\n",
        "\n",
        "  # display reconstruction\n",
        "  ax = plt.subplot(2, n, i + 1 + n)\n",
        "  plt.imshow(decoded_imgs[i])\n",
        "  plt.title(\"reconstructed\")\n",
        "  plt.gray()\n",
        "  ax.get_xaxis().set_visible(False)\n",
        "  ax.get_yaxis().set_visible(False)\n",
        "plt.show()"
      ],
      "metadata": {
        "colab": {
          "base_uri": "https://localhost:8080/",
          "height": 661
        },
        "id": "fKtBsanbAReB",
        "outputId": "805ece39-ed73-465c-da2a-d4b086d8809b"
      },
      "execution_count": 59,
      "outputs": [
        {
          "output_type": "error",
          "ename": "TypeError",
          "evalue": "ignored",
          "traceback": [
            "\u001b[0;31m---------------------------------------------------------------------------\u001b[0m",
            "\u001b[0;31mTypeError\u001b[0m                                 Traceback (most recent call last)",
            "\u001b[0;32m<ipython-input-59-fbc9ae71a0dd>\u001b[0m in \u001b[0;36m<module>\u001b[0;34m\u001b[0m\n\u001b[1;32m     13\u001b[0m   \u001b[0;31m# display reconstruction\u001b[0m\u001b[0;34m\u001b[0m\u001b[0;34m\u001b[0m\u001b[0;34m\u001b[0m\u001b[0m\n\u001b[1;32m     14\u001b[0m   \u001b[0max\u001b[0m \u001b[0;34m=\u001b[0m \u001b[0mplt\u001b[0m\u001b[0;34m.\u001b[0m\u001b[0msubplot\u001b[0m\u001b[0;34m(\u001b[0m\u001b[0;36m2\u001b[0m\u001b[0;34m,\u001b[0m \u001b[0mn\u001b[0m\u001b[0;34m,\u001b[0m \u001b[0mi\u001b[0m \u001b[0;34m+\u001b[0m \u001b[0;36m1\u001b[0m \u001b[0;34m+\u001b[0m \u001b[0mn\u001b[0m\u001b[0;34m)\u001b[0m\u001b[0;34m\u001b[0m\u001b[0;34m\u001b[0m\u001b[0m\n\u001b[0;32m---> 15\u001b[0;31m   \u001b[0mplt\u001b[0m\u001b[0;34m.\u001b[0m\u001b[0mimshow\u001b[0m\u001b[0;34m(\u001b[0m\u001b[0mdecoded_imgs\u001b[0m\u001b[0;34m[\u001b[0m\u001b[0mi\u001b[0m\u001b[0;34m]\u001b[0m\u001b[0;34m)\u001b[0m\u001b[0;34m\u001b[0m\u001b[0;34m\u001b[0m\u001b[0m\n\u001b[0m\u001b[1;32m     16\u001b[0m   \u001b[0mplt\u001b[0m\u001b[0;34m.\u001b[0m\u001b[0mtitle\u001b[0m\u001b[0;34m(\u001b[0m\u001b[0;34m\"reconstructed\"\u001b[0m\u001b[0;34m)\u001b[0m\u001b[0;34m\u001b[0m\u001b[0;34m\u001b[0m\u001b[0m\n\u001b[1;32m     17\u001b[0m   \u001b[0mplt\u001b[0m\u001b[0;34m.\u001b[0m\u001b[0mgray\u001b[0m\u001b[0;34m(\u001b[0m\u001b[0;34m)\u001b[0m\u001b[0;34m\u001b[0m\u001b[0;34m\u001b[0m\u001b[0m\n",
            "\u001b[0;32m/usr/local/lib/python3.7/dist-packages/matplotlib/pyplot.py\u001b[0m in \u001b[0;36mimshow\u001b[0;34m(X, cmap, norm, aspect, interpolation, alpha, vmin, vmax, origin, extent, shape, filternorm, filterrad, imlim, resample, url, data, **kwargs)\u001b[0m\n\u001b[1;32m   2649\u001b[0m         \u001b[0mfilternorm\u001b[0m\u001b[0;34m=\u001b[0m\u001b[0mfilternorm\u001b[0m\u001b[0;34m,\u001b[0m \u001b[0mfilterrad\u001b[0m\u001b[0;34m=\u001b[0m\u001b[0mfilterrad\u001b[0m\u001b[0;34m,\u001b[0m \u001b[0mimlim\u001b[0m\u001b[0;34m=\u001b[0m\u001b[0mimlim\u001b[0m\u001b[0;34m,\u001b[0m\u001b[0;34m\u001b[0m\u001b[0;34m\u001b[0m\u001b[0m\n\u001b[1;32m   2650\u001b[0m         resample=resample, url=url, **({\"data\": data} if data is not\n\u001b[0;32m-> 2651\u001b[0;31m         None else {}), **kwargs)\n\u001b[0m\u001b[1;32m   2652\u001b[0m     \u001b[0msci\u001b[0m\u001b[0;34m(\u001b[0m\u001b[0m__ret\u001b[0m\u001b[0;34m)\u001b[0m\u001b[0;34m\u001b[0m\u001b[0;34m\u001b[0m\u001b[0m\n\u001b[1;32m   2653\u001b[0m     \u001b[0;32mreturn\u001b[0m \u001b[0m__ret\u001b[0m\u001b[0;34m\u001b[0m\u001b[0;34m\u001b[0m\u001b[0m\n",
            "\u001b[0;32m/usr/local/lib/python3.7/dist-packages/matplotlib/__init__.py\u001b[0m in \u001b[0;36minner\u001b[0;34m(ax, data, *args, **kwargs)\u001b[0m\n\u001b[1;32m   1563\u001b[0m     \u001b[0;32mdef\u001b[0m \u001b[0minner\u001b[0m\u001b[0;34m(\u001b[0m\u001b[0max\u001b[0m\u001b[0;34m,\u001b[0m \u001b[0;34m*\u001b[0m\u001b[0margs\u001b[0m\u001b[0;34m,\u001b[0m \u001b[0mdata\u001b[0m\u001b[0;34m=\u001b[0m\u001b[0;32mNone\u001b[0m\u001b[0;34m,\u001b[0m \u001b[0;34m**\u001b[0m\u001b[0mkwargs\u001b[0m\u001b[0;34m)\u001b[0m\u001b[0;34m:\u001b[0m\u001b[0;34m\u001b[0m\u001b[0;34m\u001b[0m\u001b[0m\n\u001b[1;32m   1564\u001b[0m         \u001b[0;32mif\u001b[0m \u001b[0mdata\u001b[0m \u001b[0;32mis\u001b[0m \u001b[0;32mNone\u001b[0m\u001b[0;34m:\u001b[0m\u001b[0;34m\u001b[0m\u001b[0;34m\u001b[0m\u001b[0m\n\u001b[0;32m-> 1565\u001b[0;31m             \u001b[0;32mreturn\u001b[0m \u001b[0mfunc\u001b[0m\u001b[0;34m(\u001b[0m\u001b[0max\u001b[0m\u001b[0;34m,\u001b[0m \u001b[0;34m*\u001b[0m\u001b[0mmap\u001b[0m\u001b[0;34m(\u001b[0m\u001b[0msanitize_sequence\u001b[0m\u001b[0;34m,\u001b[0m \u001b[0margs\u001b[0m\u001b[0;34m)\u001b[0m\u001b[0;34m,\u001b[0m \u001b[0;34m**\u001b[0m\u001b[0mkwargs\u001b[0m\u001b[0;34m)\u001b[0m\u001b[0;34m\u001b[0m\u001b[0;34m\u001b[0m\u001b[0m\n\u001b[0m\u001b[1;32m   1566\u001b[0m \u001b[0;34m\u001b[0m\u001b[0m\n\u001b[1;32m   1567\u001b[0m         \u001b[0mbound\u001b[0m \u001b[0;34m=\u001b[0m \u001b[0mnew_sig\u001b[0m\u001b[0;34m.\u001b[0m\u001b[0mbind\u001b[0m\u001b[0;34m(\u001b[0m\u001b[0max\u001b[0m\u001b[0;34m,\u001b[0m \u001b[0;34m*\u001b[0m\u001b[0margs\u001b[0m\u001b[0;34m,\u001b[0m \u001b[0;34m**\u001b[0m\u001b[0mkwargs\u001b[0m\u001b[0;34m)\u001b[0m\u001b[0;34m\u001b[0m\u001b[0;34m\u001b[0m\u001b[0m\n",
            "\u001b[0;32m/usr/local/lib/python3.7/dist-packages/matplotlib/cbook/deprecation.py\u001b[0m in \u001b[0;36mwrapper\u001b[0;34m(*args, **kwargs)\u001b[0m\n\u001b[1;32m    356\u001b[0m                 \u001b[0;34mf\"%(removal)s.  If any parameter follows {name!r}, they \"\u001b[0m\u001b[0;34m\u001b[0m\u001b[0;34m\u001b[0m\u001b[0m\n\u001b[1;32m    357\u001b[0m                 f\"should be pass as keyword, not positionally.\")\n\u001b[0;32m--> 358\u001b[0;31m         \u001b[0;32mreturn\u001b[0m \u001b[0mfunc\u001b[0m\u001b[0;34m(\u001b[0m\u001b[0;34m*\u001b[0m\u001b[0margs\u001b[0m\u001b[0;34m,\u001b[0m \u001b[0;34m**\u001b[0m\u001b[0mkwargs\u001b[0m\u001b[0;34m)\u001b[0m\u001b[0;34m\u001b[0m\u001b[0;34m\u001b[0m\u001b[0m\n\u001b[0m\u001b[1;32m    359\u001b[0m \u001b[0;34m\u001b[0m\u001b[0m\n\u001b[1;32m    360\u001b[0m     \u001b[0;32mreturn\u001b[0m \u001b[0mwrapper\u001b[0m\u001b[0;34m\u001b[0m\u001b[0;34m\u001b[0m\u001b[0m\n",
            "\u001b[0;32m/usr/local/lib/python3.7/dist-packages/matplotlib/cbook/deprecation.py\u001b[0m in \u001b[0;36mwrapper\u001b[0;34m(*args, **kwargs)\u001b[0m\n\u001b[1;32m    356\u001b[0m                 \u001b[0;34mf\"%(removal)s.  If any parameter follows {name!r}, they \"\u001b[0m\u001b[0;34m\u001b[0m\u001b[0;34m\u001b[0m\u001b[0m\n\u001b[1;32m    357\u001b[0m                 f\"should be pass as keyword, not positionally.\")\n\u001b[0;32m--> 358\u001b[0;31m         \u001b[0;32mreturn\u001b[0m \u001b[0mfunc\u001b[0m\u001b[0;34m(\u001b[0m\u001b[0;34m*\u001b[0m\u001b[0margs\u001b[0m\u001b[0;34m,\u001b[0m \u001b[0;34m**\u001b[0m\u001b[0mkwargs\u001b[0m\u001b[0;34m)\u001b[0m\u001b[0;34m\u001b[0m\u001b[0;34m\u001b[0m\u001b[0m\n\u001b[0m\u001b[1;32m    359\u001b[0m \u001b[0;34m\u001b[0m\u001b[0m\n\u001b[1;32m    360\u001b[0m     \u001b[0;32mreturn\u001b[0m \u001b[0mwrapper\u001b[0m\u001b[0;34m\u001b[0m\u001b[0;34m\u001b[0m\u001b[0m\n",
            "\u001b[0;32m/usr/local/lib/python3.7/dist-packages/matplotlib/axes/_axes.py\u001b[0m in \u001b[0;36mimshow\u001b[0;34m(self, X, cmap, norm, aspect, interpolation, alpha, vmin, vmax, origin, extent, shape, filternorm, filterrad, imlim, resample, url, **kwargs)\u001b[0m\n\u001b[1;32m   5624\u001b[0m                               resample=resample, **kwargs)\n\u001b[1;32m   5625\u001b[0m \u001b[0;34m\u001b[0m\u001b[0m\n\u001b[0;32m-> 5626\u001b[0;31m         \u001b[0mim\u001b[0m\u001b[0;34m.\u001b[0m\u001b[0mset_data\u001b[0m\u001b[0;34m(\u001b[0m\u001b[0mX\u001b[0m\u001b[0;34m)\u001b[0m\u001b[0;34m\u001b[0m\u001b[0;34m\u001b[0m\u001b[0m\n\u001b[0m\u001b[1;32m   5627\u001b[0m         \u001b[0mim\u001b[0m\u001b[0;34m.\u001b[0m\u001b[0mset_alpha\u001b[0m\u001b[0;34m(\u001b[0m\u001b[0malpha\u001b[0m\u001b[0;34m)\u001b[0m\u001b[0;34m\u001b[0m\u001b[0;34m\u001b[0m\u001b[0m\n\u001b[1;32m   5628\u001b[0m         \u001b[0;32mif\u001b[0m \u001b[0mim\u001b[0m\u001b[0;34m.\u001b[0m\u001b[0mget_clip_path\u001b[0m\u001b[0;34m(\u001b[0m\u001b[0;34m)\u001b[0m \u001b[0;32mis\u001b[0m \u001b[0;32mNone\u001b[0m\u001b[0;34m:\u001b[0m\u001b[0;34m\u001b[0m\u001b[0;34m\u001b[0m\u001b[0m\n",
            "\u001b[0;32m/usr/local/lib/python3.7/dist-packages/matplotlib/image.py\u001b[0m in \u001b[0;36mset_data\u001b[0;34m(self, A)\u001b[0m\n\u001b[1;32m    697\u001b[0m                 or self._A.ndim == 3 and self._A.shape[-1] in [3, 4]):\n\u001b[1;32m    698\u001b[0m             raise TypeError(\"Invalid shape {} for image data\"\n\u001b[0;32m--> 699\u001b[0;31m                             .format(self._A.shape))\n\u001b[0m\u001b[1;32m    700\u001b[0m \u001b[0;34m\u001b[0m\u001b[0m\n\u001b[1;32m    701\u001b[0m         \u001b[0;32mif\u001b[0m \u001b[0mself\u001b[0m\u001b[0;34m.\u001b[0m\u001b[0m_A\u001b[0m\u001b[0;34m.\u001b[0m\u001b[0mndim\u001b[0m \u001b[0;34m==\u001b[0m \u001b[0;36m3\u001b[0m\u001b[0;34m:\u001b[0m\u001b[0;34m\u001b[0m\u001b[0;34m\u001b[0m\u001b[0m\n",
            "\u001b[0;31mTypeError\u001b[0m: Invalid shape (28, 28, 1) for image data"
          ]
        },
        {
          "output_type": "display_data",
          "data": {
            "text/plain": [
              "<Figure size 1440x288 with 2 Axes>"
            ],
            "image/png": "[encoded data removed]"
          },
          "metadata": {
            "needs_background": "light"
          }
        }
      ]
    },
    {
      "cell_type": "code",
      "source": [
        "# 정답\n",
        "n = 10\n",
        "plt.figure(figsize=(20, 4))\n",
        "for i in range(n):\n",
        "  ax = plt.subplot(2, n, i + 1)\n",
        "  plt.imshow(x_test[i])\n",
        "  plt.title(\"original\")\n",
        "  plt.gray()\n",
        "  ax.get_xaxis().set_visible(False)\n",
        "  ax.get_yaxis().set_visible(False)\n",
        "  ax = plt.subplot(2, n, i + 1 + n)\n",
        "  plt.imshow(reconstructed[i])\n",
        "  plt.title(\"reconstructed\")\n",
        "  plt.gray()\n",
        "  ax.get_xaxis().set_visible(False)\n",
        "  ax.get_yaxis().set_visible(False)\n",
        "plt.show()"
      ],
      "metadata": {
        "colab": {
          "base_uri": "https://localhost:8080/",
          "height": 510
        },
        "id": "lMmL18RS_RBt",
        "outputId": "e5a0fa58-4c38-4b96-89cd-ae2514bc9d55"
      },
      "execution_count": 60,
      "outputs": [
        {
          "output_type": "error",
          "ename": "NameError",
          "evalue": "ignored",
          "traceback": [
            "\u001b[0;31m---------------------------------------------------------------------------\u001b[0m",
            "\u001b[0;31mNameError\u001b[0m                                 Traceback (most recent call last)",
            "\u001b[0;32m<ipython-input-60-3e19ed6269e6>\u001b[0m in \u001b[0;36m<module>\u001b[0;34m\u001b[0m\n\u001b[1;32m     10\u001b[0m   \u001b[0max\u001b[0m\u001b[0;34m.\u001b[0m\u001b[0mget_yaxis\u001b[0m\u001b[0;34m(\u001b[0m\u001b[0;34m)\u001b[0m\u001b[0;34m.\u001b[0m\u001b[0mset_visible\u001b[0m\u001b[0;34m(\u001b[0m\u001b[0;32mFalse\u001b[0m\u001b[0;34m)\u001b[0m\u001b[0;34m\u001b[0m\u001b[0;34m\u001b[0m\u001b[0m\n\u001b[1;32m     11\u001b[0m   \u001b[0max\u001b[0m \u001b[0;34m=\u001b[0m \u001b[0mplt\u001b[0m\u001b[0;34m.\u001b[0m\u001b[0msubplot\u001b[0m\u001b[0;34m(\u001b[0m\u001b[0;36m2\u001b[0m\u001b[0;34m,\u001b[0m \u001b[0mn\u001b[0m\u001b[0;34m,\u001b[0m \u001b[0mi\u001b[0m \u001b[0;34m+\u001b[0m \u001b[0;36m1\u001b[0m \u001b[0;34m+\u001b[0m \u001b[0mn\u001b[0m\u001b[0;34m)\u001b[0m\u001b[0;34m\u001b[0m\u001b[0;34m\u001b[0m\u001b[0m\n\u001b[0;32m---> 12\u001b[0;31m   \u001b[0mplt\u001b[0m\u001b[0;34m.\u001b[0m\u001b[0mimshow\u001b[0m\u001b[0;34m(\u001b[0m\u001b[0mreconstructed\u001b[0m\u001b[0;34m[\u001b[0m\u001b[0mi\u001b[0m\u001b[0;34m]\u001b[0m\u001b[0;34m)\u001b[0m\u001b[0;34m\u001b[0m\u001b[0;34m\u001b[0m\u001b[0m\n\u001b[0m\u001b[1;32m     13\u001b[0m   \u001b[0mplt\u001b[0m\u001b[0;34m.\u001b[0m\u001b[0mtitle\u001b[0m\u001b[0;34m(\u001b[0m\u001b[0;34m\"reconstructed\"\u001b[0m\u001b[0;34m)\u001b[0m\u001b[0;34m\u001b[0m\u001b[0;34m\u001b[0m\u001b[0m\n\u001b[1;32m     14\u001b[0m   \u001b[0mplt\u001b[0m\u001b[0;34m.\u001b[0m\u001b[0mgray\u001b[0m\u001b[0;34m(\u001b[0m\u001b[0;34m)\u001b[0m\u001b[0;34m\u001b[0m\u001b[0;34m\u001b[0m\u001b[0m\n",
            "\u001b[0;31mNameError\u001b[0m: name 'reconstructed' is not defined"
          ]
        },
        {
          "output_type": "display_data",
          "data": {
            "text/plain": [
              "<Figure size 1440x288 with 2 Axes>"
            ],
            "image/png": "[encoded data removed]"
          },
          "metadata": {
            "needs_background": "light"
          }
        }
      ]
    },
    {
      "cell_type": "markdown",
      "source": [
        "# denoising autoencoder"
      ],
      "metadata": {
        "id": "vOgol2dfA6EP"
      }
    },
    {
      "cell_type": "code",
      "source": [
        "(x_train, _), (x_test, _) = fashion_mnist.load_data()\n",
        "x_train = x_train.astype('float32') / 255\n",
        "x_test = x_test.astype('float32') / 255\n",
        "# 차원을 늘리는 이유 : CNN은 4차원으로 데이터가 입력\n",
        "x_train = x_train[..., tf.newaxis] # 말단에 차원을 확대해서\n",
        "x_test = x_test[..., tf.newaxis]\n",
        "print(x_train.shape) # 4차원 데이터로 생성\n",
        "# FFNN에서는 이미지가 60000, 28, 28 이런식으로 들어감 ## 16:47"
      ],
      "metadata": {
        "colab": {
          "base_uri": "https://localhost:8080/"
        },
        "id": "lvMiTeoS_nhi",
        "outputId": "c964f920-f344-4077-f0f4-ea618b9ba95e"
      },
      "execution_count": 61,
      "outputs": [
        {
          "output_type": "stream",
          "name": "stdout",
          "text": [
            "(60000, 28, 28, 1)\n"
          ]
        }
      ]
    },
    {
      "cell_type": "code",
      "source": [
        "noise_factor = 0.2\n",
        "x_train_noisy = x_train + noise_factor * tf.random.normal(shape=x_train.shape)\n",
        "x_test_noisy = x_test + noise_factor * tf.random.normal(shape=x_test.shape)\n",
        "# 부동소수점 이미지의 범위는 0 ~ 1 사이로 정규화된 이미지\n",
        "x_train_noisy = tf.clip_by_value(x_train_noisy, clip_value_min=0., clip_value_max=1.)\n",
        "x_test_noisy = tf.clip_by_value(x_test_noisy, clip_value_min=0., clip_value_max=1.)"
      ],
      "metadata": {
        "id": "22dLHFBOBTub"
      },
      "execution_count": 62,
      "outputs": []
    },
    {
      "cell_type": "code",
      "source": [
        "n = 10\n",
        "plt.figure(figsize=(20,2))\n",
        "for i in range(n):\n",
        "  ax = plt.subplot(1, n, i + 1)\n",
        "  plt.title(\"original + noise\")\n",
        "  plt.imshow(tf.squeeze(x_test_noisy[i])) ## 16:48\n",
        "  plt.gray()\n",
        "plt.show()"
      ],
      "metadata": {
        "colab": {
          "base_uri": "https://localhost:8080/",
          "height": 158
        },
        "id": "AAYXrWLnBwdH",
        "outputId": "a4cfa1b7-1aa9-4b3c-bcc9-d70866906200"
      },
      "execution_count": 63,
      "outputs": [
        {
          "output_type": "display_data",
          "data": {
            "text/plain": [
              "<Figure size 1440x144 with 10 Axes>"
            ],
            "image/png": "[encoded data removed]"
          },
          "metadata": {
            "needs_background": "light"
          }
        }
      ]
    },
    {
      "cell_type": "code",
      "source": [
        "## 16:45 ## 17:07\n",
        "class Denoise(Model):\n",
        "  def __init__(self):\n",
        "    super(Denoise, self).__init__()\n",
        "    self.encoder = tf.keras.Sequential([\n",
        "        layers.Input(shape=(28, 28, 1)), # 명시적으로 입력 데이터 사이즈를 표현\n",
        "        # ? 28, 28, 1\n",
        "        # ? 14, 14, 16\n",
        "        layers.Conv2D(16, (3, 3), activation='relu', padding = 'same', strides=2), \n",
        "        # ? 7, 7, 8 ## 그럼 몇개의 특성으로 잡아낸거에요? 7 * 7 * 8 이니까 392개의 주성분\n",
        "        # 2개씩 건너 뛰게 되는 것 - pooling을 더 선호한다( 더 정확하기 때문 ) ## 중복 방지(strides=2)\n",
        "        layers.Conv2D(8, (3, 3), activation='relu', padding = 'same', strides=2)]) # 392개의 주성분\n",
        "    self.decoder = tf.keras.Sequential([\n",
        "        # 계산의 정확성은 UpSampling보다 더 정교하다고 볼 수 있음\n",
        "        layers.Conv2DTranspose(8, kernel_size=3, strides=2, activation='relu', padding='same'), ## 사이즈가 배로 넘어가 # ? 14 14 8\n",
        "        layers.Conv2DTranspose(16, kernel_size=3, strides=2, activation='relu', padding='same'), # ? 28 28 16\n",
        "        layers.Conv2D(1, kernel_size=(3,3), activation='sigmoid', padding='same')]) #?, 28, 28, 1 # 복원된 이미지\n",
        "  def call(self, x):\n",
        "    encoded = self.encoder(x)\n",
        "    decoded = self.decoder(encoded)\n",
        "    return decoded\n",
        "autoencoder = Denoise()\n",
        "    "
      ],
      "metadata": {
        "id": "2XbHO8QvCDm4"
      },
      "execution_count": 64,
      "outputs": []
    },
    {
      "cell_type": "code",
      "source": [
        "class Denoise(Model):\n",
        "  def __init__(self):\n",
        "    super(Denoise, self).__init__()\n",
        "    self.encoder = tf.keras.Sequential([\n",
        "      layers.Input(shape=(28, 28, 1)), # 이미지가 28x28 픽셀\n",
        "      layers.Conv2D(16, (3,3), activation='relu', padding='same', strides=2),  #Conv2D(필터 수, 커널의 (행,열) ...)  # zero padding\n",
        "      layers.Conv2D(8, (3,3), activation='relu', padding='same', strides=2)])\n",
        "    \n",
        "    self.decoder = tf.keras.Sequential([\n",
        "      layers.Conv2DTranspose(8, kernel_size=3, strides=2, activation='relu', padding='same'),\n",
        "      layers.Conv2DTranspose(16, kernel_size=3, strides=2, activation='relu', padding='same'),\n",
        "      layers.Conv2D(1, kernel_size=(3,3), activation='sigmoid', padding='same')])  # output크기 맞춤\n",
        "    \n",
        "  def call(self, x):\n",
        "    encoded = self.encoder(x)\n",
        "    decoded = self.decoder(encoded)\n",
        "    return decoded\n",
        "\n",
        "autoencoder = Denoise()"
      ],
      "metadata": {
        "id": "hrBQVmHPFmM8"
      },
      "execution_count": 65,
      "outputs": []
    },
    {
      "cell_type": "code",
      "source": [
        "autoencoder.compile(optimizer='adam', loss=losses.MeanSquaredError())\n",
        "autoencoder.fit(x_train_noisy, X_train, epochs=10, shuffle=True, validation_data=(x_test_noisy, x_test))"
      ],
      "metadata": {
        "colab": {
          "base_uri": "https://localhost:8080/"
        },
        "id": "Koi6iWb4DSAV",
        "outputId": "7d9dca11-7d05-42a3-f342-d65be8ab57c6"
      },
      "execution_count": 66,
      "outputs": [
        {
          "output_type": "stream",
          "name": "stdout",
          "text": [
            "Epoch 1/10\n",
            "1875/1875 [==============================] - 7s 4ms/step - loss: 0.1137 - val_loss: 0.2065\n",
            "Epoch 2/10\n",
            "1875/1875 [==============================] - 6s 3ms/step - loss: 0.1120 - val_loss: 0.2065\n",
            "Epoch 3/10\n",
            "1875/1875 [==============================] - 7s 4ms/step - loss: 0.1120 - val_loss: 0.2065\n",
            "Epoch 4/10\n",
            "1875/1875 [==============================] - 6s 3ms/step - loss: 0.1120 - val_loss: 0.2065\n",
            "Epoch 5/10\n",
            "1875/1875 [==============================] - 7s 4ms/step - loss: 0.1120 - val_loss: 0.2065\n",
            "Epoch 6/10\n",
            "1875/1875 [==============================] - 7s 4ms/step - loss: 0.1120 - val_loss: 0.2065\n",
            "Epoch 7/10\n",
            "1875/1875 [==============================] - 7s 4ms/step - loss: 0.1120 - val_loss: 0.2065\n",
            "Epoch 8/10\n",
            "1875/1875 [==============================] - 6s 3ms/step - loss: 0.1120 - val_loss: 0.2065\n",
            "Epoch 9/10\n",
            "1875/1875 [==============================] - 6s 3ms/step - loss: 0.1120 - val_loss: 0.2065\n",
            "Epoch 10/10\n",
            "1875/1875 [==============================] - 7s 4ms/step - loss: 0.1120 - val_loss: 0.2065\n"
          ]
        },
        {
          "output_type": "execute_result",
          "data": {
            "text/plain": [
              "<keras.callbacks.History at 0x7fe9a062be90>"
            ]
          },
          "metadata": {},
          "execution_count": 66
        }
      ]
    },
    {
      "cell_type": "code",
      "source": [
        "encoded_imgs = autoencoder.encoder(x_test).numpy()\n",
        "decoded_imgs = autoencoder.decoder(encoded_imgs).numpy()"
      ],
      "metadata": {
        "id": "P3_XCIVcD6a6"
      },
      "execution_count": null,
      "outputs": []
    },
    {
      "cell_type": "code",
      "source": [
        "n = 10\n",
        "plt.figure(figsize=(20, 4))\n",
        "for i in range(n):\n",
        "  ax = plt.subplot(2, n, i + 1)\n",
        "  plt.title(\"original + noise\")\n",
        "  plt.imshow(tf.squeeze(x_test_noisy[i]))\n",
        "  plt.gray()\n",
        "  ax.get_xaxis().set_visible(False)\n",
        "  ax.get_yaxis().set_visible(False)\n",
        "\n",
        "  # display reconstruction\n",
        "  bx = plt.subplot(2, n, i + 1 + n)\n",
        "  plt.imshow(decoded_imgs[i])\n",
        "  plt.title(\"reconstructed\")\n",
        "  plt.gray()\n",
        "  bx.get_xaxis().set_visible(False)\n",
        "  bx.get_yaxis().set_visible(False)\n",
        "plt.show()"
      ],
      "metadata": {
        "colab": {
          "base_uri": "https://localhost:8080/",
          "height": 248
        },
        "id": "mXOk0bXzENXH",
        "outputId": "462c43a5-0edb-4fbf-d61d-ca32fd1e40a1"
      },
      "execution_count": 21,
      "outputs": [
        {
          "output_type": "error",
          "ename": "NameError",
          "evalue": "ignored",
          "traceback": [
            "\u001b[0;31m---------------------------------------------------------------------------\u001b[0m",
            "\u001b[0;31mNameError\u001b[0m                                 Traceback (most recent call last)",
            "\u001b[0;32m<ipython-input-21-9059d458bca8>\u001b[0m in \u001b[0;36m<module>\u001b[0;34m\u001b[0m\n\u001b[1;32m      1\u001b[0m \u001b[0mn\u001b[0m \u001b[0;34m=\u001b[0m \u001b[0;36m10\u001b[0m\u001b[0;34m\u001b[0m\u001b[0;34m\u001b[0m\u001b[0m\n\u001b[0;32m----> 2\u001b[0;31m \u001b[0mplt\u001b[0m\u001b[0;34m.\u001b[0m\u001b[0mfigure\u001b[0m\u001b[0;34m(\u001b[0m\u001b[0mfigsize\u001b[0m\u001b[0;34m=\u001b[0m\u001b[0;34m(\u001b[0m\u001b[0;36m20\u001b[0m\u001b[0;34m,\u001b[0m \u001b[0;36m4\u001b[0m\u001b[0;34m)\u001b[0m\u001b[0;34m)\u001b[0m\u001b[0;34m\u001b[0m\u001b[0;34m\u001b[0m\u001b[0m\n\u001b[0m\u001b[1;32m      3\u001b[0m \u001b[0;32mfor\u001b[0m \u001b[0mi\u001b[0m \u001b[0;32min\u001b[0m \u001b[0mrange\u001b[0m\u001b[0;34m(\u001b[0m\u001b[0mn\u001b[0m\u001b[0;34m)\u001b[0m\u001b[0;34m:\u001b[0m\u001b[0;34m\u001b[0m\u001b[0;34m\u001b[0m\u001b[0m\n\u001b[1;32m      4\u001b[0m   \u001b[0max\u001b[0m \u001b[0;34m=\u001b[0m \u001b[0mplt\u001b[0m\u001b[0;34m.\u001b[0m\u001b[0msubplot\u001b[0m\u001b[0;34m(\u001b[0m\u001b[0;36m2\u001b[0m\u001b[0;34m,\u001b[0m \u001b[0mn\u001b[0m\u001b[0;34m,\u001b[0m \u001b[0mi\u001b[0m \u001b[0;34m+\u001b[0m \u001b[0;36m1\u001b[0m\u001b[0;34m)\u001b[0m\u001b[0;34m\u001b[0m\u001b[0;34m\u001b[0m\u001b[0m\n\u001b[1;32m      5\u001b[0m   \u001b[0mplt\u001b[0m\u001b[0;34m.\u001b[0m\u001b[0mtitle\u001b[0m\u001b[0;34m(\u001b[0m\u001b[0;34m\"original + noise\"\u001b[0m\u001b[0;34m)\u001b[0m\u001b[0;34m\u001b[0m\u001b[0;34m\u001b[0m\u001b[0m\n",
            "\u001b[0;31mNameError\u001b[0m: name 'plt' is not defined"
          ]
        }
      ]
    },
    {
      "cell_type": "code",
      "source": [
        "n = 10\n",
        "plt.figure(figsize=(20, 4))\n",
        "for i in range(n):\n",
        "\n",
        "    # display original + noise\n",
        "    ax = plt.subplot(2, n, i + 1)\n",
        "    plt.title(\"original + noise\")\n",
        "    plt.imshow(tf.squeeze(x_test_noisy[i]))\n",
        "    plt.gray()\n",
        "    ax.get_xaxis().set_visible(False)\n",
        "    ax.get_yaxis().set_visible(False)\n",
        "\n",
        "    # display reconstruction\n",
        "    bx = plt.subplot(2, n, i + n + 1)\n",
        "    plt.title(\"reconstructed\")\n",
        "    plt.imshow(tf.squeeze(decoded_imgs[i])) # 1차수를 제거 28 x 28 x 1 x 1 x 1\n",
        "    plt.gray()\n",
        "    bx.get_xaxis().set_visible(False)\n",
        "    bx.get_yaxis().set_visible(False)\n",
        "plt.show()"
      ],
      "metadata": {
        "colab": {
          "base_uri": "https://localhost:8080/",
          "height": 394
        },
        "id": "vpUopwhgEVWz",
        "outputId": "078acb9a-89a7-4081-c76f-1e2de155f386"
      },
      "execution_count": 57,
      "outputs": [
        {
          "output_type": "error",
          "ename": "NameError",
          "evalue": "ignored",
          "traceback": [
            "\u001b[0;31m---------------------------------------------------------------------------\u001b[0m",
            "\u001b[0;31mNameError\u001b[0m                                 Traceback (most recent call last)",
            "\u001b[0;32m<ipython-input-57-b781149789c5>\u001b[0m in \u001b[0;36m<module>\u001b[0;34m\u001b[0m\n\u001b[1;32m      6\u001b[0m     \u001b[0max\u001b[0m \u001b[0;34m=\u001b[0m \u001b[0mplt\u001b[0m\u001b[0;34m.\u001b[0m\u001b[0msubplot\u001b[0m\u001b[0;34m(\u001b[0m\u001b[0;36m2\u001b[0m\u001b[0;34m,\u001b[0m \u001b[0mn\u001b[0m\u001b[0;34m,\u001b[0m \u001b[0mi\u001b[0m \u001b[0;34m+\u001b[0m \u001b[0;36m1\u001b[0m\u001b[0;34m)\u001b[0m\u001b[0;34m\u001b[0m\u001b[0;34m\u001b[0m\u001b[0m\n\u001b[1;32m      7\u001b[0m     \u001b[0mplt\u001b[0m\u001b[0;34m.\u001b[0m\u001b[0mtitle\u001b[0m\u001b[0;34m(\u001b[0m\u001b[0;34m\"original + noise\"\u001b[0m\u001b[0;34m)\u001b[0m\u001b[0;34m\u001b[0m\u001b[0;34m\u001b[0m\u001b[0m\n\u001b[0;32m----> 8\u001b[0;31m     \u001b[0mplt\u001b[0m\u001b[0;34m.\u001b[0m\u001b[0mimshow\u001b[0m\u001b[0;34m(\u001b[0m\u001b[0mtf\u001b[0m\u001b[0;34m.\u001b[0m\u001b[0msqueeze\u001b[0m\u001b[0;34m(\u001b[0m\u001b[0mx_test_noisy\u001b[0m\u001b[0;34m[\u001b[0m\u001b[0mi\u001b[0m\u001b[0;34m]\u001b[0m\u001b[0;34m)\u001b[0m\u001b[0;34m)\u001b[0m\u001b[0;34m\u001b[0m\u001b[0;34m\u001b[0m\u001b[0m\n\u001b[0m\u001b[1;32m      9\u001b[0m     \u001b[0mplt\u001b[0m\u001b[0;34m.\u001b[0m\u001b[0mgray\u001b[0m\u001b[0;34m(\u001b[0m\u001b[0;34m)\u001b[0m\u001b[0;34m\u001b[0m\u001b[0;34m\u001b[0m\u001b[0m\n\u001b[1;32m     10\u001b[0m     \u001b[0max\u001b[0m\u001b[0;34m.\u001b[0m\u001b[0mget_xaxis\u001b[0m\u001b[0;34m(\u001b[0m\u001b[0;34m)\u001b[0m\u001b[0;34m.\u001b[0m\u001b[0mset_visible\u001b[0m\u001b[0;34m(\u001b[0m\u001b[0;32mFalse\u001b[0m\u001b[0;34m)\u001b[0m\u001b[0;34m\u001b[0m\u001b[0;34m\u001b[0m\u001b[0m\n",
            "\u001b[0;31mNameError\u001b[0m: name 'x_test_noisy' is not defined"
          ]
        },
        {
          "output_type": "display_data",
          "data": {
            "text/plain": [
              "<Figure size 1440x288 with 1 Axes>"
            ],
            "image/png": "[encoded data removed]"
          },
          "metadata": {
            "needs_background": "light"
          }
        }
      ]
    },
    {
      "cell_type": "code",
      "source": [],
      "metadata": {
        "id": "XS2UpwOxFbCS"
      },
      "execution_count": null,
      "outputs": []
    }
  ]
}